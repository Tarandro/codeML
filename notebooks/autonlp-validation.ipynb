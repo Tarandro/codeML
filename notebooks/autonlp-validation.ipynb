{
 "cells": [
  {
   "cell_type": "code",
   "execution_count": 1,
   "metadata": {
    "_cell_guid": "b1076dfc-b9ad-4769-8c92-a6c4dae69d19",
    "_uuid": "8f2839f25d086af736a60e9eeb907d3b93b6e0e5",
    "execution": {
     "iopub.execute_input": "2021-09-28T14:06:05.761844Z",
     "iopub.status.busy": "2021-09-28T14:06:05.761122Z",
     "iopub.status.idle": "2021-09-28T14:06:07.044670Z",
     "shell.execute_reply": "2021-09-28T14:06:07.043238Z",
     "shell.execute_reply.started": "2021-09-28T12:43:07.626847Z"
    },
    "papermill": {
     "duration": 1.313134,
     "end_time": "2021-09-28T14:06:07.045023",
     "exception": false,
     "start_time": "2021-09-28T14:06:05.731889",
     "status": "completed"
    },
    "tags": []
   },
   "outputs": [],
   "source": [
    "# git clone package:\n",
    "# !git clone <path_package>\n",
    "# or copy package :\n",
    "!cp -r /kaggle/input/autonlp-git/SentimentML-main /kaggle/working"
   ]
  },
  {
   "cell_type": "code",
   "execution_count": 2,
   "metadata": {
    "execution": {
     "iopub.execute_input": "2021-09-28T14:06:07.106841Z",
     "iopub.status.busy": "2021-09-28T14:06:07.105915Z",
     "iopub.status.idle": "2021-09-28T14:06:07.110870Z",
     "shell.execute_reply": "2021-09-28T14:06:07.111429Z",
     "shell.execute_reply.started": "2021-09-28T12:43:08.812677Z"
    },
    "papermill": {
     "duration": 0.039727,
     "end_time": "2021-09-28T14:06:07.111621",
     "exception": false,
     "start_time": "2021-09-28T14:06:07.071894",
     "status": "completed"
    },
    "tags": []
   },
   "outputs": [
    {
     "data": {
      "text/plain": [
       "'/kaggle/working/SentimentML-main'"
      ]
     },
     "execution_count": 2,
     "metadata": {},
     "output_type": "execute_result"
    }
   ],
   "source": [
    "import os\n",
    "# directory of package :\n",
    "fd = os.open(\"/kaggle/working/SentimentML-main\", os.O_RDONLY )\n",
    "os.fchdir(fd)\n",
    "os.getcwd()"
   ]
  },
  {
   "cell_type": "code",
   "execution_count": 3,
   "metadata": {
    "_kg_hide-output": true,
    "execution": {
     "iopub.execute_input": "2021-09-28T14:06:07.168245Z",
     "iopub.status.busy": "2021-09-28T14:06:07.164159Z",
     "iopub.status.idle": "2021-09-28T14:07:53.109451Z",
     "shell.execute_reply": "2021-09-28T14:07:53.108289Z",
     "shell.execute_reply.started": "2021-09-28T12:43:08.822304Z"
    },
    "papermill": {
     "duration": 105.974366,
     "end_time": "2021-09-28T14:07:53.109645",
     "exception": false,
     "start_time": "2021-09-28T14:06:07.135279",
     "status": "completed"
    },
    "tags": []
   },
   "outputs": [
    {
     "name": "stdout",
     "output_type": "stream",
     "text": [
      "Requirement already satisfied: requests==2.25.1 in /opt/conda/lib/python3.7/site-packages (from -r requirements.txt (line 1)) (2.25.1)\r\n",
      "Collecting textblob_fr==0.2.0\r\n",
      "  Downloading textblob_fr-0.2.0-py2.py3-none-any.whl (561 kB)\r\n",
      "\u001b[K     |████████████████████████████████| 561 kB 807 kB/s \r\n",
      "\u001b[?25hCollecting streamlit==0.83.0\r\n",
      "  Downloading streamlit-0.83.0-py2.py3-none-any.whl (7.7 MB)\r\n",
      "\u001b[K     |████████████████████████████████| 7.7 MB 14.7 MB/s \r\n",
      "\u001b[?25hCollecting pytest==6.2.5\r\n",
      "  Downloading pytest-6.2.5-py3-none-any.whl (280 kB)\r\n",
      "\u001b[K     |████████████████████████████████| 280 kB 61.3 MB/s \r\n",
      "\u001b[?25hRequirement already satisfied: dataclasses==0.6 in /opt/conda/lib/python3.7/site-packages (from -r requirements.txt (line 5)) (0.6)\r\n",
      "Collecting matplotlib==3.3.2\r\n",
      "  Downloading matplotlib-3.3.2-cp37-cp37m-manylinux1_x86_64.whl (11.6 MB)\r\n",
      "\u001b[K     |████████████████████████████████| 11.6 MB 49.8 MB/s \r\n",
      "\u001b[?25hCollecting sentence_transformers==2.0.0\r\n",
      "  Downloading sentence-transformers-2.0.0.tar.gz (85 kB)\r\n",
      "\u001b[K     |████████████████████████████████| 85 kB 3.0 MB/s \r\n",
      "\u001b[?25hCollecting umap_learn==0.5.1\r\n",
      "  Downloading umap-learn-0.5.1.tar.gz (80 kB)\r\n",
      "\u001b[K     |████████████████████████████████| 80 kB 6.4 MB/s \r\n",
      "\u001b[?25hCollecting gensim==4.0.1\r\n",
      "  Downloading gensim-4.0.1-cp37-cp37m-manylinux1_x86_64.whl (23.9 MB)\r\n",
      "\u001b[K     |████████████████████████████████| 23.9 MB 37.1 MB/s \r\n",
      "\u001b[?25hCollecting transformers==4.9.0\r\n",
      "  Downloading transformers-4.9.0-py3-none-any.whl (2.6 MB)\r\n",
      "\u001b[K     |████████████████████████████████| 2.6 MB 47.1 MB/s \r\n",
      "\u001b[?25hCollecting seaborn==0.11.0\r\n",
      "  Downloading seaborn-0.11.0-py3-none-any.whl (283 kB)\r\n",
      "\u001b[K     |████████████████████████████████| 283 kB 54.8 MB/s \r\n",
      "\u001b[?25hCollecting tqdm==4.50.2\r\n",
      "  Downloading tqdm-4.50.2-py2.py3-none-any.whl (70 kB)\r\n",
      "\u001b[K     |████████████████████████████████| 70 kB 6.3 MB/s \r\n",
      "\u001b[?25hCollecting pandas==1.3.0\r\n",
      "  Downloading pandas-1.3.0-cp37-cp37m-manylinux_2_5_x86_64.manylinux1_x86_64.whl (10.8 MB)\r\n",
      "\u001b[K     |████████████████████████████████| 10.8 MB 46.9 MB/s \r\n",
      "\u001b[?25hRequirement already satisfied: textblob==0.15.3 in /opt/conda/lib/python3.7/site-packages (from -r requirements.txt (line 14)) (0.15.3)\r\n",
      "Collecting joblib==0.17.0\r\n",
      "  Downloading joblib-0.17.0-py3-none-any.whl (301 kB)\r\n",
      "\u001b[K     |████████████████████████████████| 301 kB 52.1 MB/s \r\n",
      "\u001b[?25hCollecting xgboost==1.4.2\r\n",
      "  Downloading xgboost-1.4.2-py3-none-manylinux2010_x86_64.whl (166.7 MB)\r\n",
      "\u001b[K     |████████████████████████████████| 166.7 MB 11 kB/s \r\n",
      "\u001b[?25hCollecting uvicorn==0.13.4\r\n",
      "  Downloading uvicorn-0.13.4-py3-none-any.whl (46 kB)\r\n",
      "\u001b[K     |████████████████████████████████| 46 kB 2.5 MB/s \r\n",
      "\u001b[?25hCollecting spacy==3.0.5\r\n",
      "  Downloading spacy-3.0.5-cp37-cp37m-manylinux2014_x86_64.whl (12.8 MB)\r\n",
      "\u001b[K     |████████████████████████████████| 12.8 MB 50.9 MB/s \r\n",
      "\u001b[?25hCollecting tensorflow==2.4.1\r\n",
      "  Downloading tensorflow-2.4.1-cp37-cp37m-manylinux2010_x86_64.whl (394.3 MB)\r\n",
      "\u001b[K     |████████████████████████████████| 394.3 MB 7.6 kB/s \r\n",
      "\u001b[?25hRequirement already satisfied: wordcloud==1.8.1 in /opt/conda/lib/python3.7/site-packages (from -r requirements.txt (line 20)) (1.8.1)\r\n",
      "Collecting ray==1.2.0\r\n",
      "  Downloading ray-1.2.0-cp37-cp37m-manylinux2014_x86_64.whl (47.5 MB)\r\n",
      "\u001b[K     |████████████████████████████████| 47.5 MB 62.5 MB/s \r\n",
      "\u001b[?25hCollecting numpy==1.19.2\r\n",
      "  Downloading numpy-1.19.2-cp37-cp37m-manylinux2010_x86_64.whl (14.5 MB)\r\n",
      "\u001b[K     |████████████████████████████████| 14.5 MB 50.2 MB/s \r\n",
      "\u001b[?25hRequirement already satisfied: plotly==4.14.3 in /opt/conda/lib/python3.7/site-packages (from -r requirements.txt (line 23)) (4.14.3)\r\n",
      "Collecting fastapi==0.68.1\r\n",
      "  Downloading fastapi-0.68.1-py3-none-any.whl (52 kB)\r\n",
      "\u001b[K     |████████████████████████████████| 52 kB 576 kB/s \r\n",
      "\u001b[?25hCollecting ipython==7.27.0\r\n",
      "  Downloading ipython-7.27.0-py3-none-any.whl (787 kB)\r\n",
      "\u001b[K     |████████████████████████████████| 787 kB 42.6 MB/s \r\n",
      "\u001b[?25hCollecting PyYAML==5.4.1\r\n",
      "  Downloading PyYAML-5.4.1-cp37-cp37m-manylinux1_x86_64.whl (636 kB)\r\n",
      "\u001b[K     |████████████████████████████████| 636 kB 56.0 MB/s \r\n",
      "\u001b[?25hCollecting scikit_learn==0.24.2\r\n",
      "  Downloading scikit_learn-0.24.2-cp37-cp37m-manylinux2010_x86_64.whl (22.3 MB)\r\n",
      "\u001b[K     |████████████████████████████████| 22.3 MB 29.3 MB/s \r\n",
      "\u001b[?25hCollecting umap==0.1.1\r\n",
      "  Downloading umap-0.1.1.tar.gz (3.2 kB)\r\n",
      "Collecting scipy==1.5.2\r\n",
      "  Downloading scipy-1.5.2-cp37-cp37m-manylinux1_x86_64.whl (25.9 MB)\r\n",
      "\u001b[K     |████████████████████████████████| 25.9 MB 49.0 MB/s \r\n",
      "\u001b[?25hCollecting tokenizers==0.10.3\r\n",
      "  Downloading tokenizers-0.10.3-cp37-cp37m-manylinux_2_5_x86_64.manylinux1_x86_64.manylinux_2_12_x86_64.manylinux2010_x86_64.whl (3.3 MB)\r\n",
      "\u001b[K     |████████████████████████████████| 3.3 MB 47.6 MB/s \r\n",
      "\u001b[?25hRequirement already satisfied: sentencepiece==0.1.95 in /opt/conda/lib/python3.7/site-packages (from -r requirements.txt (line 31)) (0.1.95)\r\n",
      "Collecting mlflow==1.17.0\r\n",
      "  Downloading mlflow-1.17.0-py3-none-any.whl (14.2 MB)\r\n",
      "\u001b[K     |████████████████████████████████| 14.2 MB 49.6 MB/s \r\n",
      "\u001b[?25hRequirement already satisfied: hyperopt==0.2.5 in /opt/conda/lib/python3.7/site-packages (from -r requirements.txt (line 33)) (0.2.5)\r\n",
      "Collecting raceplotly==0.1.6\r\n",
      "  Downloading raceplotly-0.1.6-py3-none-any.whl (7.2 kB)\r\n",
      "Collecting python-multipart==0.0.5\r\n",
      "  Downloading python-multipart-0.0.5.tar.gz (32 kB)\r\n",
      "Collecting starlette==0.14.2\r\n",
      "  Downloading starlette-0.14.2-py3-none-any.whl (60 kB)\r\n",
      "\u001b[K     |████████████████████████████████| 60 kB 5.3 MB/s \r\n",
      "\u001b[?25hCollecting pydantic!=1.7,!=1.7.1,!=1.7.2,!=1.7.3,!=1.8,!=1.8.1,<2.0.0,>=1.6.2\r\n",
      "  Downloading pydantic-1.8.2-cp37-cp37m-manylinux2014_x86_64.whl (10.1 MB)\r\n",
      "\u001b[K     |████████████████████████████████| 10.1 MB 51.2 MB/s \r\n",
      "\u001b[?25hRequirement already satisfied: smart-open>=1.8.1 in /opt/conda/lib/python3.7/site-packages (from gensim==4.0.1->-r requirements.txt (line 9)) (4.1.2)\r\n",
      "Requirement already satisfied: future in /opt/conda/lib/python3.7/site-packages (from hyperopt==0.2.5->-r requirements.txt (line 33)) (0.18.2)\r\n",
      "Requirement already satisfied: cloudpickle in /opt/conda/lib/python3.7/site-packages (from hyperopt==0.2.5->-r requirements.txt (line 33)) (1.6.0)\r\n",
      "Requirement already satisfied: networkx>=2.2 in /opt/conda/lib/python3.7/site-packages (from hyperopt==0.2.5->-r requirements.txt (line 33)) (2.5)\r\n",
      "Requirement already satisfied: six in /opt/conda/lib/python3.7/site-packages (from hyperopt==0.2.5->-r requirements.txt (line 33)) (1.15.0)\r\n",
      "Requirement already satisfied: pickleshare in /opt/conda/lib/python3.7/site-packages (from ipython==7.27.0->-r requirements.txt (line 25)) (0.7.5)\r\n",
      "Requirement already satisfied: pygments in /opt/conda/lib/python3.7/site-packages (from ipython==7.27.0->-r requirements.txt (line 25)) (2.7.3)\r\n",
      "Collecting matplotlib-inline\r\n",
      "  Downloading matplotlib_inline-0.1.3-py3-none-any.whl (8.2 kB)\r\n",
      "Requirement already satisfied: decorator in /opt/conda/lib/python3.7/site-packages (from ipython==7.27.0->-r requirements.txt (line 25)) (4.4.2)\r\n",
      "Requirement already satisfied: backcall in /opt/conda/lib/python3.7/site-packages (from ipython==7.27.0->-r requirements.txt (line 25)) (0.2.0)\r\n",
      "Requirement already satisfied: traitlets>=4.2 in /opt/conda/lib/python3.7/site-packages (from ipython==7.27.0->-r requirements.txt (line 25)) (5.0.5)\r\n",
      "Requirement already satisfied: prompt-toolkit!=3.0.0,!=3.0.1,<3.1.0,>=2.0.0 in /opt/conda/lib/python3.7/site-packages (from ipython==7.27.0->-r requirements.txt (line 25)) (3.0.8)\r\n",
      "Requirement already satisfied: setuptools>=18.5 in /opt/conda/lib/python3.7/site-packages (from ipython==7.27.0->-r requirements.txt (line 25)) (49.6.0.post20201009)\r\n",
      "Requirement already satisfied: jedi>=0.16 in /opt/conda/lib/python3.7/site-packages (from ipython==7.27.0->-r requirements.txt (line 25)) (0.18.0)\r\n",
      "Requirement already satisfied: pexpect>4.3 in /opt/conda/lib/python3.7/site-packages (from ipython==7.27.0->-r requirements.txt (line 25)) (4.8.0)\r\n",
      "Requirement already satisfied: pillow>=6.2.0 in /opt/conda/lib/python3.7/site-packages (from matplotlib==3.3.2->-r requirements.txt (line 6)) (7.2.0)\r\n",
      "Requirement already satisfied: pyparsing!=2.0.4,!=2.1.2,!=2.1.6,>=2.0.3 in /opt/conda/lib/python3.7/site-packages (from matplotlib==3.3.2->-r requirements.txt (line 6)) (2.4.7)\r\n",
      "Requirement already satisfied: python-dateutil>=2.1 in /opt/conda/lib/python3.7/site-packages (from matplotlib==3.3.2->-r requirements.txt (line 6)) (2.8.1)\r\n",
      "Requirement already satisfied: cycler>=0.10 in /opt/conda/lib/python3.7/site-packages (from matplotlib==3.3.2->-r requirements.txt (line 6)) (0.10.0)\r\n",
      "Requirement already satisfied: certifi>=2020.06.20 in /opt/conda/lib/python3.7/site-packages (from matplotlib==3.3.2->-r requirements.txt (line 6)) (2020.12.5)\r\n",
      "Requirement already satisfied: kiwisolver>=1.0.1 in /opt/conda/lib/python3.7/site-packages (from matplotlib==3.3.2->-r requirements.txt (line 6)) (1.3.1)\r\n",
      "Requirement already satisfied: pytz in /opt/conda/lib/python3.7/site-packages (from mlflow==1.17.0->-r requirements.txt (line 32)) (2019.3)\r\n",
      "Requirement already satisfied: gitpython>=2.1.0 in /opt/conda/lib/python3.7/site-packages (from mlflow==1.17.0->-r requirements.txt (line 32)) (3.1.12)\r\n",
      "Collecting gunicorn\r\n",
      "  Downloading gunicorn-20.1.0-py3-none-any.whl (79 kB)\r\n",
      "\u001b[K     |████████████████████████████████| 79 kB 6.4 MB/s \r\n",
      "\u001b[?25hRequirement already satisfied: sqlalchemy in /opt/conda/lib/python3.7/site-packages (from mlflow==1.17.0->-r requirements.txt (line 32)) (1.3.22)\r\n",
      "Requirement already satisfied: protobuf>=3.6.0 in /opt/conda/lib/python3.7/site-packages (from mlflow==1.17.0->-r requirements.txt (line 32)) (3.14.0)\r\n",
      "Collecting alembic<=1.4.1\r\n",
      "  Downloading alembic-1.4.1.tar.gz (1.1 MB)\r\n",
      "\u001b[K     |████████████████████████████████| 1.1 MB 27.0 MB/s \r\n",
      "\u001b[?25hRequirement already satisfied: click>=7.0 in /opt/conda/lib/python3.7/site-packages (from mlflow==1.17.0->-r requirements.txt (line 32)) (7.1.2)\r\n",
      "Requirement already satisfied: docker>=4.0.0 in /opt/conda/lib/python3.7/site-packages (from mlflow==1.17.0->-r requirements.txt (line 32)) (4.4.1)\r\n",
      "Requirement already satisfied: sqlparse>=0.3.1 in /opt/conda/lib/python3.7/site-packages (from mlflow==1.17.0->-r requirements.txt (line 32)) (0.4.1)\r\n",
      "Collecting querystring-parser\r\n",
      "  Downloading querystring_parser-1.2.4-py2.py3-none-any.whl (7.9 kB)\r\n",
      "Requirement already satisfied: entrypoints in /opt/conda/lib/python3.7/site-packages (from mlflow==1.17.0->-r requirements.txt (line 32)) (0.3)\r\n",
      "Collecting databricks-cli>=0.8.7\r\n",
      "  Downloading databricks-cli-0.15.0.tar.gz (56 kB)\r\n",
      "\u001b[K     |████████████████████████████████| 56 kB 3.2 MB/s \r\n",
      "\u001b[?25hRequirement already satisfied: Flask in /opt/conda/lib/python3.7/site-packages (from mlflow==1.17.0->-r requirements.txt (line 32)) (1.1.2)\r\n",
      "Collecting prometheus-flask-exporter\r\n",
      "  Downloading prometheus_flask_exporter-0.18.2.tar.gz (22 kB)\r\n",
      "Requirement already satisfied: retrying>=1.3.3 in /opt/conda/lib/python3.7/site-packages (from plotly==4.14.3->-r requirements.txt (line 23)) (1.3.3)\r\n",
      "Requirement already satisfied: iniconfig in /opt/conda/lib/python3.7/site-packages (from pytest==6.2.5->-r requirements.txt (line 4)) (1.1.1)\r\n",
      "Requirement already satisfied: py>=1.8.2 in /opt/conda/lib/python3.7/site-packages (from pytest==6.2.5->-r requirements.txt (line 4)) (1.10.0)\r\n",
      "Requirement already satisfied: attrs>=19.2.0 in /opt/conda/lib/python3.7/site-packages (from pytest==6.2.5->-r requirements.txt (line 4)) (20.3.0)\r\n",
      "Requirement already satisfied: importlib-metadata>=0.12 in /opt/conda/lib/python3.7/site-packages (from pytest==6.2.5->-r requirements.txt (line 4)) (3.3.0)\r\n",
      "Requirement already satisfied: toml in /opt/conda/lib/python3.7/site-packages (from pytest==6.2.5->-r requirements.txt (line 4)) (0.10.2)\r\n",
      "Requirement already satisfied: pluggy<2.0,>=0.12 in /opt/conda/lib/python3.7/site-packages (from pytest==6.2.5->-r requirements.txt (line 4)) (0.13.1)\r\n",
      "Requirement already satisfied: packaging in /opt/conda/lib/python3.7/site-packages (from pytest==6.2.5->-r requirements.txt (line 4)) (20.8)\r\n",
      "Requirement already satisfied: colorful in /opt/conda/lib/python3.7/site-packages (from ray==1.2.0->-r requirements.txt (line 21)) (0.5.4)\r\n",
      "Requirement already satisfied: opencensus in /opt/conda/lib/python3.7/site-packages (from ray==1.2.0->-r requirements.txt (line 21)) (0.7.12)\r\n",
      "Requirement already satisfied: gpustat in /opt/conda/lib/python3.7/site-packages (from ray==1.2.0->-r requirements.txt (line 21)) (0.6.0)\r\n",
      "Requirement already satisfied: aioredis in /opt/conda/lib/python3.7/site-packages (from ray==1.2.0->-r requirements.txt (line 21)) (1.3.1)\r\n",
      "Requirement already satisfied: msgpack<2.0.0,>=1.0.0 in /opt/conda/lib/python3.7/site-packages (from ray==1.2.0->-r requirements.txt (line 21)) (1.0.2)\r\n",
      "Requirement already satisfied: aiohttp-cors in /opt/conda/lib/python3.7/site-packages (from ray==1.2.0->-r requirements.txt (line 21)) (0.7.0)\r\n",
      "Requirement already satisfied: jsonschema in /opt/conda/lib/python3.7/site-packages (from ray==1.2.0->-r requirements.txt (line 21)) (3.2.0)\r\n",
      "Requirement already satisfied: colorama in /opt/conda/lib/python3.7/site-packages (from ray==1.2.0->-r requirements.txt (line 21)) (0.4.4)\r\n",
      "Requirement already satisfied: aiohttp in /opt/conda/lib/python3.7/site-packages (from ray==1.2.0->-r requirements.txt (line 21)) (3.7.3)\r\n",
      "Requirement already satisfied: grpcio>=1.28.1 in /opt/conda/lib/python3.7/site-packages (from ray==1.2.0->-r requirements.txt (line 21)) (1.32.0)\r\n",
      "Requirement already satisfied: prometheus-client>=0.7.1 in /opt/conda/lib/python3.7/site-packages (from ray==1.2.0->-r requirements.txt (line 21)) (0.9.0)\r\n",
      "Requirement already satisfied: redis>=3.5.0 in /opt/conda/lib/python3.7/site-packages (from ray==1.2.0->-r requirements.txt (line 21)) (3.5.3)\r\n",
      "Requirement already satisfied: filelock in /opt/conda/lib/python3.7/site-packages (from ray==1.2.0->-r requirements.txt (line 21)) (3.0.12)\r\n",
      "Requirement already satisfied: py-spy>=0.2.0 in /opt/conda/lib/python3.7/site-packages (from ray==1.2.0->-r requirements.txt (line 21)) (0.3.4)\r\n",
      "Requirement already satisfied: chardet<5,>=3.0.2 in /opt/conda/lib/python3.7/site-packages (from requests==2.25.1->-r requirements.txt (line 1)) (3.0.4)\r\n",
      "Requirement already satisfied: idna<3,>=2.5 in /opt/conda/lib/python3.7/site-packages (from requests==2.25.1->-r requirements.txt (line 1)) (2.10)\r\n",
      "Requirement already satisfied: urllib3<1.27,>=1.21.1 in /opt/conda/lib/python3.7/site-packages (from requests==2.25.1->-r requirements.txt (line 1)) (1.26.2)\r\n",
      "Requirement already satisfied: threadpoolctl>=2.0.0 in /opt/conda/lib/python3.7/site-packages (from scikit_learn==0.24.2->-r requirements.txt (line 27)) (2.1.0)\r\n",
      "Requirement already satisfied: torch>=1.6.0 in /opt/conda/lib/python3.7/site-packages (from sentence_transformers==2.0.0->-r requirements.txt (line 7)) (1.7.0)\r\n",
      "Requirement already satisfied: torchvision in /opt/conda/lib/python3.7/site-packages (from sentence_transformers==2.0.0->-r requirements.txt (line 7)) (0.8.1)\r\n",
      "Requirement already satisfied: nltk in /opt/conda/lib/python3.7/site-packages (from sentence_transformers==2.0.0->-r requirements.txt (line 7)) (3.2.4)\r\n",
      "Collecting huggingface-hub\r\n",
      "  Downloading huggingface_hub-0.0.17-py3-none-any.whl (52 kB)\r\n",
      "\u001b[K     |████████████████████████████████| 52 kB 56 kB/s \r\n",
      "\u001b[?25hCollecting spacy-legacy<3.1.0,>=3.0.0\r\n",
      "  Downloading spacy_legacy-3.0.8-py2.py3-none-any.whl (14 kB)\r\n",
      "Collecting pathy>=0.3.5\r\n",
      "  Downloading pathy-0.6.0-py3-none-any.whl (42 kB)\r\n",
      "\u001b[K     |████████████████████████████████| 42 kB 48 kB/s \r\n",
      "\u001b[?25hRequirement already satisfied: jinja2 in /opt/conda/lib/python3.7/site-packages (from spacy==3.0.5->-r requirements.txt (line 18)) (2.11.2)\r\n",
      "Requirement already satisfied: blis<0.8.0,>=0.4.0 in /opt/conda/lib/python3.7/site-packages (from spacy==3.0.5->-r requirements.txt (line 18)) (0.7.4)\r\n",
      "Requirement already satisfied: murmurhash<1.1.0,>=0.28.0 in /opt/conda/lib/python3.7/site-packages (from spacy==3.0.5->-r requirements.txt (line 18)) (1.0.5)\r\n",
      "Collecting thinc<8.1.0,>=8.0.2\r\n",
      "  Downloading thinc-8.0.10-cp37-cp37m-manylinux_2_17_x86_64.manylinux2014_x86_64.whl (623 kB)\r\n",
      "\u001b[K     |████████████████████████████████| 623 kB 56.4 MB/s \r\n",
      "\u001b[?25hCollecting catalogue<2.1.0,>=2.0.1\r\n",
      "  Downloading catalogue-2.0.6-py3-none-any.whl (17 kB)\r\n",
      "Collecting pydantic!=1.7,!=1.7.1,!=1.7.2,!=1.7.3,!=1.8,!=1.8.1,<2.0.0,>=1.6.2\r\n",
      "  Downloading pydantic-1.7.4-cp37-cp37m-manylinux2014_x86_64.whl (9.1 MB)\r\n",
      "\u001b[K     |████████████████████████████████| 9.1 MB 42.2 MB/s \r\n",
      "\u001b[?25hCollecting typer<0.4.0,>=0.3.0\r\n",
      "  Downloading typer-0.3.2-py3-none-any.whl (21 kB)\r\n",
      "Requirement already satisfied: typing-extensions<4.0.0.0,>=3.7.4 in /opt/conda/lib/python3.7/site-packages (from spacy==3.0.5->-r requirements.txt (line 18)) (3.7.4.3)\r\n",
      "Requirement already satisfied: cymem<2.1.0,>=2.0.2 in /opt/conda/lib/python3.7/site-packages (from spacy==3.0.5->-r requirements.txt (line 18)) (2.0.5)\r\n",
      "Requirement already satisfied: preshed<3.1.0,>=3.0.2 in /opt/conda/lib/python3.7/site-packages (from spacy==3.0.5->-r requirements.txt (line 18)) (3.0.5)\r\n",
      "Requirement already satisfied: wasabi<1.1.0,>=0.8.1 in /opt/conda/lib/python3.7/site-packages (from spacy==3.0.5->-r requirements.txt (line 18)) (0.8.1)\r\n",
      "Collecting srsly<3.0.0,>=2.4.0\r\n",
      "  Downloading srsly-2.4.1-cp37-cp37m-manylinux2014_x86_64.whl (456 kB)\r\n",
      "\u001b[K     |████████████████████████████████| 456 kB 50.0 MB/s \r\n",
      "\u001b[?25hRequirement already satisfied: blinker in /opt/conda/lib/python3.7/site-packages (from streamlit==0.83.0->-r requirements.txt (line 3)) (1.4)\r\n",
      "Requirement already satisfied: watchdog in /opt/conda/lib/python3.7/site-packages (from streamlit==0.83.0->-r requirements.txt (line 3)) (0.10.4)\r\n",
      "Collecting validators\r\n",
      "  Downloading validators-0.18.2-py3-none-any.whl (19 kB)\r\n",
      "Requirement already satisfied: pyarrow in /opt/conda/lib/python3.7/site-packages (from streamlit==0.83.0->-r requirements.txt (line 3)) (2.0.0)\r\n",
      "Collecting pydeck>=0.1.dev5\r\n",
      "  Downloading pydeck-0.7.0-py2.py3-none-any.whl (4.3 MB)\r\n",
      "\u001b[K     |████████████████████████████████| 4.3 MB 49.0 MB/s \r\n",
      "\u001b[?25hRequirement already satisfied: altair>=3.2.0 in /opt/conda/lib/python3.7/site-packages (from streamlit==0.83.0->-r requirements.txt (line 3)) (4.1.0)\r\n",
      "Requirement already satisfied: tornado>=5.0 in /opt/conda/lib/python3.7/site-packages (from streamlit==0.83.0->-r requirements.txt (line 3)) (5.0.2)\r\n",
      "Collecting base58\r\n",
      "  Downloading base58-2.1.0-py3-none-any.whl (5.6 kB)\r\n",
      "Requirement already satisfied: tzlocal in /opt/conda/lib/python3.7/site-packages (from streamlit==0.83.0->-r requirements.txt (line 3)) (2.1)\r\n",
      "Requirement already satisfied: cachetools>=4.0 in /opt/conda/lib/python3.7/site-packages (from streamlit==0.83.0->-r requirements.txt (line 3)) (4.1.1)\r\n",
      "Collecting astor\r\n",
      "  Downloading astor-0.8.1-py2.py3-none-any.whl (27 kB)\r\n",
      "Requirement already satisfied: wheel~=0.35 in /opt/conda/lib/python3.7/site-packages (from tensorflow==2.4.1->-r requirements.txt (line 19)) (0.36.2)\r\n",
      "Requirement already satisfied: gast==0.3.3 in /opt/conda/lib/python3.7/site-packages (from tensorflow==2.4.1->-r requirements.txt (line 19)) (0.3.3)\r\n",
      "Requirement already satisfied: opt-einsum~=3.3.0 in /opt/conda/lib/python3.7/site-packages (from tensorflow==2.4.1->-r requirements.txt (line 19)) (3.3.0)\r\n",
      "Requirement already satisfied: absl-py~=0.10 in /opt/conda/lib/python3.7/site-packages (from tensorflow==2.4.1->-r requirements.txt (line 19)) (0.10.0)\r\n",
      "Requirement already satisfied: flatbuffers~=1.12.0 in /opt/conda/lib/python3.7/site-packages (from tensorflow==2.4.1->-r requirements.txt (line 19)) (1.12)\r\n",
      "Requirement already satisfied: google-pasta~=0.2 in /opt/conda/lib/python3.7/site-packages (from tensorflow==2.4.1->-r requirements.txt (line 19)) (0.2.0)\r\n",
      "Requirement already satisfied: tensorboard~=2.4 in /opt/conda/lib/python3.7/site-packages (from tensorflow==2.4.1->-r requirements.txt (line 19)) (2.4.1)\r\n",
      "Requirement already satisfied: keras-preprocessing~=1.1.2 in /opt/conda/lib/python3.7/site-packages (from tensorflow==2.4.1->-r requirements.txt (line 19)) (1.1.2)\r\n",
      "Requirement already satisfied: tensorflow-estimator<2.5.0,>=2.4.0 in /opt/conda/lib/python3.7/site-packages (from tensorflow==2.4.1->-r requirements.txt (line 19)) (2.4.0)\r\n",
      "Requirement already satisfied: astunparse~=1.6.3 in /opt/conda/lib/python3.7/site-packages (from tensorflow==2.4.1->-r requirements.txt (line 19)) (1.6.3)\r\n",
      "Requirement already satisfied: h5py~=2.10.0 in /opt/conda/lib/python3.7/site-packages (from tensorflow==2.4.1->-r requirements.txt (line 19)) (2.10.0)\r\n",
      "Requirement already satisfied: termcolor~=1.1.0 in /opt/conda/lib/python3.7/site-packages (from tensorflow==2.4.1->-r requirements.txt (line 19)) (1.1.0)\r\n",
      "Requirement already satisfied: wrapt~=1.12.1 in /opt/conda/lib/python3.7/site-packages (from tensorflow==2.4.1->-r requirements.txt (line 19)) (1.12.1)\r\n",
      "Requirement already satisfied: sacremoses in /opt/conda/lib/python3.7/site-packages (from transformers==4.9.0->-r requirements.txt (line 10)) (0.0.43)\r\n",
      "Requirement already satisfied: regex!=2019.12.17 in /opt/conda/lib/python3.7/site-packages (from transformers==4.9.0->-r requirements.txt (line 10)) (2020.11.13)\r\n",
      "Collecting huggingface-hub\r\n",
      "  Downloading huggingface_hub-0.0.12-py3-none-any.whl (37 kB)\r\n",
      "Requirement already satisfied: numba>=0.49 in /opt/conda/lib/python3.7/site-packages (from umap_learn==0.5.1->-r requirements.txt (line 8)) (0.52.0)\r\n",
      "Requirement already satisfied: pynndescent>=0.5 in /opt/conda/lib/python3.7/site-packages (from umap_learn==0.5.1->-r requirements.txt (line 8)) (0.5.1)\r\n",
      "Collecting h11>=0.8\r\n",
      "  Downloading h11-0.12.0-py3-none-any.whl (54 kB)\r\n",
      "\u001b[K     |████████████████████████████████| 54 kB 2.2 MB/s \r\n",
      "\u001b[?25hCollecting packaging\r\n",
      "  Downloading packaging-21.0-py3-none-any.whl (40 kB)\r\n",
      "\u001b[K     |████████████████████████████████| 40 kB 3.9 MB/s \r\n",
      "\u001b[?25hRequirement already satisfied: Mako in /opt/conda/lib/python3.7/site-packages (from alembic<=1.4.1->mlflow==1.17.0->-r requirements.txt (line 32)) (1.1.4)\r\n",
      "Requirement already satisfied: python-editor>=0.3 in /opt/conda/lib/python3.7/site-packages (from alembic<=1.4.1->mlflow==1.17.0->-r requirements.txt (line 32)) (1.0.4)\r\n",
      "Requirement already satisfied: toolz in /opt/conda/lib/python3.7/site-packages (from altair>=3.2.0->streamlit==0.83.0->-r requirements.txt (line 3)) (0.11.1)\r\n",
      "Requirement already satisfied: zipp>=0.5 in /opt/conda/lib/python3.7/site-packages (from catalogue<2.1.0,>=2.0.1->spacy==3.0.5->-r requirements.txt (line 18)) (3.4.0)\r\n",
      "Requirement already satisfied: tabulate>=0.7.7 in /opt/conda/lib/python3.7/site-packages (from databricks-cli>=0.8.7->mlflow==1.17.0->-r requirements.txt (line 32)) (0.8.7)\r\n",
      "Requirement already satisfied: websocket-client>=0.32.0 in /opt/conda/lib/python3.7/site-packages (from docker>=4.0.0->mlflow==1.17.0->-r requirements.txt (line 32)) (0.57.0)\r\n",
      "Requirement already satisfied: gitdb<5,>=4.0.1 in /opt/conda/lib/python3.7/site-packages (from gitpython>=2.1.0->mlflow==1.17.0->-r requirements.txt (line 32)) (4.0.5)\r\n",
      "Requirement already satisfied: smmap<4,>=3.0.1 in /opt/conda/lib/python3.7/site-packages (from gitdb<5,>=4.0.1->gitpython>=2.1.0->mlflow==1.17.0->-r requirements.txt (line 32)) (3.0.4)\r\n",
      "Requirement already satisfied: parso<0.9.0,>=0.8.0 in /opt/conda/lib/python3.7/site-packages (from jedi>=0.16->ipython==7.27.0->-r requirements.txt (line 25)) (0.8.1)\r\n",
      "Requirement already satisfied: llvmlite<0.36,>=0.35.0 in /opt/conda/lib/python3.7/site-packages (from numba>=0.49->umap_learn==0.5.1->-r requirements.txt (line 8)) (0.35.0)\r\n",
      "Collecting smart-open>=1.8.1\r\n",
      "  Downloading smart_open-5.2.1-py3-none-any.whl (58 kB)\r\n",
      "\u001b[K     |████████████████████████████████| 58 kB 3.9 MB/s \r\n",
      "\u001b[?25hRequirement already satisfied: ptyprocess>=0.5 in /opt/conda/lib/python3.7/site-packages (from pexpect>4.3->ipython==7.27.0->-r requirements.txt (line 25)) (0.7.0)\r\n",
      "Requirement already satisfied: wcwidth in /opt/conda/lib/python3.7/site-packages (from prompt-toolkit!=3.0.0,!=3.0.1,<3.1.0,>=2.0.0->ipython==7.27.0->-r requirements.txt (line 25)) (0.2.5)\r\n",
      "Requirement already satisfied: ipywidgets>=7.0.0 in /opt/conda/lib/python3.7/site-packages (from pydeck>=0.1.dev5->streamlit==0.83.0->-r requirements.txt (line 3)) (7.6.2)\r\n",
      "Collecting ipykernel>=5.1.2\r\n",
      "  Downloading ipykernel-6.4.1-py3-none-any.whl (124 kB)\r\n",
      "\u001b[K     |████████████████████████████████| 124 kB 59.6 MB/s \r\n",
      "\u001b[?25hRequirement already satisfied: jupyter-client<8.0 in /opt/conda/lib/python3.7/site-packages (from ipykernel>=5.1.2->pydeck>=0.1.dev5->streamlit==0.83.0->-r requirements.txt (line 3)) (6.1.7)\r\n",
      "Collecting argcomplete>=1.12.3\r\n",
      "  Downloading argcomplete-1.12.3-py2.py3-none-any.whl (38 kB)\r\n",
      "Requirement already satisfied: ipython-genutils in /opt/conda/lib/python3.7/site-packages (from ipykernel>=5.1.2->pydeck>=0.1.dev5->streamlit==0.83.0->-r requirements.txt (line 3)) (0.2.0)\r\n",
      "Collecting debugpy<2.0,>=1.0.0\r\n",
      "  Downloading debugpy-1.4.3-cp37-cp37m-manylinux_2_5_x86_64.manylinux1_x86_64.manylinux_2_12_x86_64.manylinux2010_x86_64.whl (1.9 MB)\r\n",
      "\u001b[K     |████████████████████████████████| 1.9 MB 50.9 MB/s \r\n",
      "\u001b[?25hRequirement already satisfied: widgetsnbextension~=3.5.0 in /opt/conda/lib/python3.7/site-packages (from ipywidgets>=7.0.0->pydeck>=0.1.dev5->streamlit==0.83.0->-r requirements.txt (line 3)) (3.5.1)\r\n",
      "Requirement already satisfied: nbformat>=4.2.0 in /opt/conda/lib/python3.7/site-packages (from ipywidgets>=7.0.0->pydeck>=0.1.dev5->streamlit==0.83.0->-r requirements.txt (line 3)) (5.0.8)\r\n",
      "Requirement already satisfied: jupyterlab-widgets>=1.0.0 in /opt/conda/lib/python3.7/site-packages (from ipywidgets>=7.0.0->pydeck>=0.1.dev5->streamlit==0.83.0->-r requirements.txt (line 3)) (1.0.0)\r\n",
      "Requirement already satisfied: MarkupSafe>=0.23 in /opt/conda/lib/python3.7/site-packages (from jinja2->spacy==3.0.5->-r requirements.txt (line 18)) (1.1.1)\r\n",
      "Requirement already satisfied: jupyter-core>=4.6.0 in /opt/conda/lib/python3.7/site-packages (from jupyter-client<8.0->ipykernel>=5.1.2->pydeck>=0.1.dev5->streamlit==0.83.0->-r requirements.txt (line 3)) (4.7.0)\r\n",
      "Requirement already satisfied: pyzmq>=13 in /opt/conda/lib/python3.7/site-packages (from jupyter-client<8.0->ipykernel>=5.1.2->pydeck>=0.1.dev5->streamlit==0.83.0->-r requirements.txt (line 3)) (20.0.0)\r\n",
      "Requirement already satisfied: pyrsistent>=0.14.0 in /opt/conda/lib/python3.7/site-packages (from jsonschema->ray==1.2.0->-r requirements.txt (line 21)) (0.17.3)\r\n",
      "Requirement already satisfied: google-auth<2,>=1.6.3 in /opt/conda/lib/python3.7/site-packages (from tensorboard~=2.4->tensorflow==2.4.1->-r requirements.txt (line 19)) (1.24.0)\r\n",
      "Requirement already satisfied: markdown>=2.6.8 in /opt/conda/lib/python3.7/site-packages (from tensorboard~=2.4->tensorflow==2.4.1->-r requirements.txt (line 19)) (3.3.3)\r\n",
      "Requirement already satisfied: tensorboard-plugin-wit>=1.6.0 in /opt/conda/lib/python3.7/site-packages (from tensorboard~=2.4->tensorflow==2.4.1->-r requirements.txt (line 19)) (1.8.0)\r\n",
      "Requirement already satisfied: werkzeug>=0.11.15 in /opt/conda/lib/python3.7/site-packages (from tensorboard~=2.4->tensorflow==2.4.1->-r requirements.txt (line 19)) (1.0.1)\r\n",
      "Requirement already satisfied: google-auth-oauthlib<0.5,>=0.4.1 in /opt/conda/lib/python3.7/site-packages (from tensorboard~=2.4->tensorflow==2.4.1->-r requirements.txt (line 19)) (0.4.2)\r\n",
      "Requirement already satisfied: pyasn1-modules>=0.2.1 in /opt/conda/lib/python3.7/site-packages (from google-auth<2,>=1.6.3->tensorboard~=2.4->tensorflow==2.4.1->-r requirements.txt (line 19)) (0.2.7)\r\n",
      "Requirement already satisfied: rsa<5,>=3.1.4 in /opt/conda/lib/python3.7/site-packages (from google-auth<2,>=1.6.3->tensorboard~=2.4->tensorflow==2.4.1->-r requirements.txt (line 19)) (4.6)\r\n",
      "Requirement already satisfied: requests-oauthlib>=0.7.0 in /opt/conda/lib/python3.7/site-packages (from google-auth-oauthlib<0.5,>=0.4.1->tensorboard~=2.4->tensorflow==2.4.1->-r requirements.txt (line 19)) (1.3.0)\r\n",
      "Requirement already satisfied: pyasn1<0.5.0,>=0.4.6 in /opt/conda/lib/python3.7/site-packages (from pyasn1-modules>=0.2.1->google-auth<2,>=1.6.3->tensorboard~=2.4->tensorflow==2.4.1->-r requirements.txt (line 19)) (0.4.8)\r\n",
      "Requirement already satisfied: oauthlib>=3.0.0 in /opt/conda/lib/python3.7/site-packages (from requests-oauthlib>=0.7.0->google-auth-oauthlib<0.5,>=0.4.1->tensorboard~=2.4->tensorflow==2.4.1->-r requirements.txt (line 19)) (3.0.1)\r\n",
      "Requirement already satisfied: notebook>=4.4.1 in /opt/conda/lib/python3.7/site-packages (from widgetsnbextension~=3.5.0->ipywidgets>=7.0.0->pydeck>=0.1.dev5->streamlit==0.83.0->-r requirements.txt (line 3)) (5.5.0)\r\n",
      "Requirement already satisfied: Send2Trash in /opt/conda/lib/python3.7/site-packages (from notebook>=4.4.1->widgetsnbextension~=3.5.0->ipywidgets>=7.0.0->pydeck>=0.1.dev5->streamlit==0.83.0->-r requirements.txt (line 3)) (1.5.0)\r\n",
      "Requirement already satisfied: nbconvert in /opt/conda/lib/python3.7/site-packages (from notebook>=4.4.1->widgetsnbextension~=3.5.0->ipywidgets>=7.0.0->pydeck>=0.1.dev5->streamlit==0.83.0->-r requirements.txt (line 3)) (6.0.7)\r\n",
      "Requirement already satisfied: terminado>=0.8.1 in /opt/conda/lib/python3.7/site-packages (from notebook>=4.4.1->widgetsnbextension~=3.5.0->ipywidgets>=7.0.0->pydeck>=0.1.dev5->streamlit==0.83.0->-r requirements.txt (line 3)) (0.9.2)\r\n",
      "Requirement already satisfied: multidict<7.0,>=4.5 in /opt/conda/lib/python3.7/site-packages (from aiohttp->ray==1.2.0->-r requirements.txt (line 21)) (5.1.0)\r\n",
      "Requirement already satisfied: async-timeout<4.0,>=3.0 in /opt/conda/lib/python3.7/site-packages (from aiohttp->ray==1.2.0->-r requirements.txt (line 21)) (3.0.1)\r\n",
      "Requirement already satisfied: yarl<2.0,>=1.0 in /opt/conda/lib/python3.7/site-packages (from aiohttp->ray==1.2.0->-r requirements.txt (line 21)) (1.6.3)\r\n",
      "Requirement already satisfied: hiredis in /opt/conda/lib/python3.7/site-packages (from aioredis->ray==1.2.0->-r requirements.txt (line 21)) (1.1.0)\r\n",
      "Requirement already satisfied: itsdangerous>=0.24 in /opt/conda/lib/python3.7/site-packages (from Flask->mlflow==1.17.0->-r requirements.txt (line 32)) (1.1.0)\r\n",
      "Requirement already satisfied: psutil in /opt/conda/lib/python3.7/site-packages (from gpustat->ray==1.2.0->-r requirements.txt (line 21)) (5.8.0)\r\n",
      "Requirement already satisfied: blessings>=1.6 in /opt/conda/lib/python3.7/site-packages (from gpustat->ray==1.2.0->-r requirements.txt (line 21)) (1.7)\r\n",
      "Requirement already satisfied: nvidia-ml-py3>=7.352.0 in /opt/conda/lib/python3.7/site-packages (from gpustat->ray==1.2.0->-r requirements.txt (line 21)) (7.352.0)\r\n",
      "Requirement already satisfied: testpath in /opt/conda/lib/python3.7/site-packages (from nbconvert->notebook>=4.4.1->widgetsnbextension~=3.5.0->ipywidgets>=7.0.0->pydeck>=0.1.dev5->streamlit==0.83.0->-r requirements.txt (line 3)) (0.4.4)\r\n",
      "Requirement already satisfied: bleach in /opt/conda/lib/python3.7/site-packages (from nbconvert->notebook>=4.4.1->widgetsnbextension~=3.5.0->ipywidgets>=7.0.0->pydeck>=0.1.dev5->streamlit==0.83.0->-r requirements.txt (line 3)) (3.2.1)\r\n",
      "Requirement already satisfied: nbclient<0.6.0,>=0.5.0 in /opt/conda/lib/python3.7/site-packages (from nbconvert->notebook>=4.4.1->widgetsnbextension~=3.5.0->ipywidgets>=7.0.0->pydeck>=0.1.dev5->streamlit==0.83.0->-r requirements.txt (line 3)) (0.5.1)\r\n",
      "Requirement already satisfied: mistune<2,>=0.8.1 in /opt/conda/lib/python3.7/site-packages (from nbconvert->notebook>=4.4.1->widgetsnbextension~=3.5.0->ipywidgets>=7.0.0->pydeck>=0.1.dev5->streamlit==0.83.0->-r requirements.txt (line 3)) (0.8.4)\r\n",
      "Requirement already satisfied: jupyterlab-pygments in /opt/conda/lib/python3.7/site-packages (from nbconvert->notebook>=4.4.1->widgetsnbextension~=3.5.0->ipywidgets>=7.0.0->pydeck>=0.1.dev5->streamlit==0.83.0->-r requirements.txt (line 3)) (0.1.2)\r\n",
      "Requirement already satisfied: pandocfilters>=1.4.1 in /opt/conda/lib/python3.7/site-packages (from nbconvert->notebook>=4.4.1->widgetsnbextension~=3.5.0->ipywidgets>=7.0.0->pydeck>=0.1.dev5->streamlit==0.83.0->-r requirements.txt (line 3)) (1.4.2)\r\n",
      "Requirement already satisfied: defusedxml in /opt/conda/lib/python3.7/site-packages (from nbconvert->notebook>=4.4.1->widgetsnbextension~=3.5.0->ipywidgets>=7.0.0->pydeck>=0.1.dev5->streamlit==0.83.0->-r requirements.txt (line 3)) (0.6.0)\r\n",
      "Requirement already satisfied: nest-asyncio in /opt/conda/lib/python3.7/site-packages (from nbclient<0.6.0,>=0.5.0->nbconvert->notebook>=4.4.1->widgetsnbextension~=3.5.0->ipywidgets>=7.0.0->pydeck>=0.1.dev5->streamlit==0.83.0->-r requirements.txt (line 3)) (1.4.3)\r\n",
      "Requirement already satisfied: async-generator in /opt/conda/lib/python3.7/site-packages (from nbclient<0.6.0,>=0.5.0->nbconvert->notebook>=4.4.1->widgetsnbextension~=3.5.0->ipywidgets>=7.0.0->pydeck>=0.1.dev5->streamlit==0.83.0->-r requirements.txt (line 3)) (1.10)\r\n",
      "Requirement already satisfied: webencodings in /opt/conda/lib/python3.7/site-packages (from bleach->nbconvert->notebook>=4.4.1->widgetsnbextension~=3.5.0->ipywidgets>=7.0.0->pydeck>=0.1.dev5->streamlit==0.83.0->-r requirements.txt (line 3)) (0.5.1)\r\n",
      "Requirement already satisfied: opencensus-context==0.1.2 in /opt/conda/lib/python3.7/site-packages (from opencensus->ray==1.2.0->-r requirements.txt (line 21)) (0.1.2)\r\n",
      "Requirement already satisfied: google-api-core<2.0.0,>=1.0.0 in /opt/conda/lib/python3.7/site-packages (from opencensus->ray==1.2.0->-r requirements.txt (line 21)) (1.22.4)\r\n",
      "Requirement already satisfied: googleapis-common-protos<2.0dev,>=1.6.0 in /opt/conda/lib/python3.7/site-packages (from google-api-core<2.0.0,>=1.0.0->opencensus->ray==1.2.0->-r requirements.txt (line 21)) (1.52.0)\r\n",
      "Requirement already satisfied: pathtools>=0.1.1 in /opt/conda/lib/python3.7/site-packages (from watchdog->streamlit==0.83.0->-r requirements.txt (line 3)) (0.1.2)\r\n",
      "Building wheels for collected packages: python-multipart, sentence-transformers, umap, umap-learn, alembic, databricks-cli, prometheus-flask-exporter\r\n",
      "  Building wheel for python-multipart (setup.py) ... \u001b[?25l-\b \b\\\b \bdone\r\n",
      "\u001b[?25h  Created wheel for python-multipart: filename=python_multipart-0.0.5-py3-none-any.whl size=31670 sha256=02dccf63b8f4c4337a1046560401f3fb54e30ed0f12885d7ca55c7dd5c112875\r\n",
      "  Stored in directory: /root/.cache/pip/wheels/2c/41/7c/bfd1c180534ffdcc0972f78c5758f89881602175d48a8bcd2c\r\n",
      "  Building wheel for sentence-transformers (setup.py) ... \u001b[?25l-\b \b\\\b \b|\b \bdone\r\n",
      "\u001b[?25h  Created wheel for sentence-transformers: filename=sentence_transformers-2.0.0-py3-none-any.whl size=126709 sha256=4416b68238feda2a811765382f3bbc7d84623df198674697c550c68966d3ddf6\r\n",
      "  Stored in directory: /root/.cache/pip/wheels/d1/c1/0f/faafd427f705c4b012274ba60d9a91d75830306811e1355293\r\n",
      "  Building wheel for umap (setup.py) ... \u001b[?25l-\b \b\\\b \bdone\r\n",
      "\u001b[?25h  Created wheel for umap: filename=umap-0.1.1-py3-none-any.whl size=3564 sha256=709fe6add334d1877910117b996ad1333e11ebfdeda20b02eda2043ecedbcb2c\r\n",
      "  Stored in directory: /root/.cache/pip/wheels/65/55/85/945cfb3d67373767e4dc3e9629300a926edde52633df4f0efe\r\n",
      "  Building wheel for umap-learn (setup.py) ... \u001b[?25l-\b \b\\\b \bdone\r\n",
      "\u001b[?25h  Created wheel for umap-learn: filename=umap_learn-0.5.1-py3-none-any.whl size=76566 sha256=5fb6525f4e732356a98b866c8738b264fd42f3e2ee99b3d10fc4ce6aa7e75b7e\r\n",
      "  Stored in directory: /root/.cache/pip/wheels/01/e7/bb/347dc0e510803d7116a13d592b10cc68262da56a8eec4dd72f\r\n",
      "  Building wheel for alembic (setup.py) ... \u001b[?25l-\b \b\\\b \bdone\r\n",
      "\u001b[?25h  Created wheel for alembic: filename=alembic-1.4.1-py2.py3-none-any.whl size=158155 sha256=4394a896546df8dd219a28dd349a5421fe7ebc228bec02a6acc3d1e2a49cbcb2\r\n",
      "  Stored in directory: /root/.cache/pip/wheels/be/5d/0a/9e13f53f4f5dfb67cd8d245bb7cdffe12f135846f491a283e3\r\n",
      "  Building wheel for databricks-cli (setup.py) ... \u001b[?25l-\b \b\\\b \b|\b \bdone\r\n",
      "\u001b[?25h  Created wheel for databricks-cli: filename=databricks_cli-0.15.0-py3-none-any.whl size=105260 sha256=a37867bd1ca6dc2604d52b0e26f62dad4fa49852716b3dde3a776ae769012c72\r\n",
      "  Stored in directory: /root/.cache/pip/wheels/e7/ba/75/284f9a90ff7a010bb23b9798f2e9a19dd9fe619379c917bff4\r\n",
      "  Building wheel for prometheus-flask-exporter (setup.py) ... \u001b[?25l-\b \b\\\b \bdone\r\n",
      "\u001b[?25h  Created wheel for prometheus-flask-exporter: filename=prometheus_flask_exporter-0.18.2-py3-none-any.whl size=17399 sha256=00acbe7a248b1eb1e2181db2a90893ade15e60ec718294c37fb24e0f87975082\r\n",
      "  Stored in directory: /root/.cache/pip/wheels/6a/1e/1c/c765920cb92b2f0343d2dd8b481a407cee2823f9b4bbd2e52a\r\n",
      "Successfully built python-multipart sentence-transformers umap umap-learn alembic databricks-cli prometheus-flask-exporter\r\n",
      "Installing collected packages: packaging, matplotlib-inline, ipython, debugpy, argcomplete, ipykernel, numpy, tqdm, scipy, joblib, catalogue, typer, tokenizers, srsly, smart-open, scikit-learn, PyYAML, pydantic, pandas, huggingface-hub, validators, transformers, thinc, starlette, spacy-legacy, querystring-parser, pydeck, prometheus-flask-exporter, pathy, matplotlib, h11, gunicorn, databricks-cli, base58, astor, alembic, xgboost, uvicorn, umap-learn, umap, textblob-fr, tensorflow, streamlit, spacy, sentence-transformers, seaborn, ray, raceplotly, python-multipart, pytest, mlflow, gensim, fastapi\r\n",
      "  Attempting uninstall: packaging\r\n",
      "    Found existing installation: packaging 20.8\r\n",
      "    Uninstalling packaging-20.8:\r\n",
      "      Successfully uninstalled packaging-20.8\r\n",
      "  Attempting uninstall: ipython\r\n",
      "    Found existing installation: ipython 7.19.0\r\n",
      "    Uninstalling ipython-7.19.0:\r\n",
      "      Successfully uninstalled ipython-7.19.0\r\n",
      "  Attempting uninstall: ipykernel\r\n",
      "    Found existing installation: ipykernel 5.1.1\r\n",
      "    Uninstalling ipykernel-5.1.1:\r\n",
      "      Successfully uninstalled ipykernel-5.1.1\r\n",
      "  Attempting uninstall: numpy\r\n",
      "    Found existing installation: numpy 1.19.5\r\n",
      "    Uninstalling numpy-1.19.5:\r\n",
      "      Successfully uninstalled numpy-1.19.5\r\n",
      "  Attempting uninstall: tqdm\r\n",
      "    Found existing installation: tqdm 4.55.1\r\n",
      "    Uninstalling tqdm-4.55.1:\r\n",
      "      Successfully uninstalled tqdm-4.55.1\r\n",
      "  Attempting uninstall: scipy\r\n",
      "    Found existing installation: scipy 1.4.1\r\n",
      "    Uninstalling scipy-1.4.1:\r\n",
      "      Successfully uninstalled scipy-1.4.1\r\n",
      "  Attempting uninstall: joblib\r\n",
      "    Found existing installation: joblib 1.0.0\r\n",
      "    Uninstalling joblib-1.0.0:\r\n",
      "      Successfully uninstalled joblib-1.0.0\r\n",
      "  Attempting uninstall: catalogue\r\n",
      "    Found existing installation: catalogue 1.0.0\r\n",
      "    Uninstalling catalogue-1.0.0:\r\n",
      "      Successfully uninstalled catalogue-1.0.0\r\n",
      "  Attempting uninstall: tokenizers\r\n",
      "    Found existing installation: tokenizers 0.9.4\r\n",
      "    Uninstalling tokenizers-0.9.4:\r\n",
      "      Successfully uninstalled tokenizers-0.9.4\r\n",
      "  Attempting uninstall: srsly\r\n",
      "    Found existing installation: srsly 1.0.5\r\n",
      "    Uninstalling srsly-1.0.5:\r\n",
      "      Successfully uninstalled srsly-1.0.5\r\n",
      "  Attempting uninstall: smart-open\r\n",
      "    Found existing installation: smart-open 4.1.2\r\n",
      "    Uninstalling smart-open-4.1.2:\r\n",
      "      Successfully uninstalled smart-open-4.1.2\r\n",
      "  Attempting uninstall: scikit-learn\r\n",
      "    Found existing installation: scikit-learn 0.23.2\r\n",
      "    Uninstalling scikit-learn-0.23.2:\r\n",
      "      Successfully uninstalled scikit-learn-0.23.2\r\n",
      "  Attempting uninstall: PyYAML\r\n",
      "    Found existing installation: PyYAML 5.3.1\r\n",
      "\u001b[31mERROR: Cannot uninstall 'PyYAML'. It is a distutils installed project and thus we cannot accurately determine which files belong to it which would lead to only a partial uninstall.\u001b[0m\r\n",
      "\u001b[33mWARNING: You are using pip version 21.0; however, version 21.2.4 is available.\r\n",
      "You should consider upgrading via the '/opt/conda/bin/python3.7 -m pip install --upgrade pip' command.\u001b[0m\r\n"
     ]
    }
   ],
   "source": [
    "!pip install -r requirements.txt"
   ]
  },
  {
   "cell_type": "code",
   "execution_count": 4,
   "metadata": {
    "_kg_hide-output": true,
    "execution": {
     "iopub.execute_input": "2021-09-28T14:07:53.986949Z",
     "iopub.status.busy": "2021-09-28T14:07:53.985929Z",
     "iopub.status.idle": "2021-09-28T14:08:06.829603Z",
     "shell.execute_reply": "2021-09-28T14:08:06.829016Z",
     "shell.execute_reply.started": "2021-09-28T12:45:13.729514Z"
    },
    "papermill": {
     "duration": 13.282854,
     "end_time": "2021-09-28T14:08:06.829772",
     "exception": false,
     "start_time": "2021-09-28T14:07:53.546918",
     "status": "completed"
    },
    "tags": []
   },
   "outputs": [
    {
     "name": "stdout",
     "output_type": "stream",
     "text": [
      "Collecting sentence-transformers\r\n",
      "  Using cached sentence_transformers-2.0.0-py3-none-any.whl\r\n",
      "Requirement already satisfied: scipy in /opt/conda/lib/python3.7/site-packages (from sentence-transformers) (1.5.2)\r\n",
      "Collecting huggingface-hub\r\n",
      "  Using cached huggingface_hub-0.0.17-py3-none-any.whl (52 kB)\r\n",
      "Requirement already satisfied: tqdm in /opt/conda/lib/python3.7/site-packages (from sentence-transformers) (4.50.2)\r\n",
      "Requirement already satisfied: numpy in /opt/conda/lib/python3.7/site-packages (from sentence-transformers) (1.19.2)\r\n",
      "Collecting transformers<5.0.0,>=4.6.0\r\n",
      "  Downloading transformers-4.11.0-py3-none-any.whl (2.9 MB)\r\n",
      "\u001b[K     |████████████████████████████████| 2.9 MB 903 kB/s \r\n",
      "\u001b[?25hRequirement already satisfied: torch>=1.6.0 in /opt/conda/lib/python3.7/site-packages (from sentence-transformers) (1.7.0)\r\n",
      "Requirement already satisfied: sentencepiece in /opt/conda/lib/python3.7/site-packages (from sentence-transformers) (0.1.95)\r\n",
      "Requirement already satisfied: scikit-learn in /opt/conda/lib/python3.7/site-packages (from sentence-transformers) (0.24.2)\r\n",
      "Requirement already satisfied: torchvision in /opt/conda/lib/python3.7/site-packages (from sentence-transformers) (0.8.1)\r\n",
      "Requirement already satisfied: nltk in /opt/conda/lib/python3.7/site-packages (from sentence-transformers) (3.2.4)\r\n",
      "Requirement already satisfied: future in /opt/conda/lib/python3.7/site-packages (from torch>=1.6.0->sentence-transformers) (0.18.2)\r\n",
      "Requirement already satisfied: typing_extensions in /opt/conda/lib/python3.7/site-packages (from torch>=1.6.0->sentence-transformers) (3.7.4.3)\r\n",
      "Requirement already satisfied: dataclasses in /opt/conda/lib/python3.7/site-packages (from torch>=1.6.0->sentence-transformers) (0.6)\r\n",
      "Requirement already satisfied: importlib-metadata in /opt/conda/lib/python3.7/site-packages (from transformers<5.0.0,>=4.6.0->sentence-transformers) (3.3.0)\r\n",
      "Requirement already satisfied: pyyaml>=5.1 in /opt/conda/lib/python3.7/site-packages (from transformers<5.0.0,>=4.6.0->sentence-transformers) (5.3.1)\r\n",
      "Requirement already satisfied: tokenizers<0.11,>=0.10.1 in /opt/conda/lib/python3.7/site-packages (from transformers<5.0.0,>=4.6.0->sentence-transformers) (0.10.3)\r\n",
      "Requirement already satisfied: filelock in /opt/conda/lib/python3.7/site-packages (from transformers<5.0.0,>=4.6.0->sentence-transformers) (3.0.12)\r\n",
      "Requirement already satisfied: requests in /opt/conda/lib/python3.7/site-packages (from transformers<5.0.0,>=4.6.0->sentence-transformers) (2.25.1)\r\n",
      "Requirement already satisfied: packaging>=20.0 in /opt/conda/lib/python3.7/site-packages (from transformers<5.0.0,>=4.6.0->sentence-transformers) (21.0)\r\n",
      "Requirement already satisfied: sacremoses in /opt/conda/lib/python3.7/site-packages (from transformers<5.0.0,>=4.6.0->sentence-transformers) (0.0.43)\r\n",
      "Requirement already satisfied: regex!=2019.12.17 in /opt/conda/lib/python3.7/site-packages (from transformers<5.0.0,>=4.6.0->sentence-transformers) (2020.11.13)\r\n",
      "Requirement already satisfied: pyparsing>=2.0.2 in /opt/conda/lib/python3.7/site-packages (from packaging>=20.0->transformers<5.0.0,>=4.6.0->sentence-transformers) (2.4.7)\r\n",
      "Requirement already satisfied: zipp>=0.5 in /opt/conda/lib/python3.7/site-packages (from importlib-metadata->transformers<5.0.0,>=4.6.0->sentence-transformers) (3.4.0)\r\n",
      "Requirement already satisfied: six in /opt/conda/lib/python3.7/site-packages (from nltk->sentence-transformers) (1.15.0)\r\n",
      "Requirement already satisfied: idna<3,>=2.5 in /opt/conda/lib/python3.7/site-packages (from requests->transformers<5.0.0,>=4.6.0->sentence-transformers) (2.10)\r\n",
      "Requirement already satisfied: certifi>=2017.4.17 in /opt/conda/lib/python3.7/site-packages (from requests->transformers<5.0.0,>=4.6.0->sentence-transformers) (2020.12.5)\r\n",
      "Requirement already satisfied: chardet<5,>=3.0.2 in /opt/conda/lib/python3.7/site-packages (from requests->transformers<5.0.0,>=4.6.0->sentence-transformers) (3.0.4)\r\n",
      "Requirement already satisfied: urllib3<1.27,>=1.21.1 in /opt/conda/lib/python3.7/site-packages (from requests->transformers<5.0.0,>=4.6.0->sentence-transformers) (1.26.2)\r\n",
      "Requirement already satisfied: joblib in /opt/conda/lib/python3.7/site-packages (from sacremoses->transformers<5.0.0,>=4.6.0->sentence-transformers) (0.17.0)\r\n",
      "Requirement already satisfied: click in /opt/conda/lib/python3.7/site-packages (from sacremoses->transformers<5.0.0,>=4.6.0->sentence-transformers) (7.1.2)\r\n",
      "Requirement already satisfied: threadpoolctl>=2.0.0 in /opt/conda/lib/python3.7/site-packages (from scikit-learn->sentence-transformers) (2.1.0)\r\n",
      "Requirement already satisfied: pillow>=4.1.1 in /opt/conda/lib/python3.7/site-packages (from torchvision->sentence-transformers) (7.2.0)\r\n",
      "Installing collected packages: huggingface-hub, transformers, sentence-transformers\r\n",
      "  Attempting uninstall: transformers\r\n",
      "    Found existing installation: transformers 4.0.1\r\n",
      "    Uninstalling transformers-4.0.1:\r\n",
      "      Successfully uninstalled transformers-4.0.1\r\n",
      "\u001b[31mERROR: pip's dependency resolver does not currently take into account all the packages that are installed. This behaviour is the source of the following dependency conflicts.\r\n",
      "allennlp 1.3.0 requires transformers<4.1,>=4.0, but you have transformers 4.11.0 which is incompatible.\u001b[0m\r\n",
      "Successfully installed huggingface-hub-0.0.17 sentence-transformers-2.0.0 transformers-4.11.0\r\n",
      "\u001b[33mWARNING: You are using pip version 21.0; however, version 21.2.4 is available.\r\n",
      "You should consider upgrading via the '/opt/conda/bin/python3.7 -m pip install --upgrade pip' command.\u001b[0m\r\n"
     ]
    }
   ],
   "source": [
    "!pip install -U sentence-transformers"
   ]
  },
  {
   "cell_type": "code",
   "execution_count": 5,
   "metadata": {
    "_kg_hide-output": true,
    "execution": {
     "iopub.execute_input": "2021-09-28T14:08:07.729680Z",
     "iopub.status.busy": "2021-09-28T14:08:07.728951Z",
     "iopub.status.idle": "2021-09-28T14:08:21.064543Z",
     "shell.execute_reply": "2021-09-28T14:08:21.063775Z",
     "shell.execute_reply.started": "2021-09-28T12:45:25.516368Z"
    },
    "papermill": {
     "duration": 13.794272,
     "end_time": "2021-09-28T14:08:21.064719",
     "exception": false,
     "start_time": "2021-09-28T14:08:07.270447",
     "status": "completed"
    },
    "tags": []
   },
   "outputs": [
    {
     "name": "stdout",
     "output_type": "stream",
     "text": [
      "Collecting kaleido\r\n",
      "  Downloading kaleido-0.2.1-py2.py3-none-manylinux1_x86_64.whl (79.9 MB)\r\n",
      "\u001b[K     |████████████████████████████████| 79.9 MB 108 kB/s \r\n",
      "\u001b[?25hInstalling collected packages: kaleido\r\n",
      "Successfully installed kaleido-0.2.1\r\n",
      "\u001b[33mWARNING: You are using pip version 21.0; however, version 21.2.4 is available.\r\n",
      "You should consider upgrading via the '/opt/conda/bin/python3.7 -m pip install --upgrade pip' command.\u001b[0m\r\n"
     ]
    }
   ],
   "source": [
    "# if png doesn't save correctly\n",
    "!pip install kaleido"
   ]
  },
  {
   "cell_type": "code",
   "execution_count": 6,
   "metadata": {
    "_kg_hide-output": true,
    "execution": {
     "iopub.execute_input": "2021-09-28T14:08:22.049547Z",
     "iopub.status.busy": "2021-09-28T14:08:22.046299Z",
     "iopub.status.idle": "2021-09-28T14:08:35.576417Z",
     "shell.execute_reply": "2021-09-28T14:08:35.576960Z",
     "shell.execute_reply.started": "2021-09-28T12:45:41.682173Z"
    },
    "papermill": {
     "duration": 14.028181,
     "end_time": "2021-09-28T14:08:35.577168",
     "exception": false,
     "start_time": "2021-09-28T14:08:21.548987",
     "status": "completed"
    },
    "tags": []
   },
   "outputs": [
    {
     "name": "stdout",
     "output_type": "stream",
     "text": [
      "\u001b[38;5;3m⚠ Skipping model package dependencies and setting `--no-deps`. You\r\n",
      "don't seem to have the spaCy package itself installed (maybe because you've\r\n",
      "built from source?), so installing the model dependencies would cause spaCy to\r\n",
      "be downloaded, which probably isn't what you want. If the model package has\r\n",
      "other dependencies, you'll have to install them manually.\u001b[0m\r\n",
      "Collecting fr_core_news_md==2.3.0\r\n",
      "  Downloading https://github.com/explosion/spacy-models/releases/download/fr_core_news_md-2.3.0/fr_core_news_md-2.3.0.tar.gz (46.1 MB)\r\n",
      "\u001b[K     |████████████████████████████████| 46.1 MB 7.2 MB/s \r\n",
      "\u001b[?25hBuilding wheels for collected packages: fr-core-news-md\r\n",
      "  Building wheel for fr-core-news-md (setup.py) ... \u001b[?25l-\b \b\\\b \b|\b \b/\b \b-\b \b\\\b \b|\b \b/\b \b-\b \b\\\b \b|\b \bdone\r\n",
      "\u001b[?25h  Created wheel for fr-core-news-md: filename=fr_core_news_md-2.3.0-py3-none-any.whl size=46100669 sha256=abb3b9e3be21f98d99240e378dffe418fc605f20e344961983f5ec3112db6b44\r\n",
      "  Stored in directory: /tmp/pip-ephem-wheel-cache-y08fowuv/wheels/62/a5/93/9c82d8ae84430ed80720262c11726d046d3444af301b7d2895\r\n",
      "Successfully built fr-core-news-md\r\n",
      "Installing collected packages: fr-core-news-md\r\n",
      "Successfully installed fr-core-news-md-2.3.0\r\n",
      "\u001b[33mWARNING: You are using pip version 21.0; however, version 21.2.4 is available.\r\n",
      "You should consider upgrading via the '/opt/conda/bin/python3 -m pip install --upgrade pip' command.\u001b[0m\r\n",
      "\u001b[38;5;2m✔ Download and installation successful\u001b[0m\r\n",
      "You can now load the model via spacy.load('fr_core_news_md')\r\n"
     ]
    }
   ],
   "source": [
    "# if spacy can't load spacy model :\n",
    "!python3 -m spacy download fr_core_news_md"
   ]
  },
  {
   "cell_type": "markdown",
   "metadata": {
    "papermill": {
     "duration": 0.543823,
     "end_time": "2021-09-28T14:08:36.620737",
     "exception": false,
     "start_time": "2021-09-28T14:08:36.076914",
     "status": "completed"
    },
    "tags": []
   },
   "source": [
    "# Import"
   ]
  },
  {
   "cell_type": "code",
   "execution_count": 7,
   "metadata": {
    "execution": {
     "iopub.execute_input": "2021-09-28T14:08:37.610656Z",
     "iopub.status.busy": "2021-09-28T14:08:37.608785Z",
     "iopub.status.idle": "2021-09-28T14:09:10.581988Z",
     "shell.execute_reply": "2021-09-28T14:09:10.581226Z",
     "shell.execute_reply.started": "2021-09-28T12:45:57.089862Z"
    },
    "papermill": {
     "duration": 33.469872,
     "end_time": "2021-09-28T14:09:10.582212",
     "exception": false,
     "start_time": "2021-09-28T14:08:37.112340",
     "status": "completed"
    },
    "tags": []
   },
   "outputs": [],
   "source": [
    "import pandas as pd\n",
    "from autonlp.autonlp import AutoNLP\n",
    "import os\n",
    "from pathlib import Path\n",
    "from autonlp.flags import Flags, save_yaml\n",
    "import dataclasses"
   ]
  },
  {
   "cell_type": "markdown",
   "metadata": {
    "papermill": {
     "duration": 0.488592,
     "end_time": "2021-09-28T14:09:11.606959",
     "exception": false,
     "start_time": "2021-09-28T14:09:11.118367",
     "status": "completed"
    },
    "tags": []
   },
   "source": [
    "# Flags update (parameters)"
   ]
  },
  {
   "cell_type": "code",
   "execution_count": 8,
   "metadata": {
    "execution": {
     "iopub.execute_input": "2021-09-28T14:09:12.599070Z",
     "iopub.status.busy": "2021-09-28T14:09:12.598110Z",
     "iopub.status.idle": "2021-09-28T14:09:13.547584Z",
     "shell.execute_reply": "2021-09-28T14:09:13.546991Z",
     "shell.execute_reply.started": "2021-09-28T12:46:23.467387Z"
    },
    "papermill": {
     "duration": 1.447519,
     "end_time": "2021-09-28T14:09:13.547752",
     "exception": false,
     "start_time": "2021-09-28T14:09:12.100233",
     "status": "completed"
    },
    "tags": []
   },
   "outputs": [],
   "source": [
    "# add logs from optimization to outdir :\n",
    "!cp -r /kaggle/input/logs-optimization/logs /kaggle/working/logs"
   ]
  },
  {
   "cell_type": "code",
   "execution_count": 9,
   "metadata": {
    "execution": {
     "iopub.execute_input": "2021-09-28T14:09:14.512527Z",
     "iopub.status.busy": "2021-09-28T14:09:14.511400Z",
     "iopub.status.idle": "2021-09-28T14:09:14.550003Z",
     "shell.execute_reply": "2021-09-28T14:09:14.550489Z",
     "shell.execute_reply.started": "2021-09-28T12:46:24.432171Z"
    },
    "papermill": {
     "duration": 0.529188,
     "end_time": "2021-09-28T14:09:14.550706",
     "exception": false,
     "start_time": "2021-09-28T14:09:14.021518",
     "status": "completed"
    },
    "tags": []
   },
   "outputs": [
    {
     "name": "stdout",
     "output_type": "stream",
     "text": [
      "flags : Flags(path_data='/kaggle/input/finance-corpus/FinancialPhraseBank_train.csv', path_data_validation='', apply_logs=True, outdir='/kaggle/working/logs', apply_mlflow=False, experiment_name='Experiment', apply_app=False, debug=False, seed=15, column_text='text_fr', language_text='fr', target='sentiment', apply_small_clean=True, name_spacy_model='fr_core_news_md', apply_spacy_preprocessing=True, apply_entity_preprocessing=True, objective='multi-class', embedding={'tf': 1, 'tf-idf': 2, 'word2vec': None, 'fasttext': None, 'doc2vec': None, 'transformer': None}, classifier={'Naive_Bayes': [1], 'Logistic_Regression': [1], 'SGD_Classifier': [2], 'XGBoost': [], 'Global_Average': [], 'Attention': [], 'BiRNN': [], 'BiRNN_Attention': [], 'biLSTM': [], 'BiLSTM_Attention': [], 'biGRU': [], 'BiGRU_Attention': []}, regressor={'SGD_Regressor': [1], 'XGBoost': [], 'Global_Average': [2], 'Attention': [], 'BiRNN': [], 'BiRNN_Attention': [], 'biLSTM': [], 'BiLSTM_Attention': [], 'biGRU': [], 'BiGRU_Attention': []}, clustering={'NMF_frobenius': [1], 'NMF_kullback': [], 'LDA': [], 'hdbscan': [], 'ACP_hdbscan': [], 'UMAP_hdbscan': [], 'kmeans': [], 'ACP_kmeans': [2], 'UMAP_kmeans': [], 'agglomerativeclustering': [], 'ACP_agglomerativeclustering': [], 'UMAP_agglomerativeclustering': [], 'Zero_shot': []}, max_run_time_per_model=60, max_trial_per_model=1000, frac_trainset=0.7, nfolds=5, nfolds_train=5, scoring='f1', average_scoring='macro', cv_strategy='KFold', class_weight=True, size_params='small', method_embedding={'Word2vec': 'Word2Vec', 'Fasttext': 'FastText', 'Doc2Vec': 'Doc2Vec', 'Transformer': 'CamemBERT', 'spacy': [(['ADJ', 'NOUN', 'VERB'], True)]}, apply_optimization=False, apply_validation=True, apply_blend_model=True, path_models_parameters=None, path_models_best_parameters=None, verbose=2, batch_size=32, patience=2, epochs=60, min_lr=0.0001, apply_ray=False, ray_max_model_parallel=1, ray_cpu_per_model=1, ray_gpu_per_model=0, ray_verbose=2, sort_leaderboard='f1', map_label={}, dimension_embedding='doc_embedding', n_groups=7, alpha_nmf=0.1, l1_ratio=0.5, max_iter_lda=5, acp_n_components=2, umap_n_components=2, umap_n_neighbors=15, min_cluster_size=15, aglc_linkage='ward', vocabulary_labels={'positif': ['positif', 'bien'], 'négatif': ['négatif', 'mauvais']}, show_top_terms_topics=False, preprocess_topic=(['ADJ', 'NOUN', 'VERB'], True), n_top_words=10, min_ngram=1, max_ngram=1, tf_binary=False, tf_ngram_range=[(1, 1), (1, 2), (1, 3)], tf_stop_words=True, tf_wde_binary=False, tf_wde_stop_words=True, tf_wde_ngram_range=(1, 1), tf_wde_vector_size=200, tf_wde_max_features=20000, tf_wde_maxlen=250, tf_wde_learning_rate=[0.001], tfidf_binary=False, tfidf_ngram_range=[(1, 1), (1, 2), (1, 3)], tfidf_stop_words=True, tfidf_wde_binary=False, tfidf_wde_stop_words=True, tfidf_wde_ngram_range=(1, 1), tfidf_wde_vector_size=200, tfidf_wde_max_features=20000, tfidf_wde_maxlen=250, tfidf_wde_learning_rate=[0.001], w2v_size_vector=300, w2v_window=5, w2v_epochs=10, w2v_sg=0, w2v_maxlen=250, w2v_max_features=20000, w2v_learning_rate=[0.001], ft_size_vector=300, ft_window=5, ft_epochs=10, ft_thr_grams=10, ft_sg=0, ft_maxlen=250, ft_max_features=20000, ft_learning_rate=[0.001], d2v_size_vector=300, d2v_window=5, d2v_epochs=10, d2v_sg=0, d2v_maxlen=250, d2v_max_features=20000, d2v_learning_rate=[0.001], tr_maxlen=100, tr_learning_rate=[3e-05], nb_alpha_min=0.0, nb_alpha_max=1.0, logr_C_min=0.01, logr_C_max=100.0, logr_penalty=['l2', 'l1'], sgd_alpha_min=0.0001, sgd_alpha_max=0.01, sgdc_penalty=['l2', 'l1'], sgdc_loss=['log', 'modified_huber'], sgdr_penalty=['l2', 'l1'], sgdr_loss=['squared_loss', 'huber', 'epsilon_insensitive'], xgb_n_estimators_min=20, xgb_n_estimators_max=200, xgb_max_depth_min=3, xgb_max_depth_max=10, xgb_learning_rate_min=0.04, xgb_learning_rate_max=0.3, xgb_subsample_min=0.5, xgb_subsample_max=1.0, ga_dropout_rate_min=0, ga_dropout_rate_max=0.5, rnn_hidden_unit_min=120, rnn_hidden_unit_max=130, rnn_dropout_rate_min=0, rnn_dropout_rate_max=0.5, lstm_hidden_unit_min=120, lstm_hidden_unit_max=130, lstm_dropout_rate_min=0, lstm_dropout_rate_max=0.5, gru_hidden_unit_min=120, gru_hidden_unit_max=130, gru_dropout_rate_min=0, gru_dropout_rate_max=0.5, att_dropout_rate_min=0, att_dropout_rate_max=0.5)\n"
     ]
    }
   ],
   "source": [
    "#####################\n",
    "# Parameters\n",
    "#####################\n",
    "\n",
    "flags_dict_info = {\n",
    "    \"path_data\": \"/kaggle/input/finance-corpus/FinancialPhraseBank_train.csv\",\n",
    "    \"path_data_validation\": \"\",\n",
    "    \"apply_logs\": True,\n",
    "    \"outdir\": \"/kaggle/working/logs\",\n",
    "    \"seed\": 15,\n",
    "    \"debug\": False,  # for debug : use only 50 data rows for training\n",
    "}\n",
    "flags_dict_preprocessing = {\n",
    "    \"column_text\": \"text_fr\",  # name column with texts\n",
    "    \"target\": \"sentiment\",     # name column with targets\n",
    "    \"language_text\": \"fr\",\n",
    "    \"apply_small_clean\": True,\n",
    "    \"name_spacy_model\": \"fr_core_news_md\",\n",
    "    \"apply_spacy_preprocessing\": True,\n",
    "    \"apply_entity_preprocessing\": True\n",
    "}\n",
    "\n",
    "flags_dict_autonlp = {\n",
    "    \"objective\": 'multi-class',    # 'binary' or 'multi-class' or 'regression'\n",
    "    \n",
    "    \"embedding\": {\"tf\": 1, \"tf-idf\": 2, \"word2vec\": None, \"fasttext\": None, \"doc2vec\": None, \"transformer\": None},\n",
    "    \n",
    "    \"classifier\": {\"Naive_Bayes\": [1], \"Logistic_Regression\": [1], \"SGD_Classifier\": [2],\n",
    "                   \"XGBoost\": [], \"Global_Average\": [], \"Attention\": [], \"BiRNN\": [], \"BiRNN_Attention\": [],\n",
    "                   \"biLSTM\": [], \"BiLSTM_Attention\": [], \"biGRU\": [], \"BiGRU_Attention\": []},\n",
    "    \n",
    "    \"max_run_time_per_model\": 60,\n",
    "    \"frac_trainset\": 0.7,\n",
    "    \"scoring\": 'f1',\n",
    "    \"average_scoring\": \"macro\",\n",
    "    \"nfolds\": 5,\n",
    "    \"nfolds_train\": 5,\n",
    "    \"class_weight\": True,\n",
    "    \"apply_blend_model\": True,\n",
    "    \"verbose\": 2,\n",
    "    \"method_embedding\": {'Word2vec': 'Word2Vec',\n",
    "                         'Fasttext': 'FastText',\n",
    "                         'Doc2Vec': 'Doc2Vec',\n",
    "                         'Transformer': 'CamemBERT',\n",
    "                         'spacy': [(['ADJ', 'NOUN', 'VERB'], True)]},\n",
    "\n",
    "    \"apply_optimization\": False,\n",
    "    \"apply_validation\": True,\n",
    "    \n",
    "    \"batch_size\":32,\n",
    "    \"tr_learning_rate\": [3e-5],\n",
    "    \"tr_maxlen\": 100,\n",
    "    \"patience\":2\n",
    "}\n",
    "\n",
    "flags_dict_display = {\n",
    "    \"sort_leaderboard\": 'f1'\n",
    "}\n",
    "\n",
    "flags = Flags().update(flags_dict_info)\n",
    "flags = flags.update(flags_dict_preprocessing)\n",
    "flags = flags.update(flags_dict_autonlp)\n",
    "flags = flags.update(flags_dict_display)\n",
    "print(\"flags :\", flags)\n",
    "debug = flags.debug\n",
    "outdir = Path(flags.outdir)\n",
    "os.makedirs(str(outdir), exist_ok=True)\n",
    "flags_dict = dataclasses.asdict(flags)\n",
    "save_yaml(outdir / \"flags.yaml\", flags_dict)"
   ]
  },
  {
   "cell_type": "markdown",
   "metadata": {
    "papermill": {
     "duration": 0.486376,
     "end_time": "2021-09-28T14:09:15.524104",
     "exception": false,
     "start_time": "2021-09-28T14:09:15.037728",
     "status": "completed"
    },
    "tags": []
   },
   "source": [
    "# Instantiation"
   ]
  },
  {
   "cell_type": "code",
   "execution_count": 10,
   "metadata": {
    "execution": {
     "iopub.execute_input": "2021-09-28T14:09:16.627148Z",
     "iopub.status.busy": "2021-09-28T14:09:16.626091Z",
     "iopub.status.idle": "2021-09-28T14:09:16.657811Z",
     "shell.execute_reply": "2021-09-28T14:09:16.657143Z",
     "shell.execute_reply.started": "2021-09-28T12:46:24.462961Z"
    },
    "papermill": {
     "duration": 0.546359,
     "end_time": "2021-09-28T14:09:16.657983",
     "exception": false,
     "start_time": "2021-09-28T14:09:16.111624",
     "status": "completed"
    },
    "tags": []
   },
   "outputs": [],
   "source": [
    "autonlp = AutoNLP(flags)"
   ]
  },
  {
   "cell_type": "markdown",
   "metadata": {
    "papermill": {
     "duration": 0.515752,
     "end_time": "2021-09-28T14:09:17.678134",
     "exception": false,
     "start_time": "2021-09-28T14:09:17.162382",
     "status": "completed"
    },
    "tags": []
   },
   "source": [
    "# Preprocessing"
   ]
  },
  {
   "cell_type": "code",
   "execution_count": 11,
   "metadata": {
    "execution": {
     "iopub.execute_input": "2021-09-28T14:09:18.706021Z",
     "iopub.status.busy": "2021-09-28T14:09:18.705319Z",
     "iopub.status.idle": "2021-09-28T14:09:54.127600Z",
     "shell.execute_reply": "2021-09-28T14:09:54.126756Z",
     "shell.execute_reply.started": "2021-09-28T12:46:24.488349Z"
    },
    "papermill": {
     "duration": 35.93716,
     "end_time": "2021-09-28T14:09:54.127792",
     "exception": false,
     "start_time": "2021-09-28T14:09:18.190632",
     "status": "completed"
    },
    "tags": []
   },
   "outputs": [
    {
     "name": "stdout",
     "output_type": "stream",
     "text": [
      "\n",
      "Read data...\n",
      "\n",
      "Begin preparation of 3876 data :\n",
      "\n",
      "Training set size : 2713\n",
      "Test set size : 1163\n",
      "\n",
      "Begin preprocessing of 2713 train data :\n",
      "\u001b[38;5;3m⚠ Skipping model package dependencies and setting `--no-deps`. You\n",
      "don't seem to have the spaCy package itself installed (maybe because you've\n",
      "built from source?), so installing the model dependencies would cause spaCy to\n",
      "be downloaded, which probably isn't what you want. If the model package has\n",
      "other dependencies, you'll have to install them manually.\u001b[0m\n",
      "\u001b[38;5;2m✔ Download and installation successful\u001b[0m\n",
      "You can now load the model via spacy.load('fr_core_news_md')\n",
      "- Apply small clean of texts...\n",
      "- Apply nlp.pipe from spacy...\n",
      "- Apply entities preprocessing...\n",
      "\n",
      "Begin preprocessing of 1163 test data :\n",
      "- Apply small clean of texts...\n",
      "- Apply nlp.pipe from spacy...\n",
      "- Apply entities preprocessing...\n",
      "CPU times: user 26.5 s, sys: 4.05 s, total: 30.6 s\n",
      "Wall time: 35.4 s\n"
     ]
    }
   ],
   "source": [
    "%%time\n",
    "autonlp.data_preprocessing()"
   ]
  },
  {
   "cell_type": "markdown",
   "metadata": {
    "papermill": {
     "duration": 0.821994,
     "end_time": "2021-09-28T14:09:55.623319",
     "exception": false,
     "start_time": "2021-09-28T14:09:54.801325",
     "status": "completed"
    },
    "tags": []
   },
   "source": [
    "# Training"
   ]
  },
  {
   "cell_type": "code",
   "execution_count": 12,
   "metadata": {
    "execution": {
     "iopub.execute_input": "2021-09-28T14:09:57.452059Z",
     "iopub.status.busy": "2021-09-28T14:09:57.451354Z",
     "iopub.status.idle": "2021-09-28T14:11:48.771982Z",
     "shell.execute_reply": "2021-09-28T14:11:48.772553Z",
     "shell.execute_reply.started": "2021-09-28T12:46:50.754207Z"
    },
    "papermill": {
     "duration": 112.268652,
     "end_time": "2021-09-28T14:11:48.772835",
     "exception": false,
     "start_time": "2021-09-28T14:09:56.504183",
     "status": "completed"
    },
    "tags": []
   },
   "outputs": [
    {
     "name": "stdout",
     "output_type": "stream",
     "text": [
      "List of models : ['tf+Naive_Bayes_ADJ_NOUN_VERB_lem', 'tf+Logistic_Regression_ADJ_NOUN_VERB_lem', 'tf-idf+SGD_Classifier_ADJ_NOUN_VERB_lem']\n",
      "\n",
      "\u001b[4mtf+Naive_Bayes_ADJ_NOUN_VERB_lem Model\u001b[0m:\n",
      "Load parameters from models_parameters path...\n",
      "apply_optimization is False and models_parameters path isn't provided, use best model parameters from /kaggle/working/logs/models_best_parameters.json.\n",
      "\n",
      "- Training & Cross-Validation:\n",
      "Fold 0:\n",
      "Fold 1:\n",
      "Fold 2:\n",
      "Fold 3:\n",
      "Fold 4:\n",
      "\n",
      "Scores :\n",
      "accuracy = 0.7147\n",
      "precision macro = 0.6613\n",
      "recall macro = 0.6494\n",
      "f1 score macro = 0.6544\n",
      "\n",
      "\n",
      "Time validation : 2.726900625999974\n",
      "In directory '/kaggle/working/logs/best_logs/tf/Naive_Bayes_ADJ_NOUN_VERB_lem', there is no registered model and has same parameters than model from last_logs. Copy models from last_logs to best_logs for tf+Naive_Bayes_ADJ_NOUN_VERB_lem.\n",
      "\n",
      "\u001b[4mtf+Logistic_Regression_ADJ_NOUN_VERB_lem Model\u001b[0m:\n",
      "Load parameters from models_parameters path...\n",
      "apply_optimization is False and models_parameters path isn't provided, use best model parameters from /kaggle/working/logs/models_best_parameters.json.\n",
      "\n",
      "- Training & Cross-Validation:\n",
      "Fold 0:\n",
      "Fold 1:\n",
      "Fold 2:\n",
      "Fold 3:\n",
      "Fold 4:\n",
      "\n",
      "Scores :\n",
      "accuracy = 0.7497\n",
      "precision macro = 0.7178\n",
      "recall macro = 0.6682\n",
      "f1 score macro = 0.688\n",
      "\n",
      "\n",
      "Time validation : 102.2133772389999\n",
      "In directory '/kaggle/working/logs/best_logs/tf/Logistic_Regression_ADJ_NOUN_VERB_lem', there is no registered model and has same parameters than model from last_logs. Copy models from last_logs to best_logs for tf+Logistic_Regression_ADJ_NOUN_VERB_lem.\n",
      "\n",
      "\u001b[4mtf-idf+SGD_Classifier_ADJ_NOUN_VERB_lem Model\u001b[0m:\n",
      "Load parameters from models_parameters path...\n",
      "apply_optimization is False and models_parameters path isn't provided, use best model parameters from /kaggle/working/logs/models_best_parameters.json.\n",
      "\n",
      "- Training & Cross-Validation:\n",
      "Fold 0:\n",
      "Fold 1:\n",
      "Fold 2:\n",
      "Fold 3:\n",
      "Fold 4:\n",
      "\n",
      "Scores :\n",
      "accuracy = 0.7446\n",
      "precision macro = 0.7101\n",
      "recall macro = 0.6838\n",
      "f1 score macro = 0.6955\n",
      "\n",
      "\n",
      "Time validation : 0.9454870289999917\n",
      "In directory '/kaggle/working/logs/best_logs/tf-idf/SGD_Classifier_ADJ_NOUN_VERB_lem', there is no registered model and has same parameters than model from last_logs. Copy models from last_logs to best_logs for tf-idf+SGD_Classifier_ADJ_NOUN_VERB_lem.\n",
      "\n",
      "\u001b[4mBlend Model\u001b[0m:\n",
      "\n",
      "Scores :\n",
      "accuracy = 0.7519\n",
      "precision macro = 0.7137\n",
      "recall macro = 0.6837\n",
      "f1 score macro = 0.6961\n",
      "\n",
      "\n"
     ]
    }
   ],
   "source": [
    "autonlp.train()"
   ]
  },
  {
   "cell_type": "markdown",
   "metadata": {
    "papermill": {
     "duration": 0.543718,
     "end_time": "2021-09-28T14:11:49.850574",
     "exception": false,
     "start_time": "2021-09-28T14:11:49.306856",
     "status": "completed"
    },
    "tags": []
   },
   "source": [
    "# Leaderboard (Train score)"
   ]
  },
  {
   "cell_type": "code",
   "execution_count": 13,
   "metadata": {
    "execution": {
     "iopub.execute_input": "2021-09-28T14:11:50.914881Z",
     "iopub.status.busy": "2021-09-28T14:11:50.913496Z",
     "iopub.status.idle": "2021-09-28T14:11:50.934289Z",
     "shell.execute_reply": "2021-09-28T14:11:50.933648Z",
     "shell.execute_reply.started": "2021-09-28T12:48:36.895821Z"
    },
    "papermill": {
     "duration": 0.567372,
     "end_time": "2021-09-28T14:11:50.934489",
     "exception": false,
     "start_time": "2021-09-28T14:11:50.367117",
     "status": "completed"
    },
    "tags": []
   },
   "outputs": [
    {
     "name": "stdout",
     "output_type": "stream",
     "text": [
      "Train Leaderboard\n"
     ]
    },
    {
     "data": {
      "text/html": [
       "<div>\n",
       "<style scoped>\n",
       "    .dataframe tbody tr th:only-of-type {\n",
       "        vertical-align: middle;\n",
       "    }\n",
       "\n",
       "    .dataframe tbody tr th {\n",
       "        vertical-align: top;\n",
       "    }\n",
       "\n",
       "    .dataframe thead th {\n",
       "        text-align: right;\n",
       "    }\n",
       "</style>\n",
       "<table border=\"1\" class=\"dataframe\">\n",
       "  <thead>\n",
       "    <tr style=\"text-align: right;\">\n",
       "      <th></th>\n",
       "      <th>name</th>\n",
       "      <th>accuracy_train</th>\n",
       "      <th>recall_macro_train</th>\n",
       "      <th>precision_macro_train</th>\n",
       "      <th>f1_macro_train</th>\n",
       "    </tr>\n",
       "  </thead>\n",
       "  <tbody>\n",
       "    <tr>\n",
       "      <th>1</th>\n",
       "      <td>tf+Logistic_Regression_ADJ_NOUN_VERB_lem</td>\n",
       "      <td>0.9975</td>\n",
       "      <td>0.9970</td>\n",
       "      <td>0.9958</td>\n",
       "      <td>0.9964</td>\n",
       "    </tr>\n",
       "    <tr>\n",
       "      <th>0</th>\n",
       "      <td>tf+Naive_Bayes_ADJ_NOUN_VERB_lem</td>\n",
       "      <td>0.9682</td>\n",
       "      <td>0.9749</td>\n",
       "      <td>0.9417</td>\n",
       "      <td>0.9566</td>\n",
       "    </tr>\n",
       "    <tr>\n",
       "      <th>2</th>\n",
       "      <td>tf-idf+SGD_Classifier_ADJ_NOUN_VERB_lem</td>\n",
       "      <td>0.9051</td>\n",
       "      <td>0.8969</td>\n",
       "      <td>0.8971</td>\n",
       "      <td>0.8966</td>\n",
       "    </tr>\n",
       "  </tbody>\n",
       "</table>\n",
       "</div>"
      ],
      "text/plain": [
       "                                       name  accuracy_train  \\\n",
       "1  tf+Logistic_Regression_ADJ_NOUN_VERB_lem          0.9975   \n",
       "0          tf+Naive_Bayes_ADJ_NOUN_VERB_lem          0.9682   \n",
       "2   tf-idf+SGD_Classifier_ADJ_NOUN_VERB_lem          0.9051   \n",
       "\n",
       "   recall_macro_train  precision_macro_train  f1_macro_train  \n",
       "1              0.9970                 0.9958          0.9964  \n",
       "0              0.9749                 0.9417          0.9566  \n",
       "2              0.8969                 0.8971          0.8966  "
      ]
     },
     "execution_count": 13,
     "metadata": {},
     "output_type": "execute_result"
    }
   ],
   "source": [
    "leaderboard_train = autonlp.get_leaderboard(sort_by=flags.sort_leaderboard, dataset='train')\n",
    "print('Train Leaderboard')\n",
    "leaderboard_train.to_csv(os.path.join(flags.outdir,'leaderboard_train.csv'), index=False)\n",
    "leaderboard_train"
   ]
  },
  {
   "cell_type": "markdown",
   "metadata": {
    "papermill": {
     "duration": 0.546355,
     "end_time": "2021-09-28T14:11:52.019357",
     "exception": false,
     "start_time": "2021-09-28T14:11:51.473002",
     "status": "completed"
    },
    "tags": []
   },
   "source": [
    "# Leaderboard (Validation score)"
   ]
  },
  {
   "cell_type": "code",
   "execution_count": 14,
   "metadata": {
    "execution": {
     "iopub.execute_input": "2021-09-28T14:11:53.091135Z",
     "iopub.status.busy": "2021-09-28T14:11:53.082522Z",
     "iopub.status.idle": "2021-09-28T14:11:53.096381Z",
     "shell.execute_reply": "2021-09-28T14:11:53.095663Z",
     "shell.execute_reply.started": "2021-09-28T12:48:36.925797Z"
    },
    "papermill": {
     "duration": 0.547088,
     "end_time": "2021-09-28T14:11:53.096554",
     "exception": false,
     "start_time": "2021-09-28T14:11:52.549466",
     "status": "completed"
    },
    "tags": []
   },
   "outputs": [
    {
     "name": "stdout",
     "output_type": "stream",
     "text": [
      "\n",
      "Validation Leaderboard\n"
     ]
    },
    {
     "data": {
      "text/html": [
       "<div>\n",
       "<style scoped>\n",
       "    .dataframe tbody tr th:only-of-type {\n",
       "        vertical-align: middle;\n",
       "    }\n",
       "\n",
       "    .dataframe tbody tr th {\n",
       "        vertical-align: top;\n",
       "    }\n",
       "\n",
       "    .dataframe thead th {\n",
       "        text-align: right;\n",
       "    }\n",
       "</style>\n",
       "<table border=\"1\" class=\"dataframe\">\n",
       "  <thead>\n",
       "    <tr style=\"text-align: right;\">\n",
       "      <th></th>\n",
       "      <th>name</th>\n",
       "      <th>accuracy_val</th>\n",
       "      <th>recall_macro_val</th>\n",
       "      <th>precision_macro_val</th>\n",
       "      <th>f1_macro_val</th>\n",
       "    </tr>\n",
       "  </thead>\n",
       "  <tbody>\n",
       "    <tr>\n",
       "      <th>3</th>\n",
       "      <td>BlendModel</td>\n",
       "      <td>0.7519</td>\n",
       "      <td>0.6837</td>\n",
       "      <td>0.7137</td>\n",
       "      <td>0.6961</td>\n",
       "    </tr>\n",
       "    <tr>\n",
       "      <th>2</th>\n",
       "      <td>tf-idf+SGD_Classifier_ADJ_NOUN_VERB_lem</td>\n",
       "      <td>0.7446</td>\n",
       "      <td>0.6838</td>\n",
       "      <td>0.7101</td>\n",
       "      <td>0.6955</td>\n",
       "    </tr>\n",
       "    <tr>\n",
       "      <th>1</th>\n",
       "      <td>tf+Logistic_Regression_ADJ_NOUN_VERB_lem</td>\n",
       "      <td>0.7497</td>\n",
       "      <td>0.6682</td>\n",
       "      <td>0.7178</td>\n",
       "      <td>0.6880</td>\n",
       "    </tr>\n",
       "    <tr>\n",
       "      <th>0</th>\n",
       "      <td>tf+Naive_Bayes_ADJ_NOUN_VERB_lem</td>\n",
       "      <td>0.7147</td>\n",
       "      <td>0.6494</td>\n",
       "      <td>0.6613</td>\n",
       "      <td>0.6544</td>\n",
       "    </tr>\n",
       "  </tbody>\n",
       "</table>\n",
       "</div>"
      ],
      "text/plain": [
       "                                       name  accuracy_val  recall_macro_val  \\\n",
       "3                                BlendModel        0.7519            0.6837   \n",
       "2   tf-idf+SGD_Classifier_ADJ_NOUN_VERB_lem        0.7446            0.6838   \n",
       "1  tf+Logistic_Regression_ADJ_NOUN_VERB_lem        0.7497            0.6682   \n",
       "0          tf+Naive_Bayes_ADJ_NOUN_VERB_lem        0.7147            0.6494   \n",
       "\n",
       "   precision_macro_val  f1_macro_val  \n",
       "3               0.7137        0.6961  \n",
       "2               0.7101        0.6955  \n",
       "1               0.7178        0.6880  \n",
       "0               0.6613        0.6544  "
      ]
     },
     "execution_count": 14,
     "metadata": {},
     "output_type": "execute_result"
    }
   ],
   "source": [
    "leaderboard_val = autonlp.get_leaderboard(sort_by=flags.sort_leaderboard, dataset='val')\n",
    "print('\\nValidation Leaderboard')\n",
    "leaderboard_val.to_csv(os.path.join(flags.outdir,'leaderboard_val.csv'), index=False)\n",
    "leaderboard_val"
   ]
  },
  {
   "cell_type": "code",
   "execution_count": 15,
   "metadata": {
    "execution": {
     "iopub.execute_input": "2021-09-28T14:11:54.130883Z",
     "iopub.status.busy": "2021-09-28T14:11:54.130078Z",
     "iopub.status.idle": "2021-09-28T14:11:54.578994Z",
     "shell.execute_reply": "2021-09-28T14:11:54.578423Z",
     "shell.execute_reply.started": "2021-09-28T12:48:36.951396Z"
    },
    "papermill": {
     "duration": 0.969544,
     "end_time": "2021-09-28T14:11:54.579153",
     "exception": false,
     "start_time": "2021-09-28T14:11:53.609609",
     "status": "completed"
    },
    "tags": []
   },
   "outputs": [
    {
     "data": {
      "image/png": "[encoded data removed]",
      "text/plain": [
       "<Figure size 720x720 with 2 Axes>"
      ]
     },
     "metadata": {},
     "output_type": "display_data"
    }
   ],
   "source": [
    "# correlation between oof_val predictions\n",
    "autonlp.correlation_models()"
   ]
  },
  {
   "cell_type": "code",
   "execution_count": 16,
   "metadata": {
    "execution": {
     "iopub.execute_input": "2021-09-28T14:11:55.636436Z",
     "iopub.status.busy": "2021-09-28T14:11:55.635293Z",
     "iopub.status.idle": "2021-09-28T14:11:55.637971Z",
     "shell.execute_reply": "2021-09-28T14:11:55.638648Z",
     "shell.execute_reply.started": "2021-09-28T12:48:37.318657Z"
    },
    "papermill": {
     "duration": 0.525493,
     "end_time": "2021-09-28T14:11:55.638861",
     "exception": false,
     "start_time": "2021-09-28T14:11:55.113368",
     "status": "completed"
    },
    "tags": []
   },
   "outputs": [],
   "source": [
    "#df_all_results = pd.read_csv(\"/kaggle/working/logs/df_all_results.csv\")\n",
    "#if len(df_all_results) > 0:\n",
    "#    df_all_results_mean = df_all_results.groupby('model').mean().sort_values('mean_test_score', ascending=False)\n",
    "#    print('\\nGridSearch information Leaderboard')\n",
    "#    df_all_results.to_csv(os.path.join(flags.outdir,'df_all_results_mean.csv'), index=False)\n",
    "#    print(df_all_results_mean)"
   ]
  },
  {
   "cell_type": "code",
   "execution_count": 17,
   "metadata": {
    "execution": {
     "iopub.execute_input": "2021-09-28T14:11:56.710759Z",
     "iopub.status.busy": "2021-09-28T14:11:56.709695Z",
     "iopub.status.idle": "2021-09-28T14:11:56.714665Z",
     "shell.execute_reply": "2021-09-28T14:11:56.715264Z",
     "shell.execute_reply.started": "2021-09-28T12:48:37.325923Z"
    },
    "papermill": {
     "duration": 0.555664,
     "end_time": "2021-09-28T14:11:56.715512",
     "exception": false,
     "start_time": "2021-09-28T14:11:56.159848",
     "status": "completed"
    },
    "tags": []
   },
   "outputs": [],
   "source": [
    "#df_all_results"
   ]
  },
  {
   "cell_type": "code",
   "execution_count": 18,
   "metadata": {
    "execution": {
     "iopub.execute_input": "2021-09-28T14:11:57.783978Z",
     "iopub.status.busy": "2021-09-28T14:11:57.782911Z",
     "iopub.status.idle": "2021-09-28T14:11:57.786944Z",
     "shell.execute_reply": "2021-09-28T14:11:57.787478Z",
     "shell.execute_reply.started": "2021-09-28T12:48:37.342969Z"
    },
    "papermill": {
     "duration": 0.537324,
     "end_time": "2021-09-28T14:11:57.787682",
     "exception": false,
     "start_time": "2021-09-28T14:11:57.250358",
     "status": "completed"
    },
    "tags": []
   },
   "outputs": [],
   "source": [
    "#df_all_results.groupby(['model'])['mean_test_score'].max()"
   ]
  },
  {
   "cell_type": "code",
   "execution_count": 19,
   "metadata": {
    "execution": {
     "iopub.execute_input": "2021-09-28T14:11:58.851578Z",
     "iopub.status.busy": "2021-09-28T14:11:58.850380Z",
     "iopub.status.idle": "2021-09-28T14:11:58.854169Z",
     "shell.execute_reply": "2021-09-28T14:11:58.854789Z",
     "shell.execute_reply.started": "2021-09-28T12:48:37.352595Z"
    },
    "papermill": {
     "duration": 0.539547,
     "end_time": "2021-09-28T14:11:58.854988",
     "exception": false,
     "start_time": "2021-09-28T14:11:58.315441",
     "status": "completed"
    },
    "tags": []
   },
   "outputs": [],
   "source": [
    "#from PIL import Image\n",
    "#Image.open(os.path.join(flags.outdir, 'boxplot_df_all_results.png'))"
   ]
  },
  {
   "cell_type": "code",
   "execution_count": 20,
   "metadata": {
    "execution": {
     "iopub.execute_input": "2021-09-28T14:11:59.931948Z",
     "iopub.status.busy": "2021-09-28T14:11:59.930902Z",
     "iopub.status.idle": "2021-09-28T14:11:59.935848Z",
     "shell.execute_reply": "2021-09-28T14:11:59.936488Z",
     "shell.execute_reply.started": "2021-09-28T12:48:37.362967Z"
    },
    "papermill": {
     "duration": 0.554439,
     "end_time": "2021-09-28T14:11:59.936699",
     "exception": false,
     "start_time": "2021-09-28T14:11:59.382260",
     "status": "completed"
    },
    "tags": []
   },
   "outputs": [],
   "source": [
    "try:\n",
    "    Image.open(os.path.join(flags.outdir, 'last_logs', 'metric_scores_val.png'))\n",
    "except:\n",
    "    pass"
   ]
  },
  {
   "cell_type": "markdown",
   "metadata": {
    "papermill": {
     "duration": 0.564779,
     "end_time": "2021-09-28T14:12:01.028748",
     "exception": false,
     "start_time": "2021-09-28T14:12:00.463969",
     "status": "completed"
    },
    "tags": []
   },
   "source": [
    "# Testing on test set from train/test split"
   ]
  },
  {
   "cell_type": "code",
   "execution_count": 21,
   "metadata": {
    "execution": {
     "iopub.execute_input": "2021-09-28T14:12:02.066627Z",
     "iopub.status.busy": "2021-09-28T14:12:02.065734Z",
     "iopub.status.idle": "2021-09-28T14:12:02.072522Z",
     "shell.execute_reply": "2021-09-28T14:12:02.071893Z",
     "shell.execute_reply.started": "2021-09-28T12:48:37.374828Z"
    },
    "papermill": {
     "duration": 0.530929,
     "end_time": "2021-09-28T14:12:02.072701",
     "exception": false,
     "start_time": "2021-09-28T14:12:01.541772",
     "status": "completed"
    },
    "tags": []
   },
   "outputs": [],
   "source": [
    "#name_logs = 'best_logs'\n",
    "#on_test_data = True\n",
    "#autonlp.leader_predict(name_logs = name_logs, on_test_data = on_test_data)"
   ]
  },
  {
   "cell_type": "code",
   "execution_count": 22,
   "metadata": {
    "execution": {
     "iopub.execute_input": "2021-09-28T14:12:03.135149Z",
     "iopub.status.busy": "2021-09-28T14:12:03.134112Z",
     "iopub.status.idle": "2021-09-28T14:12:03.138217Z",
     "shell.execute_reply": "2021-09-28T14:12:03.138774Z",
     "shell.execute_reply.started": "2021-09-28T12:48:37.388574Z"
    },
    "papermill": {
     "duration": 0.532163,
     "end_time": "2021-09-28T14:12:03.138975",
     "exception": false,
     "start_time": "2021-09-28T14:12:02.606812",
     "status": "completed"
    },
    "tags": []
   },
   "outputs": [],
   "source": [
    "#leaderboard_test = autonlp.get_leaderboard(sort_by=flags.sort_leaderboard, dataset='test', info_models=autonlp.info_models)\n",
    "#print('\\nTest Leaderboard')\n",
    "#leaderboard_test"
   ]
  },
  {
   "cell_type": "markdown",
   "metadata": {
    "papermill": {
     "duration": 0.530326,
     "end_time": "2021-09-28T14:12:04.184916",
     "exception": false,
     "start_time": "2021-09-28T14:12:03.654590",
     "status": "completed"
    },
    "tags": []
   },
   "source": [
    "# Testing on other test set"
   ]
  },
  {
   "cell_type": "code",
   "execution_count": 23,
   "metadata": {
    "execution": {
     "iopub.execute_input": "2021-09-28T14:12:05.255210Z",
     "iopub.status.busy": "2021-09-28T14:12:05.254148Z",
     "iopub.status.idle": "2021-09-28T14:12:05.258477Z",
     "shell.execute_reply": "2021-09-28T14:12:05.259142Z",
     "shell.execute_reply.started": "2021-09-28T12:48:37.397659Z"
    },
    "papermill": {
     "duration": 0.545438,
     "end_time": "2021-09-28T14:12:05.259382",
     "exception": false,
     "start_time": "2021-09-28T14:12:04.713944",
     "status": "completed"
    },
    "tags": []
   },
   "outputs": [],
   "source": [
    "#data_test = pd.read_csv(\"/kaggle/input/finance-corpus/FinancialPhraseBank_test.csv\")"
   ]
  },
  {
   "cell_type": "code",
   "execution_count": 24,
   "metadata": {
    "execution": {
     "iopub.execute_input": "2021-09-28T14:12:06.318115Z",
     "iopub.status.busy": "2021-09-28T14:12:06.316991Z",
     "iopub.status.idle": "2021-09-28T14:12:06.321160Z",
     "shell.execute_reply": "2021-09-28T14:12:06.321653Z",
     "shell.execute_reply.started": "2021-09-28T12:48:37.412769Z"
    },
    "papermill": {
     "duration": 0.534405,
     "end_time": "2021-09-28T14:12:06.321867",
     "exception": false,
     "start_time": "2021-09-28T14:12:05.787462",
     "status": "completed"
    },
    "tags": []
   },
   "outputs": [],
   "source": [
    "#X_test, doc_spacy_data_test, Y_test = autonlp.preprocess_test_data(data_test)"
   ]
  },
  {
   "cell_type": "code",
   "execution_count": 25,
   "metadata": {
    "execution": {
     "iopub.execute_input": "2021-09-28T14:12:07.382258Z",
     "iopub.status.busy": "2021-09-28T14:12:07.381275Z",
     "iopub.status.idle": "2021-09-28T14:12:07.386619Z",
     "shell.execute_reply": "2021-09-28T14:12:07.385946Z",
     "shell.execute_reply.started": "2021-09-28T12:48:37.421045Z"
    },
    "papermill": {
     "duration": 0.533342,
     "end_time": "2021-09-28T14:12:07.386788",
     "exception": false,
     "start_time": "2021-09-28T14:12:06.853446",
     "status": "completed"
    },
    "tags": []
   },
   "outputs": [],
   "source": [
    "#name_logs = 'best_logs'\n",
    "#on_test_data = False\n",
    "#autonlp.leader_predict(name_logs = name_logs, on_test_data = on_test_data, x = X_test, y=Y_test,\n",
    "#                       doc_spacy_data_test = doc_spacy_data_test)"
   ]
  },
  {
   "cell_type": "code",
   "execution_count": 26,
   "metadata": {
    "execution": {
     "iopub.execute_input": "2021-09-28T14:12:08.477524Z",
     "iopub.status.busy": "2021-09-28T14:12:08.476516Z",
     "iopub.status.idle": "2021-09-28T14:12:08.480526Z",
     "shell.execute_reply": "2021-09-28T14:12:08.481257Z",
     "shell.execute_reply.started": "2021-09-28T12:48:37.432695Z"
    },
    "papermill": {
     "duration": 0.550641,
     "end_time": "2021-09-28T14:12:08.481469",
     "exception": false,
     "start_time": "2021-09-28T14:12:07.930828",
     "status": "completed"
    },
    "tags": []
   },
   "outputs": [],
   "source": [
    "#leaderboard_test = autonlp.get_leaderboard(sort_by=flags.sort_leaderboard, dataset='test', info_models=autonlp.info_models)\n",
    "#print('\\nTest Leaderboard')\n",
    "#leaderboard_test"
   ]
  }
 ],
 "metadata": {
  "kernelspec": {
   "display_name": "Python 3",
   "language": "python",
   "name": "python3"
  },
  "language_info": {
   "codemirror_mode": {
    "name": "ipython",
    "version": 3
   },
   "file_extension": ".py",
   "mimetype": "text/x-python",
   "name": "python",
   "nbconvert_exporter": "python",
   "pygments_lexer": "ipython3",
   "version": "3.7.9"
  },
  "papermill": {
   "default_parameters": {},
   "duration": 372.836474,
   "end_time": "2021-09-28T14:12:12.324311",
   "environment_variables": {},
   "exception": null,
   "input_path": "__notebook__.ipynb",
   "output_path": "__notebook__.ipynb",
   "parameters": {},
   "start_time": "2021-09-28T14:05:59.487837",
   "version": "2.2.2"
  }
 },
 "nbformat": 4,
 "nbformat_minor": 4
}
