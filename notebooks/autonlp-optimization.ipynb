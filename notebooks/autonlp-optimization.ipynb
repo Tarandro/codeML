{
 "cells": [
  {
   "cell_type": "code",
   "execution_count": 1,
   "metadata": {
    "_cell_guid": "b1076dfc-b9ad-4769-8c92-a6c4dae69d19",
    "_uuid": "8f2839f25d086af736a60e9eeb907d3b93b6e0e5",
    "execution": {
     "iopub.execute_input": "2021-09-28T12:12:44.843143Z",
     "iopub.status.busy": "2021-09-28T12:12:44.842332Z",
     "iopub.status.idle": "2021-09-28T12:12:46.030062Z",
     "shell.execute_reply": "2021-09-28T12:12:46.030879Z"
    },
    "papermill": {
     "duration": 1.214596,
     "end_time": "2021-09-28T12:12:46.031255",
     "exception": false,
     "start_time": "2021-09-28T12:12:44.816659",
     "status": "completed"
    },
    "tags": []
   },
   "outputs": [],
   "source": [
    "# git clone package:\n",
    "# !git clone <path_package>\n",
    "# or copy package :\n",
    "!cp -r /kaggle/input/autonlp-git/SentimentML-main /kaggle/working"
   ]
  },
  {
   "cell_type": "code",
   "execution_count": 2,
   "metadata": {
    "execution": {
     "iopub.execute_input": "2021-09-28T12:12:46.075726Z",
     "iopub.status.busy": "2021-09-28T12:12:46.075033Z",
     "iopub.status.idle": "2021-09-28T12:12:46.083868Z",
     "shell.execute_reply": "2021-09-28T12:12:46.084536Z"
    },
    "papermill": {
     "duration": 0.03286,
     "end_time": "2021-09-28T12:12:46.084734",
     "exception": false,
     "start_time": "2021-09-28T12:12:46.051874",
     "status": "completed"
    },
    "tags": []
   },
   "outputs": [
    {
     "data": {
      "text/plain": [
       "'/kaggle/working/SentimentML-main'"
      ]
     },
     "execution_count": 2,
     "metadata": {},
     "output_type": "execute_result"
    }
   ],
   "source": [
    "import os\n",
    "# directory of package :\n",
    "fd = os.open(\"/kaggle/working/SentimentML-main\", os.O_RDONLY )\n",
    "os.fchdir(fd)\n",
    "os.getcwd()"
   ]
  },
  {
   "cell_type": "code",
   "execution_count": 3,
   "metadata": {
    "_kg_hide-output": true,
    "execution": {
     "iopub.execute_input": "2021-09-28T12:12:46.129507Z",
     "iopub.status.busy": "2021-09-28T12:12:46.128841Z",
     "iopub.status.idle": "2021-09-28T12:14:16.376459Z",
     "shell.execute_reply": "2021-09-28T12:14:16.377155Z"
    },
    "papermill": {
     "duration": 90.271809,
     "end_time": "2021-09-28T12:14:16.377383",
     "exception": false,
     "start_time": "2021-09-28T12:12:46.105574",
     "status": "completed"
    },
    "tags": []
   },
   "outputs": [
    {
     "name": "stdout",
     "output_type": "stream",
     "text": [
      "Requirement already satisfied: requests==2.25.1 in /opt/conda/lib/python3.7/site-packages (from -r requirements.txt (line 1)) (2.25.1)\r\n",
      "Collecting textblob_fr==0.2.0\r\n",
      "  Downloading textblob_fr-0.2.0-py2.py3-none-any.whl (561 kB)\r\n",
      "\u001b[K     |████████████████████████████████| 561 kB 2.1 MB/s \r\n",
      "\u001b[?25hCollecting streamlit==0.83.0\r\n",
      "  Downloading streamlit-0.83.0-py2.py3-none-any.whl (7.7 MB)\r\n",
      "\u001b[K     |████████████████████████████████| 7.7 MB 34.8 MB/s \r\n",
      "\u001b[?25hCollecting pytest==6.2.5\r\n",
      "  Downloading pytest-6.2.5-py3-none-any.whl (280 kB)\r\n",
      "\u001b[K     |████████████████████████████████| 280 kB 57.2 MB/s \r\n",
      "\u001b[?25hRequirement already satisfied: dataclasses==0.6 in /opt/conda/lib/python3.7/site-packages (from -r requirements.txt (line 5)) (0.6)\r\n",
      "Collecting matplotlib==3.3.2\r\n",
      "  Downloading matplotlib-3.3.2-cp37-cp37m-manylinux1_x86_64.whl (11.6 MB)\r\n",
      "\u001b[K     |████████████████████████████████| 11.6 MB 37.8 MB/s \r\n",
      "\u001b[?25hCollecting sentence_transformers==2.0.0\r\n",
      "  Downloading sentence-transformers-2.0.0.tar.gz (85 kB)\r\n",
      "\u001b[K     |████████████████████████████████| 85 kB 3.5 MB/s \r\n",
      "\u001b[?25hCollecting umap_learn==0.5.1\r\n",
      "  Downloading umap-learn-0.5.1.tar.gz (80 kB)\r\n",
      "\u001b[K     |████████████████████████████████| 80 kB 8.0 MB/s \r\n",
      "\u001b[?25hCollecting gensim==4.0.1\r\n",
      "  Downloading gensim-4.0.1-cp37-cp37m-manylinux1_x86_64.whl (23.9 MB)\r\n",
      "\u001b[K     |████████████████████████████████| 23.9 MB 35.5 MB/s \r\n",
      "\u001b[?25hCollecting transformers==4.9.0\r\n",
      "  Downloading transformers-4.9.0-py3-none-any.whl (2.6 MB)\r\n",
      "\u001b[K     |████████████████████████████████| 2.6 MB 43.9 MB/s \r\n",
      "\u001b[?25hCollecting seaborn==0.11.0\r\n",
      "  Downloading seaborn-0.11.0-py3-none-any.whl (283 kB)\r\n",
      "\u001b[K     |████████████████████████████████| 283 kB 57.8 MB/s \r\n",
      "\u001b[?25hCollecting tqdm==4.50.2\r\n",
      "  Downloading tqdm-4.50.2-py2.py3-none-any.whl (70 kB)\r\n",
      "\u001b[K     |████████████████████████████████| 70 kB 6.3 MB/s \r\n",
      "\u001b[?25hCollecting pandas==1.3.0\r\n",
      "  Downloading pandas-1.3.0-cp37-cp37m-manylinux_2_5_x86_64.manylinux1_x86_64.whl (10.8 MB)\r\n",
      "\u001b[K     |████████████████████████████████| 10.8 MB 34.5 MB/s \r\n",
      "\u001b[?25hRequirement already satisfied: textblob==0.15.3 in /opt/conda/lib/python3.7/site-packages (from -r requirements.txt (line 14)) (0.15.3)\r\n",
      "Collecting joblib==0.17.0\r\n",
      "  Downloading joblib-0.17.0-py3-none-any.whl (301 kB)\r\n",
      "\u001b[K     |████████████████████████████████| 301 kB 41.4 MB/s \r\n",
      "\u001b[?25hCollecting xgboost==1.4.2\r\n",
      "  Downloading xgboost-1.4.2-py3-none-manylinux2010_x86_64.whl (166.7 MB)\r\n",
      "\u001b[K     |████████████████████████████████| 166.7 MB 17 kB/s \r\n",
      "\u001b[?25hCollecting uvicorn==0.13.4\r\n",
      "  Downloading uvicorn-0.13.4-py3-none-any.whl (46 kB)\r\n",
      "\u001b[K     |████████████████████████████████| 46 kB 2.9 MB/s \r\n",
      "\u001b[?25hCollecting spacy==3.0.5\r\n",
      "  Downloading spacy-3.0.5-cp37-cp37m-manylinux2014_x86_64.whl (12.8 MB)\r\n",
      "\u001b[K     |████████████████████████████████| 12.8 MB 21.5 MB/s \r\n",
      "\u001b[?25hCollecting tensorflow==2.4.1\r\n",
      "  Downloading tensorflow-2.4.1-cp37-cp37m-manylinux2010_x86_64.whl (394.3 MB)\r\n",
      "\u001b[K     |████████████████████████████████| 394.3 MB 11 kB/s \r\n",
      "\u001b[?25hRequirement already satisfied: wordcloud==1.8.1 in /opt/conda/lib/python3.7/site-packages (from -r requirements.txt (line 20)) (1.8.1)\r\n",
      "Collecting ray==1.2.0\r\n",
      "  Downloading ray-1.2.0-cp37-cp37m-manylinux2014_x86_64.whl (47.5 MB)\r\n",
      "\u001b[K     |████████████████████████████████| 47.5 MB 246 kB/s \r\n",
      "\u001b[?25hCollecting numpy==1.19.2\r\n",
      "  Downloading numpy-1.19.2-cp37-cp37m-manylinux2010_x86_64.whl (14.5 MB)\r\n",
      "\u001b[K     |████████████████████████████████| 14.5 MB 26.8 MB/s \r\n",
      "\u001b[?25hRequirement already satisfied: plotly==4.14.3 in /opt/conda/lib/python3.7/site-packages (from -r requirements.txt (line 23)) (4.14.3)\r\n",
      "Collecting fastapi==0.68.1\r\n",
      "  Downloading fastapi-0.68.1-py3-none-any.whl (52 kB)\r\n",
      "\u001b[K     |████████████████████████████████| 52 kB 691 kB/s \r\n",
      "\u001b[?25hCollecting ipython==7.27.0\r\n",
      "  Downloading ipython-7.27.0-py3-none-any.whl (787 kB)\r\n",
      "\u001b[K     |████████████████████████████████| 787 kB 33.4 MB/s \r\n",
      "\u001b[?25hCollecting PyYAML==5.4.1\r\n",
      "  Downloading PyYAML-5.4.1-cp37-cp37m-manylinux1_x86_64.whl (636 kB)\r\n",
      "\u001b[K     |████████████████████████████████| 636 kB 33.7 MB/s \r\n",
      "\u001b[?25hCollecting scikit_learn==0.24.2\r\n",
      "  Downloading scikit_learn-0.24.2-cp37-cp37m-manylinux2010_x86_64.whl (22.3 MB)\r\n",
      "\u001b[K     |████████████████████████████████| 22.3 MB 21.1 MB/s \r\n",
      "\u001b[?25hCollecting umap==0.1.1\r\n",
      "  Downloading umap-0.1.1.tar.gz (3.2 kB)\r\n",
      "Collecting scipy==1.5.2\r\n",
      "  Downloading scipy-1.5.2-cp37-cp37m-manylinux1_x86_64.whl (25.9 MB)\r\n",
      "\u001b[K     |████████████████████████████████| 25.9 MB 26.4 MB/s \r\n",
      "\u001b[?25hCollecting tokenizers==0.10.3\r\n",
      "  Downloading tokenizers-0.10.3-cp37-cp37m-manylinux_2_5_x86_64.manylinux1_x86_64.manylinux_2_12_x86_64.manylinux2010_x86_64.whl (3.3 MB)\r\n",
      "\u001b[K     |████████████████████████████████| 3.3 MB 22.8 MB/s \r\n",
      "\u001b[?25hRequirement already satisfied: sentencepiece==0.1.95 in /opt/conda/lib/python3.7/site-packages (from -r requirements.txt (line 31)) (0.1.95)\r\n",
      "Collecting mlflow==1.17.0\r\n",
      "  Downloading mlflow-1.17.0-py3-none-any.whl (14.2 MB)\r\n",
      "\u001b[K     |████████████████████████████████| 14.2 MB 21.6 MB/s \r\n",
      "\u001b[?25hRequirement already satisfied: hyperopt==0.2.5 in /opt/conda/lib/python3.7/site-packages (from -r requirements.txt (line 33)) (0.2.5)\r\n",
      "Collecting raceplotly==0.1.6\r\n",
      "  Downloading raceplotly-0.1.6-py3-none-any.whl (7.2 kB)\r\n",
      "Collecting python-multipart==0.0.5\r\n",
      "  Downloading python-multipart-0.0.5.tar.gz (32 kB)\r\n",
      "Collecting pydantic!=1.7,!=1.7.1,!=1.7.2,!=1.7.3,!=1.8,!=1.8.1,<2.0.0,>=1.6.2\r\n",
      "  Downloading pydantic-1.8.2-cp37-cp37m-manylinux2014_x86_64.whl (10.1 MB)\r\n",
      "\u001b[K     |████████████████████████████████| 10.1 MB 51.8 MB/s \r\n",
      "\u001b[?25hCollecting starlette==0.14.2\r\n",
      "  Downloading starlette-0.14.2-py3-none-any.whl (60 kB)\r\n",
      "\u001b[K     |████████████████████████████████| 60 kB 6.3 MB/s \r\n",
      "\u001b[?25hRequirement already satisfied: smart-open>=1.8.1 in /opt/conda/lib/python3.7/site-packages (from gensim==4.0.1->-r requirements.txt (line 9)) (4.1.2)\r\n",
      "Requirement already satisfied: cloudpickle in /opt/conda/lib/python3.7/site-packages (from hyperopt==0.2.5->-r requirements.txt (line 33)) (1.6.0)\r\n",
      "Requirement already satisfied: future in /opt/conda/lib/python3.7/site-packages (from hyperopt==0.2.5->-r requirements.txt (line 33)) (0.18.2)\r\n",
      "Requirement already satisfied: networkx>=2.2 in /opt/conda/lib/python3.7/site-packages (from hyperopt==0.2.5->-r requirements.txt (line 33)) (2.5)\r\n",
      "Requirement already satisfied: six in /opt/conda/lib/python3.7/site-packages (from hyperopt==0.2.5->-r requirements.txt (line 33)) (1.15.0)\r\n",
      "Requirement already satisfied: pickleshare in /opt/conda/lib/python3.7/site-packages (from ipython==7.27.0->-r requirements.txt (line 25)) (0.7.5)\r\n",
      "Requirement already satisfied: decorator in /opt/conda/lib/python3.7/site-packages (from ipython==7.27.0->-r requirements.txt (line 25)) (4.4.2)\r\n",
      "Requirement already satisfied: backcall in /opt/conda/lib/python3.7/site-packages (from ipython==7.27.0->-r requirements.txt (line 25)) (0.2.0)\r\n",
      "Requirement already satisfied: jedi>=0.16 in /opt/conda/lib/python3.7/site-packages (from ipython==7.27.0->-r requirements.txt (line 25)) (0.18.0)\r\n",
      "Collecting matplotlib-inline\r\n",
      "  Downloading matplotlib_inline-0.1.3-py3-none-any.whl (8.2 kB)\r\n",
      "Requirement already satisfied: prompt-toolkit!=3.0.0,!=3.0.1,<3.1.0,>=2.0.0 in /opt/conda/lib/python3.7/site-packages (from ipython==7.27.0->-r requirements.txt (line 25)) (3.0.8)\r\n",
      "Requirement already satisfied: traitlets>=4.2 in /opt/conda/lib/python3.7/site-packages (from ipython==7.27.0->-r requirements.txt (line 25)) (5.0.5)\r\n",
      "Requirement already satisfied: pexpect>4.3 in /opt/conda/lib/python3.7/site-packages (from ipython==7.27.0->-r requirements.txt (line 25)) (4.8.0)\r\n",
      "Requirement already satisfied: setuptools>=18.5 in /opt/conda/lib/python3.7/site-packages (from ipython==7.27.0->-r requirements.txt (line 25)) (49.6.0.post20201009)\r\n",
      "Requirement already satisfied: pygments in /opt/conda/lib/python3.7/site-packages (from ipython==7.27.0->-r requirements.txt (line 25)) (2.7.3)\r\n",
      "Requirement already satisfied: kiwisolver>=1.0.1 in /opt/conda/lib/python3.7/site-packages (from matplotlib==3.3.2->-r requirements.txt (line 6)) (1.3.1)\r\n",
      "Requirement already satisfied: cycler>=0.10 in /opt/conda/lib/python3.7/site-packages (from matplotlib==3.3.2->-r requirements.txt (line 6)) (0.10.0)\r\n",
      "Requirement already satisfied: python-dateutil>=2.1 in /opt/conda/lib/python3.7/site-packages (from matplotlib==3.3.2->-r requirements.txt (line 6)) (2.8.1)\r\n",
      "Requirement already satisfied: pillow>=6.2.0 in /opt/conda/lib/python3.7/site-packages (from matplotlib==3.3.2->-r requirements.txt (line 6)) (7.2.0)\r\n",
      "Requirement already satisfied: certifi>=2020.06.20 in /opt/conda/lib/python3.7/site-packages (from matplotlib==3.3.2->-r requirements.txt (line 6)) (2020.12.5)\r\n",
      "Requirement already satisfied: pyparsing!=2.0.4,!=2.1.2,!=2.1.6,>=2.0.3 in /opt/conda/lib/python3.7/site-packages (from matplotlib==3.3.2->-r requirements.txt (line 6)) (2.4.7)\r\n",
      "Requirement already satisfied: gitpython>=2.1.0 in /opt/conda/lib/python3.7/site-packages (from mlflow==1.17.0->-r requirements.txt (line 32)) (3.1.12)\r\n",
      "Requirement already satisfied: click>=7.0 in /opt/conda/lib/python3.7/site-packages (from mlflow==1.17.0->-r requirements.txt (line 32)) (7.1.2)\r\n",
      "Collecting alembic<=1.4.1\r\n",
      "  Downloading alembic-1.4.1.tar.gz (1.1 MB)\r\n",
      "\u001b[K     |████████████████████████████████| 1.1 MB 53.8 MB/s \r\n",
      "\u001b[?25hRequirement already satisfied: docker>=4.0.0 in /opt/conda/lib/python3.7/site-packages (from mlflow==1.17.0->-r requirements.txt (line 32)) (4.4.1)\r\n",
      "Collecting databricks-cli>=0.8.7\r\n",
      "  Downloading databricks-cli-0.15.0.tar.gz (56 kB)\r\n",
      "\u001b[K     |████████████████████████████████| 56 kB 3.6 MB/s \r\n",
      "\u001b[?25hCollecting gunicorn\r\n",
      "  Downloading gunicorn-20.1.0-py3-none-any.whl (79 kB)\r\n",
      "\u001b[K     |████████████████████████████████| 79 kB 6.9 MB/s \r\n",
      "\u001b[?25hRequirement already satisfied: pytz in /opt/conda/lib/python3.7/site-packages (from mlflow==1.17.0->-r requirements.txt (line 32)) (2019.3)\r\n",
      "Requirement already satisfied: entrypoints in /opt/conda/lib/python3.7/site-packages (from mlflow==1.17.0->-r requirements.txt (line 32)) (0.3)\r\n",
      "Requirement already satisfied: protobuf>=3.6.0 in /opt/conda/lib/python3.7/site-packages (from mlflow==1.17.0->-r requirements.txt (line 32)) (3.14.0)\r\n",
      "Requirement already satisfied: Flask in /opt/conda/lib/python3.7/site-packages (from mlflow==1.17.0->-r requirements.txt (line 32)) (1.1.2)\r\n",
      "Collecting prometheus-flask-exporter\r\n",
      "  Downloading prometheus_flask_exporter-0.18.2.tar.gz (22 kB)\r\n",
      "Requirement already satisfied: sqlparse>=0.3.1 in /opt/conda/lib/python3.7/site-packages (from mlflow==1.17.0->-r requirements.txt (line 32)) (0.4.1)\r\n",
      "Collecting querystring-parser\r\n",
      "  Downloading querystring_parser-1.2.4-py2.py3-none-any.whl (7.9 kB)\r\n",
      "Requirement already satisfied: sqlalchemy in /opt/conda/lib/python3.7/site-packages (from mlflow==1.17.0->-r requirements.txt (line 32)) (1.3.22)\r\n",
      "Requirement already satisfied: retrying>=1.3.3 in /opt/conda/lib/python3.7/site-packages (from plotly==4.14.3->-r requirements.txt (line 23)) (1.3.3)\r\n",
      "Requirement already satisfied: pluggy<2.0,>=0.12 in /opt/conda/lib/python3.7/site-packages (from pytest==6.2.5->-r requirements.txt (line 4)) (0.13.1)\r\n",
      "Requirement already satisfied: packaging in /opt/conda/lib/python3.7/site-packages (from pytest==6.2.5->-r requirements.txt (line 4)) (20.8)\r\n",
      "Requirement already satisfied: toml in /opt/conda/lib/python3.7/site-packages (from pytest==6.2.5->-r requirements.txt (line 4)) (0.10.2)\r\n",
      "Requirement already satisfied: importlib-metadata>=0.12 in /opt/conda/lib/python3.7/site-packages (from pytest==6.2.5->-r requirements.txt (line 4)) (3.3.0)\r\n",
      "Requirement already satisfied: attrs>=19.2.0 in /opt/conda/lib/python3.7/site-packages (from pytest==6.2.5->-r requirements.txt (line 4)) (20.3.0)\r\n",
      "Requirement already satisfied: iniconfig in /opt/conda/lib/python3.7/site-packages (from pytest==6.2.5->-r requirements.txt (line 4)) (1.1.1)\r\n",
      "Requirement already satisfied: py>=1.8.2 in /opt/conda/lib/python3.7/site-packages (from pytest==6.2.5->-r requirements.txt (line 4)) (1.10.0)\r\n",
      "Requirement already satisfied: opencensus in /opt/conda/lib/python3.7/site-packages (from ray==1.2.0->-r requirements.txt (line 21)) (0.7.12)\r\n",
      "Requirement already satisfied: aiohttp in /opt/conda/lib/python3.7/site-packages (from ray==1.2.0->-r requirements.txt (line 21)) (3.7.3)\r\n",
      "Requirement already satisfied: prometheus-client>=0.7.1 in /opt/conda/lib/python3.7/site-packages (from ray==1.2.0->-r requirements.txt (line 21)) (0.9.0)\r\n",
      "Requirement already satisfied: redis>=3.5.0 in /opt/conda/lib/python3.7/site-packages (from ray==1.2.0->-r requirements.txt (line 21)) (3.5.3)\r\n",
      "Requirement already satisfied: py-spy>=0.2.0 in /opt/conda/lib/python3.7/site-packages (from ray==1.2.0->-r requirements.txt (line 21)) (0.3.4)\r\n",
      "Requirement already satisfied: aiohttp-cors in /opt/conda/lib/python3.7/site-packages (from ray==1.2.0->-r requirements.txt (line 21)) (0.7.0)\r\n",
      "Requirement already satisfied: aioredis in /opt/conda/lib/python3.7/site-packages (from ray==1.2.0->-r requirements.txt (line 21)) (1.3.1)\r\n",
      "Requirement already satisfied: gpustat in /opt/conda/lib/python3.7/site-packages (from ray==1.2.0->-r requirements.txt (line 21)) (0.6.0)\r\n",
      "Requirement already satisfied: colorama in /opt/conda/lib/python3.7/site-packages (from ray==1.2.0->-r requirements.txt (line 21)) (0.4.4)\r\n",
      "Requirement already satisfied: colorful in /opt/conda/lib/python3.7/site-packages (from ray==1.2.0->-r requirements.txt (line 21)) (0.5.4)\r\n",
      "Requirement already satisfied: filelock in /opt/conda/lib/python3.7/site-packages (from ray==1.2.0->-r requirements.txt (line 21)) (3.0.12)\r\n",
      "Requirement already satisfied: grpcio>=1.28.1 in /opt/conda/lib/python3.7/site-packages (from ray==1.2.0->-r requirements.txt (line 21)) (1.32.0)\r\n",
      "Requirement already satisfied: jsonschema in /opt/conda/lib/python3.7/site-packages (from ray==1.2.0->-r requirements.txt (line 21)) (3.2.0)\r\n",
      "Requirement already satisfied: msgpack<2.0.0,>=1.0.0 in /opt/conda/lib/python3.7/site-packages (from ray==1.2.0->-r requirements.txt (line 21)) (1.0.2)\r\n",
      "Requirement already satisfied: idna<3,>=2.5 in /opt/conda/lib/python3.7/site-packages (from requests==2.25.1->-r requirements.txt (line 1)) (2.10)\r\n",
      "Requirement already satisfied: chardet<5,>=3.0.2 in /opt/conda/lib/python3.7/site-packages (from requests==2.25.1->-r requirements.txt (line 1)) (3.0.4)\r\n",
      "Requirement already satisfied: urllib3<1.27,>=1.21.1 in /opt/conda/lib/python3.7/site-packages (from requests==2.25.1->-r requirements.txt (line 1)) (1.26.2)\r\n",
      "Requirement already satisfied: threadpoolctl>=2.0.0 in /opt/conda/lib/python3.7/site-packages (from scikit_learn==0.24.2->-r requirements.txt (line 27)) (2.1.0)\r\n",
      "Requirement already satisfied: torch>=1.6.0 in /opt/conda/lib/python3.7/site-packages (from sentence_transformers==2.0.0->-r requirements.txt (line 7)) (1.7.0)\r\n",
      "Requirement already satisfied: torchvision in /opt/conda/lib/python3.7/site-packages (from sentence_transformers==2.0.0->-r requirements.txt (line 7)) (0.8.1)\r\n",
      "Requirement already satisfied: nltk in /opt/conda/lib/python3.7/site-packages (from sentence_transformers==2.0.0->-r requirements.txt (line 7)) (3.2.4)\r\n",
      "Collecting huggingface-hub\r\n",
      "  Downloading huggingface_hub-0.0.17-py3-none-any.whl (52 kB)\r\n",
      "\u001b[K     |████████████████████████████████| 52 kB 1.3 MB/s \r\n",
      "\u001b[?25hRequirement already satisfied: wasabi<1.1.0,>=0.8.1 in /opt/conda/lib/python3.7/site-packages (from spacy==3.0.5->-r requirements.txt (line 18)) (0.8.1)\r\n",
      "Collecting pydantic!=1.7,!=1.7.1,!=1.7.2,!=1.7.3,!=1.8,!=1.8.1,<2.0.0,>=1.6.2\r\n",
      "  Downloading pydantic-1.7.4-cp37-cp37m-manylinux2014_x86_64.whl (9.1 MB)\r\n",
      "\u001b[K     |████████████████████████████████| 9.1 MB 36.4 MB/s \r\n",
      "\u001b[?25hRequirement already satisfied: preshed<3.1.0,>=3.0.2 in /opt/conda/lib/python3.7/site-packages (from spacy==3.0.5->-r requirements.txt (line 18)) (3.0.5)\r\n",
      "Requirement already satisfied: jinja2 in /opt/conda/lib/python3.7/site-packages (from spacy==3.0.5->-r requirements.txt (line 18)) (2.11.2)\r\n",
      "Collecting spacy-legacy<3.1.0,>=3.0.0\r\n",
      "  Downloading spacy_legacy-3.0.8-py2.py3-none-any.whl (14 kB)\r\n",
      "Requirement already satisfied: murmurhash<1.1.0,>=0.28.0 in /opt/conda/lib/python3.7/site-packages (from spacy==3.0.5->-r requirements.txt (line 18)) (1.0.5)\r\n",
      "Collecting srsly<3.0.0,>=2.4.0\r\n",
      "  Downloading srsly-2.4.1-cp37-cp37m-manylinux2014_x86_64.whl (456 kB)\r\n",
      "\u001b[K     |████████████████████████████████| 456 kB 56.0 MB/s \r\n",
      "\u001b[?25hRequirement already satisfied: cymem<2.1.0,>=2.0.2 in /opt/conda/lib/python3.7/site-packages (from spacy==3.0.5->-r requirements.txt (line 18)) (2.0.5)\r\n",
      "Requirement already satisfied: typing-extensions<4.0.0.0,>=3.7.4 in /opt/conda/lib/python3.7/site-packages (from spacy==3.0.5->-r requirements.txt (line 18)) (3.7.4.3)\r\n",
      "Collecting thinc<8.1.0,>=8.0.2\r\n",
      "  Downloading thinc-8.0.10-cp37-cp37m-manylinux_2_17_x86_64.manylinux2014_x86_64.whl (623 kB)\r\n",
      "\u001b[K     |████████████████████████████████| 623 kB 48.1 MB/s \r\n",
      "\u001b[?25hCollecting catalogue<2.1.0,>=2.0.1\r\n",
      "  Downloading catalogue-2.0.6-py3-none-any.whl (17 kB)\r\n",
      "Collecting typer<0.4.0,>=0.3.0\r\n",
      "  Downloading typer-0.3.2-py3-none-any.whl (21 kB)\r\n",
      "Collecting pathy>=0.3.5\r\n",
      "  Downloading pathy-0.6.0-py3-none-any.whl (42 kB)\r\n",
      "\u001b[K     |████████████████████████████████| 42 kB 1.0 MB/s \r\n",
      "\u001b[?25hRequirement already satisfied: blis<0.8.0,>=0.4.0 in /opt/conda/lib/python3.7/site-packages (from spacy==3.0.5->-r requirements.txt (line 18)) (0.7.4)\r\n",
      "Collecting base58\r\n",
      "  Downloading base58-2.1.0-py3-none-any.whl (5.6 kB)\r\n",
      "Requirement already satisfied: blinker in /opt/conda/lib/python3.7/site-packages (from streamlit==0.83.0->-r requirements.txt (line 3)) (1.4)\r\n",
      "Requirement already satisfied: watchdog in /opt/conda/lib/python3.7/site-packages (from streamlit==0.83.0->-r requirements.txt (line 3)) (0.10.4)\r\n",
      "Requirement already satisfied: altair>=3.2.0 in /opt/conda/lib/python3.7/site-packages (from streamlit==0.83.0->-r requirements.txt (line 3)) (4.1.0)\r\n",
      "Collecting astor\r\n",
      "  Downloading astor-0.8.1-py2.py3-none-any.whl (27 kB)\r\n",
      "Collecting validators\r\n",
      "  Downloading validators-0.18.2-py3-none-any.whl (19 kB)\r\n",
      "Requirement already satisfied: tzlocal in /opt/conda/lib/python3.7/site-packages (from streamlit==0.83.0->-r requirements.txt (line 3)) (2.1)\r\n",
      "Collecting pydeck>=0.1.dev5\r\n",
      "  Downloading pydeck-0.7.0-py2.py3-none-any.whl (4.3 MB)\r\n",
      "\u001b[K     |████████████████████████████████| 4.3 MB 19.9 MB/s \r\n",
      "\u001b[?25hRequirement already satisfied: pyarrow in /opt/conda/lib/python3.7/site-packages (from streamlit==0.83.0->-r requirements.txt (line 3)) (2.0.0)\r\n",
      "Requirement already satisfied: tornado>=5.0 in /opt/conda/lib/python3.7/site-packages (from streamlit==0.83.0->-r requirements.txt (line 3)) (5.0.2)\r\n",
      "Requirement already satisfied: cachetools>=4.0 in /opt/conda/lib/python3.7/site-packages (from streamlit==0.83.0->-r requirements.txt (line 3)) (4.1.1)\r\n",
      "Requirement already satisfied: wheel~=0.35 in /opt/conda/lib/python3.7/site-packages (from tensorflow==2.4.1->-r requirements.txt (line 19)) (0.36.2)\r\n",
      "Requirement already satisfied: termcolor~=1.1.0 in /opt/conda/lib/python3.7/site-packages (from tensorflow==2.4.1->-r requirements.txt (line 19)) (1.1.0)\r\n",
      "Requirement already satisfied: absl-py~=0.10 in /opt/conda/lib/python3.7/site-packages (from tensorflow==2.4.1->-r requirements.txt (line 19)) (0.10.0)\r\n",
      "Requirement already satisfied: wrapt~=1.12.1 in /opt/conda/lib/python3.7/site-packages (from tensorflow==2.4.1->-r requirements.txt (line 19)) (1.12.1)\r\n",
      "Requirement already satisfied: gast==0.3.3 in /opt/conda/lib/python3.7/site-packages (from tensorflow==2.4.1->-r requirements.txt (line 19)) (0.3.3)\r\n",
      "Requirement already satisfied: opt-einsum~=3.3.0 in /opt/conda/lib/python3.7/site-packages (from tensorflow==2.4.1->-r requirements.txt (line 19)) (3.3.0)\r\n",
      "Requirement already satisfied: keras-preprocessing~=1.1.2 in /opt/conda/lib/python3.7/site-packages (from tensorflow==2.4.1->-r requirements.txt (line 19)) (1.1.2)\r\n",
      "Requirement already satisfied: tensorboard~=2.4 in /opt/conda/lib/python3.7/site-packages (from tensorflow==2.4.1->-r requirements.txt (line 19)) (2.4.1)\r\n",
      "Requirement already satisfied: astunparse~=1.6.3 in /opt/conda/lib/python3.7/site-packages (from tensorflow==2.4.1->-r requirements.txt (line 19)) (1.6.3)\r\n",
      "Requirement already satisfied: google-pasta~=0.2 in /opt/conda/lib/python3.7/site-packages (from tensorflow==2.4.1->-r requirements.txt (line 19)) (0.2.0)\r\n",
      "Requirement already satisfied: tensorflow-estimator<2.5.0,>=2.4.0 in /opt/conda/lib/python3.7/site-packages (from tensorflow==2.4.1->-r requirements.txt (line 19)) (2.4.0)\r\n",
      "Requirement already satisfied: h5py~=2.10.0 in /opt/conda/lib/python3.7/site-packages (from tensorflow==2.4.1->-r requirements.txt (line 19)) (2.10.0)\r\n",
      "Requirement already satisfied: flatbuffers~=1.12.0 in /opt/conda/lib/python3.7/site-packages (from tensorflow==2.4.1->-r requirements.txt (line 19)) (1.12)\r\n",
      "Collecting huggingface-hub\r\n",
      "  Downloading huggingface_hub-0.0.12-py3-none-any.whl (37 kB)\r\n",
      "Requirement already satisfied: sacremoses in /opt/conda/lib/python3.7/site-packages (from transformers==4.9.0->-r requirements.txt (line 10)) (0.0.43)\r\n",
      "Requirement already satisfied: regex!=2019.12.17 in /opt/conda/lib/python3.7/site-packages (from transformers==4.9.0->-r requirements.txt (line 10)) (2020.11.13)\r\n",
      "Requirement already satisfied: numba>=0.49 in /opt/conda/lib/python3.7/site-packages (from umap_learn==0.5.1->-r requirements.txt (line 8)) (0.52.0)\r\n",
      "Requirement already satisfied: pynndescent>=0.5 in /opt/conda/lib/python3.7/site-packages (from umap_learn==0.5.1->-r requirements.txt (line 8)) (0.5.1)\r\n",
      "Collecting h11>=0.8\r\n",
      "  Downloading h11-0.12.0-py3-none-any.whl (54 kB)\r\n",
      "\u001b[K     |████████████████████████████████| 54 kB 2.6 MB/s \r\n",
      "\u001b[?25hCollecting packaging\r\n",
      "  Downloading packaging-21.0-py3-none-any.whl (40 kB)\r\n",
      "\u001b[K     |████████████████████████████████| 40 kB 4.2 MB/s \r\n",
      "\u001b[?25hRequirement already satisfied: Mako in /opt/conda/lib/python3.7/site-packages (from alembic<=1.4.1->mlflow==1.17.0->-r requirements.txt (line 32)) (1.1.4)\r\n",
      "Requirement already satisfied: python-editor>=0.3 in /opt/conda/lib/python3.7/site-packages (from alembic<=1.4.1->mlflow==1.17.0->-r requirements.txt (line 32)) (1.0.4)\r\n",
      "Requirement already satisfied: toolz in /opt/conda/lib/python3.7/site-packages (from altair>=3.2.0->streamlit==0.83.0->-r requirements.txt (line 3)) (0.11.1)\r\n",
      "Requirement already satisfied: zipp>=0.5 in /opt/conda/lib/python3.7/site-packages (from catalogue<2.1.0,>=2.0.1->spacy==3.0.5->-r requirements.txt (line 18)) (3.4.0)\r\n",
      "Requirement already satisfied: tabulate>=0.7.7 in /opt/conda/lib/python3.7/site-packages (from databricks-cli>=0.8.7->mlflow==1.17.0->-r requirements.txt (line 32)) (0.8.7)\r\n",
      "Requirement already satisfied: websocket-client>=0.32.0 in /opt/conda/lib/python3.7/site-packages (from docker>=4.0.0->mlflow==1.17.0->-r requirements.txt (line 32)) (0.57.0)\r\n",
      "Requirement already satisfied: gitdb<5,>=4.0.1 in /opt/conda/lib/python3.7/site-packages (from gitpython>=2.1.0->mlflow==1.17.0->-r requirements.txt (line 32)) (4.0.5)\r\n",
      "Requirement already satisfied: smmap<4,>=3.0.1 in /opt/conda/lib/python3.7/site-packages (from gitdb<5,>=4.0.1->gitpython>=2.1.0->mlflow==1.17.0->-r requirements.txt (line 32)) (3.0.4)\r\n",
      "Requirement already satisfied: parso<0.9.0,>=0.8.0 in /opt/conda/lib/python3.7/site-packages (from jedi>=0.16->ipython==7.27.0->-r requirements.txt (line 25)) (0.8.1)\r\n",
      "Requirement already satisfied: llvmlite<0.36,>=0.35.0 in /opt/conda/lib/python3.7/site-packages (from numba>=0.49->umap_learn==0.5.1->-r requirements.txt (line 8)) (0.35.0)\r\n",
      "Collecting smart-open>=1.8.1\r\n",
      "  Downloading smart_open-5.2.1-py3-none-any.whl (58 kB)\r\n",
      "\u001b[K     |████████████████████████████████| 58 kB 658 kB/s \r\n",
      "\u001b[?25hRequirement already satisfied: ptyprocess>=0.5 in /opt/conda/lib/python3.7/site-packages (from pexpect>4.3->ipython==7.27.0->-r requirements.txt (line 25)) (0.7.0)\r\n",
      "Requirement already satisfied: wcwidth in /opt/conda/lib/python3.7/site-packages (from prompt-toolkit!=3.0.0,!=3.0.1,<3.1.0,>=2.0.0->ipython==7.27.0->-r requirements.txt (line 25)) (0.2.5)\r\n",
      "Collecting ipykernel>=5.1.2\r\n",
      "  Downloading ipykernel-6.4.1-py3-none-any.whl (124 kB)\r\n",
      "\u001b[K     |████████████████████████████████| 124 kB 58.3 MB/s \r\n",
      "\u001b[?25hRequirement already satisfied: ipywidgets>=7.0.0 in /opt/conda/lib/python3.7/site-packages (from pydeck>=0.1.dev5->streamlit==0.83.0->-r requirements.txt (line 3)) (7.6.2)\r\n",
      "Collecting argcomplete>=1.12.3\r\n",
      "  Downloading argcomplete-1.12.3-py2.py3-none-any.whl (38 kB)\r\n",
      "Collecting debugpy<2.0,>=1.0.0\r\n",
      "  Downloading debugpy-1.4.3-cp37-cp37m-manylinux_2_5_x86_64.manylinux1_x86_64.manylinux_2_12_x86_64.manylinux2010_x86_64.whl (1.9 MB)\r\n",
      "\u001b[K     |████████████████████████████████| 1.9 MB 44.9 MB/s \r\n",
      "\u001b[?25hRequirement already satisfied: jupyter-client<8.0 in /opt/conda/lib/python3.7/site-packages (from ipykernel>=5.1.2->pydeck>=0.1.dev5->streamlit==0.83.0->-r requirements.txt (line 3)) (6.1.7)\r\n",
      "Requirement already satisfied: ipython-genutils in /opt/conda/lib/python3.7/site-packages (from ipykernel>=5.1.2->pydeck>=0.1.dev5->streamlit==0.83.0->-r requirements.txt (line 3)) (0.2.0)\r\n",
      "Requirement already satisfied: nbformat>=4.2.0 in /opt/conda/lib/python3.7/site-packages (from ipywidgets>=7.0.0->pydeck>=0.1.dev5->streamlit==0.83.0->-r requirements.txt (line 3)) (5.0.8)\r\n",
      "Requirement already satisfied: widgetsnbextension~=3.5.0 in /opt/conda/lib/python3.7/site-packages (from ipywidgets>=7.0.0->pydeck>=0.1.dev5->streamlit==0.83.0->-r requirements.txt (line 3)) (3.5.1)\r\n",
      "Requirement already satisfied: jupyterlab-widgets>=1.0.0 in /opt/conda/lib/python3.7/site-packages (from ipywidgets>=7.0.0->pydeck>=0.1.dev5->streamlit==0.83.0->-r requirements.txt (line 3)) (1.0.0)\r\n",
      "Requirement already satisfied: MarkupSafe>=0.23 in /opt/conda/lib/python3.7/site-packages (from jinja2->spacy==3.0.5->-r requirements.txt (line 18)) (1.1.1)\r\n",
      "Requirement already satisfied: pyzmq>=13 in /opt/conda/lib/python3.7/site-packages (from jupyter-client<8.0->ipykernel>=5.1.2->pydeck>=0.1.dev5->streamlit==0.83.0->-r requirements.txt (line 3)) (20.0.0)\r\n",
      "Requirement already satisfied: jupyter-core>=4.6.0 in /opt/conda/lib/python3.7/site-packages (from jupyter-client<8.0->ipykernel>=5.1.2->pydeck>=0.1.dev5->streamlit==0.83.0->-r requirements.txt (line 3)) (4.7.0)\r\n",
      "Requirement already satisfied: pyrsistent>=0.14.0 in /opt/conda/lib/python3.7/site-packages (from jsonschema->ray==1.2.0->-r requirements.txt (line 21)) (0.17.3)\r\n",
      "Requirement already satisfied: tensorboard-plugin-wit>=1.6.0 in /opt/conda/lib/python3.7/site-packages (from tensorboard~=2.4->tensorflow==2.4.1->-r requirements.txt (line 19)) (1.8.0)\r\n",
      "Requirement already satisfied: google-auth<2,>=1.6.3 in /opt/conda/lib/python3.7/site-packages (from tensorboard~=2.4->tensorflow==2.4.1->-r requirements.txt (line 19)) (1.24.0)\r\n",
      "Requirement already satisfied: google-auth-oauthlib<0.5,>=0.4.1 in /opt/conda/lib/python3.7/site-packages (from tensorboard~=2.4->tensorflow==2.4.1->-r requirements.txt (line 19)) (0.4.2)\r\n",
      "Requirement already satisfied: werkzeug>=0.11.15 in /opt/conda/lib/python3.7/site-packages (from tensorboard~=2.4->tensorflow==2.4.1->-r requirements.txt (line 19)) (1.0.1)\r\n",
      "Requirement already satisfied: markdown>=2.6.8 in /opt/conda/lib/python3.7/site-packages (from tensorboard~=2.4->tensorflow==2.4.1->-r requirements.txt (line 19)) (3.3.3)\r\n",
      "Requirement already satisfied: rsa<5,>=3.1.4 in /opt/conda/lib/python3.7/site-packages (from google-auth<2,>=1.6.3->tensorboard~=2.4->tensorflow==2.4.1->-r requirements.txt (line 19)) (4.6)\r\n",
      "Requirement already satisfied: pyasn1-modules>=0.2.1 in /opt/conda/lib/python3.7/site-packages (from google-auth<2,>=1.6.3->tensorboard~=2.4->tensorflow==2.4.1->-r requirements.txt (line 19)) (0.2.7)\r\n",
      "Requirement already satisfied: requests-oauthlib>=0.7.0 in /opt/conda/lib/python3.7/site-packages (from google-auth-oauthlib<0.5,>=0.4.1->tensorboard~=2.4->tensorflow==2.4.1->-r requirements.txt (line 19)) (1.3.0)\r\n",
      "Requirement already satisfied: pyasn1<0.5.0,>=0.4.6 in /opt/conda/lib/python3.7/site-packages (from pyasn1-modules>=0.2.1->google-auth<2,>=1.6.3->tensorboard~=2.4->tensorflow==2.4.1->-r requirements.txt (line 19)) (0.4.8)\r\n",
      "Requirement already satisfied: oauthlib>=3.0.0 in /opt/conda/lib/python3.7/site-packages (from requests-oauthlib>=0.7.0->google-auth-oauthlib<0.5,>=0.4.1->tensorboard~=2.4->tensorflow==2.4.1->-r requirements.txt (line 19)) (3.0.1)\r\n",
      "Requirement already satisfied: notebook>=4.4.1 in /opt/conda/lib/python3.7/site-packages (from widgetsnbextension~=3.5.0->ipywidgets>=7.0.0->pydeck>=0.1.dev5->streamlit==0.83.0->-r requirements.txt (line 3)) (5.5.0)\r\n",
      "Requirement already satisfied: Send2Trash in /opt/conda/lib/python3.7/site-packages (from notebook>=4.4.1->widgetsnbextension~=3.5.0->ipywidgets>=7.0.0->pydeck>=0.1.dev5->streamlit==0.83.0->-r requirements.txt (line 3)) (1.5.0)\r\n",
      "Requirement already satisfied: terminado>=0.8.1 in /opt/conda/lib/python3.7/site-packages (from notebook>=4.4.1->widgetsnbextension~=3.5.0->ipywidgets>=7.0.0->pydeck>=0.1.dev5->streamlit==0.83.0->-r requirements.txt (line 3)) (0.9.2)\r\n",
      "Requirement already satisfied: nbconvert in /opt/conda/lib/python3.7/site-packages (from notebook>=4.4.1->widgetsnbextension~=3.5.0->ipywidgets>=7.0.0->pydeck>=0.1.dev5->streamlit==0.83.0->-r requirements.txt (line 3)) (6.0.7)\r\n",
      "Requirement already satisfied: multidict<7.0,>=4.5 in /opt/conda/lib/python3.7/site-packages (from aiohttp->ray==1.2.0->-r requirements.txt (line 21)) (5.1.0)\r\n",
      "Requirement already satisfied: async-timeout<4.0,>=3.0 in /opt/conda/lib/python3.7/site-packages (from aiohttp->ray==1.2.0->-r requirements.txt (line 21)) (3.0.1)\r\n",
      "Requirement already satisfied: yarl<2.0,>=1.0 in /opt/conda/lib/python3.7/site-packages (from aiohttp->ray==1.2.0->-r requirements.txt (line 21)) (1.6.3)\r\n",
      "Requirement already satisfied: hiredis in /opt/conda/lib/python3.7/site-packages (from aioredis->ray==1.2.0->-r requirements.txt (line 21)) (1.1.0)\r\n",
      "Requirement already satisfied: itsdangerous>=0.24 in /opt/conda/lib/python3.7/site-packages (from Flask->mlflow==1.17.0->-r requirements.txt (line 32)) (1.1.0)\r\n",
      "Requirement already satisfied: psutil in /opt/conda/lib/python3.7/site-packages (from gpustat->ray==1.2.0->-r requirements.txt (line 21)) (5.8.0)\r\n",
      "Requirement already satisfied: blessings>=1.6 in /opt/conda/lib/python3.7/site-packages (from gpustat->ray==1.2.0->-r requirements.txt (line 21)) (1.7)\r\n",
      "Requirement already satisfied: nvidia-ml-py3>=7.352.0 in /opt/conda/lib/python3.7/site-packages (from gpustat->ray==1.2.0->-r requirements.txt (line 21)) (7.352.0)\r\n",
      "Requirement already satisfied: bleach in /opt/conda/lib/python3.7/site-packages (from nbconvert->notebook>=4.4.1->widgetsnbextension~=3.5.0->ipywidgets>=7.0.0->pydeck>=0.1.dev5->streamlit==0.83.0->-r requirements.txt (line 3)) (3.2.1)\r\n",
      "Requirement already satisfied: testpath in /opt/conda/lib/python3.7/site-packages (from nbconvert->notebook>=4.4.1->widgetsnbextension~=3.5.0->ipywidgets>=7.0.0->pydeck>=0.1.dev5->streamlit==0.83.0->-r requirements.txt (line 3)) (0.4.4)\r\n",
      "Requirement already satisfied: defusedxml in /opt/conda/lib/python3.7/site-packages (from nbconvert->notebook>=4.4.1->widgetsnbextension~=3.5.0->ipywidgets>=7.0.0->pydeck>=0.1.dev5->streamlit==0.83.0->-r requirements.txt (line 3)) (0.6.0)\r\n",
      "Requirement already satisfied: mistune<2,>=0.8.1 in /opt/conda/lib/python3.7/site-packages (from nbconvert->notebook>=4.4.1->widgetsnbextension~=3.5.0->ipywidgets>=7.0.0->pydeck>=0.1.dev5->streamlit==0.83.0->-r requirements.txt (line 3)) (0.8.4)\r\n",
      "Requirement already satisfied: nbclient<0.6.0,>=0.5.0 in /opt/conda/lib/python3.7/site-packages (from nbconvert->notebook>=4.4.1->widgetsnbextension~=3.5.0->ipywidgets>=7.0.0->pydeck>=0.1.dev5->streamlit==0.83.0->-r requirements.txt (line 3)) (0.5.1)\r\n",
      "Requirement already satisfied: jupyterlab-pygments in /opt/conda/lib/python3.7/site-packages (from nbconvert->notebook>=4.4.1->widgetsnbextension~=3.5.0->ipywidgets>=7.0.0->pydeck>=0.1.dev5->streamlit==0.83.0->-r requirements.txt (line 3)) (0.1.2)\r\n",
      "Requirement already satisfied: pandocfilters>=1.4.1 in /opt/conda/lib/python3.7/site-packages (from nbconvert->notebook>=4.4.1->widgetsnbextension~=3.5.0->ipywidgets>=7.0.0->pydeck>=0.1.dev5->streamlit==0.83.0->-r requirements.txt (line 3)) (1.4.2)\r\n",
      "Requirement already satisfied: async-generator in /opt/conda/lib/python3.7/site-packages (from nbclient<0.6.0,>=0.5.0->nbconvert->notebook>=4.4.1->widgetsnbextension~=3.5.0->ipywidgets>=7.0.0->pydeck>=0.1.dev5->streamlit==0.83.0->-r requirements.txt (line 3)) (1.10)\r\n",
      "Requirement already satisfied: nest-asyncio in /opt/conda/lib/python3.7/site-packages (from nbclient<0.6.0,>=0.5.0->nbconvert->notebook>=4.4.1->widgetsnbextension~=3.5.0->ipywidgets>=7.0.0->pydeck>=0.1.dev5->streamlit==0.83.0->-r requirements.txt (line 3)) (1.4.3)\r\n",
      "Requirement already satisfied: webencodings in /opt/conda/lib/python3.7/site-packages (from bleach->nbconvert->notebook>=4.4.1->widgetsnbextension~=3.5.0->ipywidgets>=7.0.0->pydeck>=0.1.dev5->streamlit==0.83.0->-r requirements.txt (line 3)) (0.5.1)\r\n",
      "Requirement already satisfied: google-api-core<2.0.0,>=1.0.0 in /opt/conda/lib/python3.7/site-packages (from opencensus->ray==1.2.0->-r requirements.txt (line 21)) (1.22.4)\r\n",
      "Requirement already satisfied: opencensus-context==0.1.2 in /opt/conda/lib/python3.7/site-packages (from opencensus->ray==1.2.0->-r requirements.txt (line 21)) (0.1.2)\r\n",
      "Requirement already satisfied: googleapis-common-protos<2.0dev,>=1.6.0 in /opt/conda/lib/python3.7/site-packages (from google-api-core<2.0.0,>=1.0.0->opencensus->ray==1.2.0->-r requirements.txt (line 21)) (1.52.0)\r\n",
      "Requirement already satisfied: pathtools>=0.1.1 in /opt/conda/lib/python3.7/site-packages (from watchdog->streamlit==0.83.0->-r requirements.txt (line 3)) (0.1.2)\r\n",
      "Building wheels for collected packages: python-multipart, sentence-transformers, umap, umap-learn, alembic, databricks-cli, prometheus-flask-exporter\r\n",
      "  Building wheel for python-multipart (setup.py) ... \u001b[?25l-\b \b\\\b \bdone\r\n",
      "\u001b[?25h  Created wheel for python-multipart: filename=python_multipart-0.0.5-py3-none-any.whl size=31670 sha256=7d28bc63058d7e37ef4bb16723121ef65512d255e433a6a9511c23ef7972a83a\r\n",
      "  Stored in directory: /root/.cache/pip/wheels/2c/41/7c/bfd1c180534ffdcc0972f78c5758f89881602175d48a8bcd2c\r\n",
      "  Building wheel for sentence-transformers (setup.py) ... \u001b[?25l-\b \b\\\b \bdone\r\n",
      "\u001b[?25h  Created wheel for sentence-transformers: filename=sentence_transformers-2.0.0-py3-none-any.whl size=126709 sha256=9644efca6015b8946e062d9cd66682ff56ffabe60faf12b9c492596a1a8063b0\r\n",
      "  Stored in directory: /root/.cache/pip/wheels/d1/c1/0f/faafd427f705c4b012274ba60d9a91d75830306811e1355293\r\n",
      "  Building wheel for umap (setup.py) ... \u001b[?25l-\b \b\\\b \bdone\r\n",
      "\u001b[?25h  Created wheel for umap: filename=umap-0.1.1-py3-none-any.whl size=3564 sha256=ce405585429ff82fd3dae16512d757fd5476229aa6b3830b4df2f7906f0f816b\r\n",
      "  Stored in directory: /root/.cache/pip/wheels/65/55/85/945cfb3d67373767e4dc3e9629300a926edde52633df4f0efe\r\n",
      "  Building wheel for umap-learn (setup.py) ... \u001b[?25l-\b \b\\\b \bdone\r\n",
      "\u001b[?25h  Created wheel for umap-learn: filename=umap_learn-0.5.1-py3-none-any.whl size=76566 sha256=59aa54be24be17aa90937264065efa02ca8f8f5d4b37f5f10f35589f0d2ae876\r\n",
      "  Stored in directory: /root/.cache/pip/wheels/01/e7/bb/347dc0e510803d7116a13d592b10cc68262da56a8eec4dd72f\r\n",
      "  Building wheel for alembic (setup.py) ... \u001b[?25l-\b \b\\\b \bdone\r\n",
      "\u001b[?25h  Created wheel for alembic: filename=alembic-1.4.1-py2.py3-none-any.whl size=158155 sha256=63fc8a5b28075dc9c399dc6f1a0549730da6688ab85c0f92222436da42c60589\r\n",
      "  Stored in directory: /root/.cache/pip/wheels/be/5d/0a/9e13f53f4f5dfb67cd8d245bb7cdffe12f135846f491a283e3\r\n",
      "  Building wheel for databricks-cli (setup.py) ... \u001b[?25l-\b \b\\\b \b|\b \bdone\r\n",
      "\u001b[?25h  Created wheel for databricks-cli: filename=databricks_cli-0.15.0-py3-none-any.whl size=105260 sha256=a4f1101be51928594fde64491379ae3153b93be55de24af8e2944c6caf6a6cf8\r\n",
      "  Stored in directory: /root/.cache/pip/wheels/e7/ba/75/284f9a90ff7a010bb23b9798f2e9a19dd9fe619379c917bff4\r\n",
      "  Building wheel for prometheus-flask-exporter (setup.py) ... \u001b[?25l-\b \b\\\b \bdone\r\n",
      "\u001b[?25h  Created wheel for prometheus-flask-exporter: filename=prometheus_flask_exporter-0.18.2-py3-none-any.whl size=17399 sha256=df85e6e1434b0f3e7e9535a6916ecc61b3278d558b4ff352acb5b2d59e3ff5bf\r\n",
      "  Stored in directory: /root/.cache/pip/wheels/6a/1e/1c/c765920cb92b2f0343d2dd8b481a407cee2823f9b4bbd2e52a\r\n",
      "Successfully built python-multipart sentence-transformers umap umap-learn alembic databricks-cli prometheus-flask-exporter\r\n",
      "Installing collected packages: packaging, matplotlib-inline, ipython, debugpy, argcomplete, ipykernel, numpy, tqdm, scipy, joblib, catalogue, typer, tokenizers, srsly, smart-open, scikit-learn, PyYAML, pydantic, pandas, huggingface-hub, validators, transformers, thinc, starlette, spacy-legacy, querystring-parser, pydeck, prometheus-flask-exporter, pathy, matplotlib, h11, gunicorn, databricks-cli, base58, astor, alembic, xgboost, uvicorn, umap-learn, umap, textblob-fr, tensorflow, streamlit, spacy, sentence-transformers, seaborn, ray, raceplotly, python-multipart, pytest, mlflow, gensim, fastapi\r\n",
      "  Attempting uninstall: packaging\r\n",
      "    Found existing installation: packaging 20.8\r\n",
      "    Uninstalling packaging-20.8:\r\n",
      "      Successfully uninstalled packaging-20.8\r\n",
      "  Attempting uninstall: ipython\r\n",
      "    Found existing installation: ipython 7.19.0\r\n",
      "    Uninstalling ipython-7.19.0:\r\n",
      "      Successfully uninstalled ipython-7.19.0\r\n",
      "  Attempting uninstall: ipykernel\r\n",
      "    Found existing installation: ipykernel 5.1.1\r\n",
      "    Uninstalling ipykernel-5.1.1:\r\n",
      "      Successfully uninstalled ipykernel-5.1.1\r\n",
      "  Attempting uninstall: numpy\r\n",
      "    Found existing installation: numpy 1.19.5\r\n",
      "    Uninstalling numpy-1.19.5:\r\n",
      "      Successfully uninstalled numpy-1.19.5\r\n",
      "  Attempting uninstall: tqdm\r\n",
      "    Found existing installation: tqdm 4.55.1\r\n",
      "    Uninstalling tqdm-4.55.1:\r\n",
      "      Successfully uninstalled tqdm-4.55.1\r\n",
      "  Attempting uninstall: scipy\r\n",
      "    Found existing installation: scipy 1.4.1\r\n",
      "    Uninstalling scipy-1.4.1:\r\n",
      "      Successfully uninstalled scipy-1.4.1\r\n",
      "  Attempting uninstall: joblib\r\n",
      "    Found existing installation: joblib 1.0.0\r\n",
      "    Uninstalling joblib-1.0.0:\r\n",
      "      Successfully uninstalled joblib-1.0.0\r\n",
      "  Attempting uninstall: catalogue\r\n",
      "    Found existing installation: catalogue 1.0.0\r\n",
      "    Uninstalling catalogue-1.0.0:\r\n",
      "      Successfully uninstalled catalogue-1.0.0\r\n",
      "  Attempting uninstall: tokenizers\r\n",
      "    Found existing installation: tokenizers 0.9.4\r\n",
      "    Uninstalling tokenizers-0.9.4:\r\n",
      "      Successfully uninstalled tokenizers-0.9.4\r\n",
      "  Attempting uninstall: srsly\r\n",
      "    Found existing installation: srsly 1.0.5\r\n",
      "    Uninstalling srsly-1.0.5:\r\n",
      "      Successfully uninstalled srsly-1.0.5\r\n",
      "  Attempting uninstall: smart-open\r\n",
      "    Found existing installation: smart-open 4.1.2\r\n",
      "    Uninstalling smart-open-4.1.2:\r\n",
      "      Successfully uninstalled smart-open-4.1.2\r\n",
      "  Attempting uninstall: scikit-learn\r\n",
      "    Found existing installation: scikit-learn 0.23.2\r\n",
      "    Uninstalling scikit-learn-0.23.2:\r\n",
      "      Successfully uninstalled scikit-learn-0.23.2\r\n",
      "  Attempting uninstall: PyYAML\r\n",
      "    Found existing installation: PyYAML 5.3.1\r\n",
      "\u001b[31mERROR: Cannot uninstall 'PyYAML'. It is a distutils installed project and thus we cannot accurately determine which files belong to it which would lead to only a partial uninstall.\u001b[0m\r\n",
      "\u001b[33mWARNING: You are using pip version 21.0; however, version 21.2.4 is available.\r\n",
      "You should consider upgrading via the '/opt/conda/bin/python3.7 -m pip install --upgrade pip' command.\u001b[0m\r\n"
     ]
    }
   ],
   "source": [
    "!pip install -r requirements.txt"
   ]
  },
  {
   "cell_type": "code",
   "execution_count": 4,
   "metadata": {
    "_kg_hide-output": true,
    "execution": {
     "iopub.execute_input": "2021-09-28T12:14:17.192247Z",
     "iopub.status.busy": "2021-09-28T12:14:17.186665Z",
     "iopub.status.idle": "2021-09-28T12:14:29.323615Z",
     "shell.execute_reply": "2021-09-28T12:14:29.322439Z"
    },
    "papermill": {
     "duration": 12.543702,
     "end_time": "2021-09-28T12:14:29.323812",
     "exception": false,
     "start_time": "2021-09-28T12:14:16.780110",
     "status": "completed"
    },
    "tags": []
   },
   "outputs": [
    {
     "name": "stdout",
     "output_type": "stream",
     "text": [
      "Collecting sentence-transformers\r\n",
      "  Using cached sentence_transformers-2.0.0-py3-none-any.whl\r\n",
      "Requirement already satisfied: tqdm in /opt/conda/lib/python3.7/site-packages (from sentence-transformers) (4.50.2)\r\n",
      "Requirement already satisfied: nltk in /opt/conda/lib/python3.7/site-packages (from sentence-transformers) (3.2.4)\r\n",
      "Requirement already satisfied: scikit-learn in /opt/conda/lib/python3.7/site-packages (from sentence-transformers) (0.24.2)\r\n",
      "Collecting transformers<5.0.0,>=4.6.0\r\n",
      "  Downloading transformers-4.11.0-py3-none-any.whl (2.9 MB)\r\n",
      "\u001b[K     |████████████████████████████████| 2.9 MB 2.1 MB/s \r\n",
      "\u001b[?25hRequirement already satisfied: numpy in /opt/conda/lib/python3.7/site-packages (from sentence-transformers) (1.19.2)\r\n",
      "Requirement already satisfied: torch>=1.6.0 in /opt/conda/lib/python3.7/site-packages (from sentence-transformers) (1.7.0)\r\n",
      "Requirement already satisfied: sentencepiece in /opt/conda/lib/python3.7/site-packages (from sentence-transformers) (0.1.95)\r\n",
      "Requirement already satisfied: scipy in /opt/conda/lib/python3.7/site-packages (from sentence-transformers) (1.5.2)\r\n",
      "Collecting huggingface-hub\r\n",
      "  Using cached huggingface_hub-0.0.17-py3-none-any.whl (52 kB)\r\n",
      "Requirement already satisfied: torchvision in /opt/conda/lib/python3.7/site-packages (from sentence-transformers) (0.8.1)\r\n",
      "Requirement already satisfied: future in /opt/conda/lib/python3.7/site-packages (from torch>=1.6.0->sentence-transformers) (0.18.2)\r\n",
      "Requirement already satisfied: typing_extensions in /opt/conda/lib/python3.7/site-packages (from torch>=1.6.0->sentence-transformers) (3.7.4.3)\r\n",
      "Requirement already satisfied: dataclasses in /opt/conda/lib/python3.7/site-packages (from torch>=1.6.0->sentence-transformers) (0.6)\r\n",
      "Requirement already satisfied: packaging>=20.0 in /opt/conda/lib/python3.7/site-packages (from transformers<5.0.0,>=4.6.0->sentence-transformers) (21.0)\r\n",
      "Requirement already satisfied: regex!=2019.12.17 in /opt/conda/lib/python3.7/site-packages (from transformers<5.0.0,>=4.6.0->sentence-transformers) (2020.11.13)\r\n",
      "Requirement already satisfied: sacremoses in /opt/conda/lib/python3.7/site-packages (from transformers<5.0.0,>=4.6.0->sentence-transformers) (0.0.43)\r\n",
      "Requirement already satisfied: importlib-metadata in /opt/conda/lib/python3.7/site-packages (from transformers<5.0.0,>=4.6.0->sentence-transformers) (3.3.0)\r\n",
      "Requirement already satisfied: filelock in /opt/conda/lib/python3.7/site-packages (from transformers<5.0.0,>=4.6.0->sentence-transformers) (3.0.12)\r\n",
      "Requirement already satisfied: pyyaml>=5.1 in /opt/conda/lib/python3.7/site-packages (from transformers<5.0.0,>=4.6.0->sentence-transformers) (5.3.1)\r\n",
      "Requirement already satisfied: tokenizers<0.11,>=0.10.1 in /opt/conda/lib/python3.7/site-packages (from transformers<5.0.0,>=4.6.0->sentence-transformers) (0.10.3)\r\n",
      "Requirement already satisfied: requests in /opt/conda/lib/python3.7/site-packages (from transformers<5.0.0,>=4.6.0->sentence-transformers) (2.25.1)\r\n",
      "Requirement already satisfied: pyparsing>=2.0.2 in /opt/conda/lib/python3.7/site-packages (from packaging>=20.0->transformers<5.0.0,>=4.6.0->sentence-transformers) (2.4.7)\r\n",
      "Requirement already satisfied: zipp>=0.5 in /opt/conda/lib/python3.7/site-packages (from importlib-metadata->transformers<5.0.0,>=4.6.0->sentence-transformers) (3.4.0)\r\n",
      "Requirement already satisfied: six in /opt/conda/lib/python3.7/site-packages (from nltk->sentence-transformers) (1.15.0)\r\n",
      "Requirement already satisfied: chardet<5,>=3.0.2 in /opt/conda/lib/python3.7/site-packages (from requests->transformers<5.0.0,>=4.6.0->sentence-transformers) (3.0.4)\r\n",
      "Requirement already satisfied: urllib3<1.27,>=1.21.1 in /opt/conda/lib/python3.7/site-packages (from requests->transformers<5.0.0,>=4.6.0->sentence-transformers) (1.26.2)\r\n",
      "Requirement already satisfied: idna<3,>=2.5 in /opt/conda/lib/python3.7/site-packages (from requests->transformers<5.0.0,>=4.6.0->sentence-transformers) (2.10)\r\n",
      "Requirement already satisfied: certifi>=2017.4.17 in /opt/conda/lib/python3.7/site-packages (from requests->transformers<5.0.0,>=4.6.0->sentence-transformers) (2020.12.5)\r\n",
      "Requirement already satisfied: click in /opt/conda/lib/python3.7/site-packages (from sacremoses->transformers<5.0.0,>=4.6.0->sentence-transformers) (7.1.2)\r\n",
      "Requirement already satisfied: joblib in /opt/conda/lib/python3.7/site-packages (from sacremoses->transformers<5.0.0,>=4.6.0->sentence-transformers) (0.17.0)\r\n",
      "Requirement already satisfied: threadpoolctl>=2.0.0 in /opt/conda/lib/python3.7/site-packages (from scikit-learn->sentence-transformers) (2.1.0)\r\n",
      "Requirement already satisfied: pillow>=4.1.1 in /opt/conda/lib/python3.7/site-packages (from torchvision->sentence-transformers) (7.2.0)\r\n",
      "Installing collected packages: huggingface-hub, transformers, sentence-transformers\r\n",
      "  Attempting uninstall: transformers\r\n",
      "    Found existing installation: transformers 4.0.1\r\n",
      "    Uninstalling transformers-4.0.1:\r\n",
      "      Successfully uninstalled transformers-4.0.1\r\n",
      "\u001b[31mERROR: pip's dependency resolver does not currently take into account all the packages that are installed. This behaviour is the source of the following dependency conflicts.\r\n",
      "allennlp 1.3.0 requires transformers<4.1,>=4.0, but you have transformers 4.11.0 which is incompatible.\u001b[0m\r\n",
      "Successfully installed huggingface-hub-0.0.17 sentence-transformers-2.0.0 transformers-4.11.0\r\n",
      "\u001b[33mWARNING: You are using pip version 21.0; however, version 21.2.4 is available.\r\n",
      "You should consider upgrading via the '/opt/conda/bin/python3.7 -m pip install --upgrade pip' command.\u001b[0m\r\n"
     ]
    }
   ],
   "source": [
    "!pip install -U sentence-transformers"
   ]
  },
  {
   "cell_type": "code",
   "execution_count": 5,
   "metadata": {
    "_kg_hide-output": true,
    "execution": {
     "iopub.execute_input": "2021-09-28T12:14:30.092319Z",
     "iopub.status.busy": "2021-09-28T12:14:30.088964Z",
     "iopub.status.idle": "2021-09-28T12:14:42.288023Z",
     "shell.execute_reply": "2021-09-28T12:14:42.287452Z"
    },
    "papermill": {
     "duration": 12.580808,
     "end_time": "2021-09-28T12:14:42.288206",
     "exception": false,
     "start_time": "2021-09-28T12:14:29.707398",
     "status": "completed"
    },
    "tags": []
   },
   "outputs": [
    {
     "name": "stdout",
     "output_type": "stream",
     "text": [
      "Collecting kaleido\r\n",
      "  Downloading kaleido-0.2.1-py2.py3-none-manylinux1_x86_64.whl (79.9 MB)\r\n",
      "\u001b[K     |████████████████████████████████| 79.9 MB 64.5 MB/s \r\n",
      "\u001b[?25hInstalling collected packages: kaleido\r\n",
      "Successfully installed kaleido-0.2.1\r\n",
      "\u001b[33mWARNING: You are using pip version 21.0; however, version 21.2.4 is available.\r\n",
      "You should consider upgrading via the '/opt/conda/bin/python3.7 -m pip install --upgrade pip' command.\u001b[0m\r\n"
     ]
    }
   ],
   "source": [
    "# if png doesn't save correctly\n",
    "!pip install kaleido"
   ]
  },
  {
   "cell_type": "code",
   "execution_count": 6,
   "metadata": {
    "_kg_hide-output": true,
    "execution": {
     "iopub.execute_input": "2021-09-28T12:14:43.199966Z",
     "iopub.status.busy": "2021-09-28T12:14:43.194083Z",
     "iopub.status.idle": "2021-09-28T12:14:57.144116Z",
     "shell.execute_reply": "2021-09-28T12:14:57.143510Z"
    },
    "papermill": {
     "duration": 14.407855,
     "end_time": "2021-09-28T12:14:57.144299",
     "exception": false,
     "start_time": "2021-09-28T12:14:42.736444",
     "status": "completed"
    },
    "tags": []
   },
   "outputs": [
    {
     "name": "stdout",
     "output_type": "stream",
     "text": [
      "\u001b[38;5;3m⚠ Skipping model package dependencies and setting `--no-deps`. You\r\n",
      "don't seem to have the spaCy package itself installed (maybe because you've\r\n",
      "built from source?), so installing the model dependencies would cause spaCy to\r\n",
      "be downloaded, which probably isn't what you want. If the model package has\r\n",
      "other dependencies, you'll have to install them manually.\u001b[0m\r\n",
      "Collecting fr_core_news_md==2.3.0\r\n",
      "  Downloading https://github.com/explosion/spacy-models/releases/download/fr_core_news_md-2.3.0/fr_core_news_md-2.3.0.tar.gz (46.1 MB)\r\n",
      "\u001b[K     |████████████████████████████████| 46.1 MB 1.4 MB/s \r\n",
      "\u001b[?25hBuilding wheels for collected packages: fr-core-news-md\r\n",
      "  Building wheel for fr-core-news-md (setup.py) ... \u001b[?25l-\b \b\\\b \b|\b \b/\b \b-\b \b\\\b \b|\b \b/\b \b-\b \b\\\b \bdone\r\n",
      "\u001b[?25h  Created wheel for fr-core-news-md: filename=fr_core_news_md-2.3.0-py3-none-any.whl size=46100669 sha256=a61eeebdb8e314d1d213239261e586a5a1157f7571a1c67f642c9855a0826095\r\n",
      "  Stored in directory: /tmp/pip-ephem-wheel-cache-63rj7lko/wheels/62/a5/93/9c82d8ae84430ed80720262c11726d046d3444af301b7d2895\r\n",
      "Successfully built fr-core-news-md\r\n",
      "Installing collected packages: fr-core-news-md\r\n",
      "Successfully installed fr-core-news-md-2.3.0\r\n",
      "\u001b[33mWARNING: You are using pip version 21.0; however, version 21.2.4 is available.\r\n",
      "You should consider upgrading via the '/opt/conda/bin/python3 -m pip install --upgrade pip' command.\u001b[0m\r\n",
      "\u001b[38;5;2m✔ Download and installation successful\u001b[0m\r\n",
      "You can now load the model via spacy.load('fr_core_news_md')\r\n"
     ]
    }
   ],
   "source": [
    "# if spacy can't load spacy model :\n",
    "!python3 -m spacy download fr_core_news_md"
   ]
  },
  {
   "cell_type": "markdown",
   "metadata": {
    "papermill": {
     "duration": 0.437823,
     "end_time": "2021-09-28T12:14:58.029160",
     "exception": false,
     "start_time": "2021-09-28T12:14:57.591337",
     "status": "completed"
    },
    "tags": []
   },
   "source": [
    "# Import"
   ]
  },
  {
   "cell_type": "code",
   "execution_count": 7,
   "metadata": {
    "execution": {
     "iopub.execute_input": "2021-09-28T12:14:58.926827Z",
     "iopub.status.busy": "2021-09-28T12:14:58.925772Z",
     "iopub.status.idle": "2021-09-28T12:15:28.454125Z",
     "shell.execute_reply": "2021-09-28T12:15:28.452987Z"
    },
    "papermill": {
     "duration": 29.985486,
     "end_time": "2021-09-28T12:15:28.454299",
     "exception": false,
     "start_time": "2021-09-28T12:14:58.468813",
     "status": "completed"
    },
    "tags": []
   },
   "outputs": [],
   "source": [
    "import pandas as pd\n",
    "from autonlp.autonlp import AutoNLP\n",
    "import os\n",
    "from pathlib import Path\n",
    "from autonlp.flags import Flags, save_yaml\n",
    "import dataclasses"
   ]
  },
  {
   "cell_type": "markdown",
   "metadata": {
    "papermill": {
     "duration": 0.434695,
     "end_time": "2021-09-28T12:15:29.333828",
     "exception": false,
     "start_time": "2021-09-28T12:15:28.899133",
     "status": "completed"
    },
    "tags": []
   },
   "source": [
    "# Flags update (parameters)"
   ]
  },
  {
   "cell_type": "code",
   "execution_count": 8,
   "metadata": {
    "execution": {
     "iopub.execute_input": "2021-09-28T12:15:30.207803Z",
     "iopub.status.busy": "2021-09-28T12:15:30.207070Z",
     "iopub.status.idle": "2021-09-28T12:15:30.237640Z",
     "shell.execute_reply": "2021-09-28T12:15:30.238234Z"
    },
    "papermill": {
     "duration": 0.472008,
     "end_time": "2021-09-28T12:15:30.238454",
     "exception": false,
     "start_time": "2021-09-28T12:15:29.766446",
     "status": "completed"
    },
    "tags": []
   },
   "outputs": [
    {
     "name": "stdout",
     "output_type": "stream",
     "text": [
      "flags : Flags(path_data='/kaggle/input/finance-corpus/FinancialPhraseBank_train.csv', path_data_validation='', apply_logs=True, outdir='/kaggle/working/logs', apply_mlflow=False, experiment_name='Experiment', apply_app=False, debug=False, seed=15, column_text='text_fr', language_text='fr', target='sentiment', apply_small_clean=True, name_spacy_model='fr_core_news_md', apply_spacy_preprocessing=True, apply_entity_preprocessing=True, objective='multi-class', embedding={'tf': 1, 'tf-idf': 2, 'word2vec': None, 'fasttext': None, 'doc2vec': None, 'transformer': None}, classifier={'Naive_Bayes': [1], 'Logistic_Regression': [1], 'SGD_Classifier': [2], 'XGBoost': [], 'Global_Average': [], 'Attention': [], 'BiRNN': [], 'BiRNN_Attention': [], 'biLSTM': [], 'BiLSTM_Attention': [], 'biGRU': [], 'BiGRU_Attention': []}, regressor={'SGD_Regressor': [1], 'XGBoost': [], 'Global_Average': [2], 'Attention': [], 'BiRNN': [], 'BiRNN_Attention': [], 'biLSTM': [], 'BiLSTM_Attention': [], 'biGRU': [], 'BiGRU_Attention': []}, clustering={'NMF_frobenius': [1], 'NMF_kullback': [], 'LDA': [], 'hdbscan': [], 'ACP_hdbscan': [], 'UMAP_hdbscan': [], 'kmeans': [], 'ACP_kmeans': [2], 'UMAP_kmeans': [], 'agglomerativeclustering': [], 'ACP_agglomerativeclustering': [], 'UMAP_agglomerativeclustering': [], 'Zero_shot': []}, max_run_time_per_model=60, max_trial_per_model=1000, frac_trainset=0.7, nfolds=5, nfolds_train=5, scoring='f1', average_scoring='macro', cv_strategy='KFold', class_weight=True, size_params='small', method_embedding={'Word2vec': 'Word2Vec', 'Fasttext': 'FastText', 'Doc2Vec': 'Doc2Vec', 'Transformer': 'CamemBERT', 'spacy': [(['ADJ', 'NOUN', 'VERB'], True)]}, apply_optimization=True, apply_validation=False, apply_blend_model=True, path_models_parameters=None, path_models_best_parameters=None, verbose=2, batch_size=32, patience=2, epochs=60, min_lr=0.0001, apply_ray=False, ray_max_model_parallel=1, ray_cpu_per_model=1, ray_gpu_per_model=0, ray_verbose=2, sort_leaderboard='f1', map_label={}, dimension_embedding='doc_embedding', n_groups=7, alpha_nmf=0.1, l1_ratio=0.5, max_iter_lda=5, acp_n_components=2, umap_n_components=2, umap_n_neighbors=15, min_cluster_size=15, aglc_linkage='ward', vocabulary_labels={'positif': ['positif', 'bien'], 'négatif': ['négatif', 'mauvais']}, show_top_terms_topics=False, preprocess_topic=(['ADJ', 'NOUN', 'VERB'], True), n_top_words=10, min_ngram=1, max_ngram=1, tf_binary=False, tf_ngram_range=[(1, 1), (1, 2), (1, 3)], tf_stop_words=True, tf_wde_binary=False, tf_wde_stop_words=True, tf_wde_ngram_range=(1, 1), tf_wde_vector_size=200, tf_wde_max_features=20000, tf_wde_maxlen=250, tf_wde_learning_rate=[0.001], tfidf_binary=False, tfidf_ngram_range=[(1, 1), (1, 2), (1, 3)], tfidf_stop_words=True, tfidf_wde_binary=False, tfidf_wde_stop_words=True, tfidf_wde_ngram_range=(1, 1), tfidf_wde_vector_size=200, tfidf_wde_max_features=20000, tfidf_wde_maxlen=250, tfidf_wde_learning_rate=[0.001], w2v_size_vector=300, w2v_window=5, w2v_epochs=10, w2v_sg=0, w2v_maxlen=250, w2v_max_features=20000, w2v_learning_rate=[0.001], ft_size_vector=300, ft_window=5, ft_epochs=10, ft_thr_grams=10, ft_sg=0, ft_maxlen=250, ft_max_features=20000, ft_learning_rate=[0.001], d2v_size_vector=300, d2v_window=5, d2v_epochs=10, d2v_sg=0, d2v_maxlen=250, d2v_max_features=20000, d2v_learning_rate=[0.001], tr_maxlen=100, tr_learning_rate=[3e-05], nb_alpha_min=0.0, nb_alpha_max=1.0, logr_C_min=0.01, logr_C_max=100.0, logr_penalty=['l2', 'l1'], sgd_alpha_min=0.0001, sgd_alpha_max=0.01, sgdc_penalty=['l2', 'l1'], sgdc_loss=['log', 'modified_huber'], sgdr_penalty=['l2', 'l1'], sgdr_loss=['squared_loss', 'huber', 'epsilon_insensitive'], xgb_n_estimators_min=20, xgb_n_estimators_max=200, xgb_max_depth_min=3, xgb_max_depth_max=10, xgb_learning_rate_min=0.04, xgb_learning_rate_max=0.3, xgb_subsample_min=0.5, xgb_subsample_max=1.0, ga_dropout_rate_min=0, ga_dropout_rate_max=0.5, rnn_hidden_unit_min=120, rnn_hidden_unit_max=130, rnn_dropout_rate_min=0, rnn_dropout_rate_max=0.5, lstm_hidden_unit_min=120, lstm_hidden_unit_max=130, lstm_dropout_rate_min=0, lstm_dropout_rate_max=0.5, gru_hidden_unit_min=120, gru_hidden_unit_max=130, gru_dropout_rate_min=0, gru_dropout_rate_max=0.5, att_dropout_rate_min=0, att_dropout_rate_max=0.5)\n"
     ]
    }
   ],
   "source": [
    "#####################\n",
    "# Parameters\n",
    "#####################\n",
    "\n",
    "flags_dict_info = {\n",
    "    \"path_data\": \"/kaggle/input/finance-corpus/FinancialPhraseBank_train.csv\",\n",
    "    \"path_data_validation\": \"\",\n",
    "    \"apply_logs\": True,\n",
    "    \"outdir\": \"/kaggle/working/logs\",\n",
    "    \"seed\": 15,\n",
    "    \"debug\": False,  # for debug : use only 50 data rows for training\n",
    "}\n",
    "flags_dict_preprocessing = {\n",
    "    \"column_text\": \"text_fr\",  # name column with texts\n",
    "    \"target\": \"sentiment\",     # name column with targets\n",
    "    \"language_text\": \"fr\",\n",
    "    \"apply_small_clean\": True,\n",
    "    \"name_spacy_model\": \"fr_core_news_md\",\n",
    "    \"apply_spacy_preprocessing\": True,\n",
    "    \"apply_entity_preprocessing\": True\n",
    "}\n",
    "\n",
    "flags_dict_autonlp = {\n",
    "    \"objective\": 'multi-class',    # 'binary' or 'multi-class' or 'regression'\n",
    "    \n",
    "    \"embedding\": {\"tf\": 1, \"tf-idf\": 2, \"word2vec\": None, \"fasttext\": None, \"doc2vec\": None, \"transformer\": None},\n",
    "    \n",
    "    \"classifier\": {\"Naive_Bayes\": [1], \"Logistic_Regression\": [1], \"SGD_Classifier\": [2],\n",
    "                   \"XGBoost\": [], \"Global_Average\": [], \"Attention\": [], \"BiRNN\": [], \"BiRNN_Attention\": [],\n",
    "                   \"biLSTM\": [], \"BiLSTM_Attention\": [], \"biGRU\": [], \"BiGRU_Attention\": []},\n",
    "    \n",
    "    \"max_run_time_per_model\": 60,\n",
    "    \"frac_trainset\": 0.7,\n",
    "    \"scoring\": 'f1',\n",
    "    \"average_scoring\": \"macro\",\n",
    "    \"nfolds\": 5,\n",
    "    \"nfolds_train\": 5,\n",
    "    \"class_weight\": True,\n",
    "    \"apply_blend_model\": True,\n",
    "    \"verbose\": 2,\n",
    "    \"method_embedding\": {'Word2vec': 'Word2Vec',\n",
    "                         'Fasttext': 'FastText',\n",
    "                         'Doc2Vec': 'Doc2Vec',\n",
    "                         'Transformer': 'CamemBERT',\n",
    "                         'spacy': [(['ADJ', 'NOUN', 'VERB'], True)]},\n",
    "\n",
    "    \"apply_optimization\": True,\n",
    "    \"apply_validation\": False,\n",
    "    \n",
    "    \"batch_size\":32,\n",
    "    \"tr_learning_rate\": [3e-5],\n",
    "    \"tr_maxlen\": 100,\n",
    "    \"patience\":2\n",
    "}\n",
    "\n",
    "flags_dict_display = {\n",
    "    \"sort_leaderboard\": 'f1'\n",
    "}\n",
    "\n",
    "flags = Flags().update(flags_dict_info)\n",
    "flags = flags.update(flags_dict_preprocessing)\n",
    "flags = flags.update(flags_dict_autonlp)\n",
    "flags = flags.update(flags_dict_display)\n",
    "print(\"flags :\", flags)\n",
    "debug = flags.debug\n",
    "outdir = Path(flags.outdir)\n",
    "os.makedirs(str(outdir), exist_ok=True)\n",
    "flags_dict = dataclasses.asdict(flags)\n",
    "save_yaml(outdir / \"flags.yaml\", flags_dict)"
   ]
  },
  {
   "cell_type": "markdown",
   "metadata": {
    "papermill": {
     "duration": 0.438313,
     "end_time": "2021-09-28T12:15:31.111149",
     "exception": false,
     "start_time": "2021-09-28T12:15:30.672836",
     "status": "completed"
    },
    "tags": []
   },
   "source": [
    "# Instantiation"
   ]
  },
  {
   "cell_type": "code",
   "execution_count": 9,
   "metadata": {
    "execution": {
     "iopub.execute_input": "2021-09-28T12:15:32.016864Z",
     "iopub.status.busy": "2021-09-28T12:15:32.016016Z",
     "iopub.status.idle": "2021-09-28T12:15:32.019945Z",
     "shell.execute_reply": "2021-09-28T12:15:32.019329Z"
    },
    "papermill": {
     "duration": 0.468487,
     "end_time": "2021-09-28T12:15:32.020121",
     "exception": false,
     "start_time": "2021-09-28T12:15:31.551634",
     "status": "completed"
    },
    "tags": []
   },
   "outputs": [],
   "source": [
    "autonlp = AutoNLP(flags)"
   ]
  },
  {
   "cell_type": "markdown",
   "metadata": {
    "papermill": {
     "duration": 0.430679,
     "end_time": "2021-09-28T12:15:32.891906",
     "exception": false,
     "start_time": "2021-09-28T12:15:32.461227",
     "status": "completed"
    },
    "tags": []
   },
   "source": [
    "# Preprocessing"
   ]
  },
  {
   "cell_type": "code",
   "execution_count": 10,
   "metadata": {
    "execution": {
     "iopub.execute_input": "2021-09-28T12:15:33.804696Z",
     "iopub.status.busy": "2021-09-28T12:15:33.803649Z",
     "iopub.status.idle": "2021-09-28T12:16:02.072761Z",
     "shell.execute_reply": "2021-09-28T12:16:02.073303Z"
    },
    "papermill": {
     "duration": 28.746847,
     "end_time": "2021-09-28T12:16:02.073520",
     "exception": false,
     "start_time": "2021-09-28T12:15:33.326673",
     "status": "completed"
    },
    "tags": []
   },
   "outputs": [
    {
     "name": "stdout",
     "output_type": "stream",
     "text": [
      "\n",
      "Read data...\n",
      "\n",
      "Begin preparation of 3876 data :\n",
      "\n",
      "Training set size : 2713\n",
      "Test set size : 1163\n",
      "\n",
      "Begin preprocessing of 2713 train data :\n",
      "\u001b[38;5;3m⚠ Skipping model package dependencies and setting `--no-deps`. You\n",
      "don't seem to have the spaCy package itself installed (maybe because you've\n",
      "built from source?), so installing the model dependencies would cause spaCy to\n",
      "be downloaded, which probably isn't what you want. If the model package has\n",
      "other dependencies, you'll have to install them manually.\u001b[0m\n",
      "\u001b[38;5;2m✔ Download and installation successful\u001b[0m\n",
      "You can now load the model via spacy.load('fr_core_news_md')\n",
      "- Apply small clean of texts...\n",
      "- Apply nlp.pipe from spacy...\n",
      "- Apply entities preprocessing...\n",
      "\n",
      "Begin preprocessing of 1163 test data :\n",
      "- Apply small clean of texts...\n",
      "- Apply nlp.pipe from spacy...\n",
      "- Apply entities preprocessing...\n",
      "CPU times: user 22.2 s, sys: 1.43 s, total: 23.6 s\n",
      "Wall time: 28.3 s\n"
     ]
    }
   ],
   "source": [
    "%%time\n",
    "autonlp.data_preprocessing()"
   ]
  },
  {
   "cell_type": "markdown",
   "metadata": {
    "papermill": {
     "duration": 0.432805,
     "end_time": "2021-09-28T12:16:02.945623",
     "exception": false,
     "start_time": "2021-09-28T12:16:02.512818",
     "status": "completed"
    },
    "tags": []
   },
   "source": [
    "# Training"
   ]
  },
  {
   "cell_type": "code",
   "execution_count": 11,
   "metadata": {
    "execution": {
     "iopub.execute_input": "2021-09-28T12:16:03.820396Z",
     "iopub.status.busy": "2021-09-28T12:16:03.819326Z",
     "iopub.status.idle": "2021-09-28T12:20:03.059313Z",
     "shell.execute_reply": "2021-09-28T12:20:03.048141Z"
    },
    "papermill": {
     "duration": 239.680161,
     "end_time": "2021-09-28T12:20:03.059666",
     "exception": false,
     "start_time": "2021-09-28T12:16:03.379505",
     "status": "completed"
    },
    "tags": []
   },
   "outputs": [
    {
     "name": "stdout",
     "output_type": "stream",
     "text": [
      "List of models : ['tf+Naive_Bayes_ADJ_NOUN_VERB_lem', 'tf+Logistic_Regression_ADJ_NOUN_VERB_lem', 'tf-idf+SGD_Classifier_ADJ_NOUN_VERB_lem']\n"
     ]
    },
    {
     "name": "stderr",
     "output_type": "stream",
     "text": [
      "Unknown path for path_models_best_parameters, a new dictionary has been created.\n"
     ]
    },
    {
     "name": "stdout",
     "output_type": "stream",
     "text": [
      "\n",
      "\u001b[4mtf+Naive_Bayes_ADJ_NOUN_VERB_lem Model\u001b[0m:\n",
      "- Optimization of parameters:\n",
      "  0%|          | 0/1000 [00:00<?, ?trial/s, best loss=?]oof_val score f1 Metric 0.6313854187835305\n",
      "  0%|          | 1/1000 [00:00<08:34,  1.94trial/s, best loss: -0.6313854187835305]oof_val score f1 Metric 0.6498631302881548\n",
      "  0%|          | 2/1000 [00:01<14:00,  1.19trial/s, best loss: -0.6498631302881548]oof_val score f1 Metric 0.6186813080169128\n",
      "  0%|          | 3/1000 [00:03<19:32,  1.18s/trial, best loss: -0.6498631302881548]oof_val score f1 Metric 0.6376628823299971\n",
      "  0%|          | 4/1000 [00:04<21:40,  1.31s/trial, best loss: -0.6498631302881548]oof_val score f1 Metric 0.6291376542298489\n",
      "  0%|          | 5/1000 [00:05<17:12,  1.04s/trial, best loss: -0.6498631302881548]oof_val score f1 Metric 0.6304554154220741\n",
      "  1%|          | 6/1000 [00:05<14:29,  1.14trial/s, best loss: -0.6498631302881548]oof_val score f1 Metric 0.6076905210748542\n",
      "  1%|          | 7/1000 [00:07<17:57,  1.08s/trial, best loss: -0.6498631302881548]oof_val score f1 Metric 0.624981452861444\n",
      "  1%|          | 8/1000 [00:08<20:14,  1.22s/trial, best loss: -0.6498631302881548]oof_val score f1 Metric 0.6444142386995907\n",
      "  1%|          | 9/1000 [00:09<19:11,  1.16s/trial, best loss: -0.6498631302881548]oof_val score f1 Metric 0.6307536111885207\n",
      "  1%|          | 10/1000 [00:10<16:05,  1.02trial/s, best loss: -0.6498631302881548]oof_val score f1 Metric 0.6267912843502577\n",
      "  1%|          | 11/1000 [00:10<13:45,  1.20trial/s, best loss: -0.6498631302881548]oof_val score f1 Metric 0.6431292192255392\n",
      "  1%|          | 12/1000 [00:12<17:10,  1.04s/trial, best loss: -0.6498631302881548]oof_val score f1 Metric 0.6387659809245567\n",
      "  1%|▏         | 13/1000 [00:13<17:26,  1.06s/trial, best loss: -0.6498631302881548]oof_val score f1 Metric 0.649836037634623\n",
      "  1%|▏         | 14/1000 [00:15<19:45,  1.20s/trial, best loss: -0.6498631302881548]oof_val score f1 Metric 0.6443195181023617\n",
      "  2%|▏         | 15/1000 [00:16<21:21,  1.30s/trial, best loss: -0.6498631302881548]oof_val score f1 Metric 0.643548410577428\n",
      "  2%|▏         | 16/1000 [00:18<22:20,  1.36s/trial, best loss: -0.6498631302881548]oof_val score f1 Metric 0.6539892091802825\n",
      "  2%|▏         | 17/1000 [00:19<20:42,  1.26s/trial, best loss: -0.6539892091802825]oof_val score f1 Metric 0.6432511027469108\n",
      "  2%|▏         | 18/1000 [00:20<19:25,  1.19s/trial, best loss: -0.6539892091802825]oof_val score f1 Metric 0.6314672569322135\n",
      "  2%|▏         | 19/1000 [00:20<16:19,  1.00trial/s, best loss: -0.6539892091802825]oof_val score f1 Metric 0.6374125210187782\n",
      "  2%|▏         | 20/1000 [00:22<18:51,  1.15s/trial, best loss: -0.6539892091802825]oof_val score f1 Metric 0.6519096596489781\n",
      "  2%|▏         | 21/1000 [00:23<18:17,  1.12s/trial, best loss: -0.6539892091802825]oof_val score f1 Metric 0.6543967146107453\n",
      "  2%|▏         | 22/1000 [00:24<17:56,  1.10s/trial, best loss: -0.6543967146107453]oof_val score f1 Metric 0.6491471188212197\n",
      "  2%|▏         | 23/1000 [00:25<17:45,  1.09s/trial, best loss: -0.6543967146107453]oof_val score f1 Metric 0.6528024756225399\n",
      "  2%|▏         | 24/1000 [00:26<17:27,  1.07s/trial, best loss: -0.6543967146107453]oof_val score f1 Metric 0.651697542971863\n",
      "  2%|▎         | 25/1000 [00:27<17:19,  1.07s/trial, best loss: -0.6543967146107453]oof_val score f1 Metric 0.6483620017723498\n",
      "  3%|▎         | 26/1000 [00:28<17:08,  1.06s/trial, best loss: -0.6543967146107453]oof_val score f1 Metric 0.6520604571911681\n",
      "  3%|▎         | 27/1000 [00:29<17:02,  1.05s/trial, best loss: -0.6543967146107453]oof_val score f1 Metric 0.6528024756225399\n",
      "  3%|▎         | 28/1000 [00:30<16:54,  1.04s/trial, best loss: -0.6543967146107453]oof_val score f1 Metric 0.6430233801320958\n",
      "  3%|▎         | 29/1000 [00:31<16:42,  1.03s/trial, best loss: -0.6543967146107453]oof_val score f1 Metric 0.6523207878150487\n",
      "  3%|▎         | 30/1000 [00:32<16:46,  1.04s/trial, best loss: -0.6543967146107453]oof_val score f1 Metric 0.6518461967934758\n",
      "  3%|▎         | 31/1000 [00:33<16:38,  1.03s/trial, best loss: -0.6543967146107453]oof_val score f1 Metric 0.649205132800302\n",
      "  3%|▎         | 32/1000 [00:34<16:39,  1.03s/trial, best loss: -0.6543967146107453]oof_val score f1 Metric 0.6397990137476288\n",
      "  3%|▎         | 33/1000 [00:35<16:47,  1.04s/trial, best loss: -0.6543967146107453]oof_val score f1 Metric 0.6505490417426817\n",
      "  3%|▎         | 34/1000 [00:36<16:36,  1.03s/trial, best loss: -0.6543967146107453]oof_val score f1 Metric 0.6297116101298524\n",
      "  4%|▎         | 35/1000 [00:37<14:17,  1.13trial/s, best loss: -0.6543967146107453]oof_val score f1 Metric 0.6525695813311464\n",
      "  4%|▎         | 36/1000 [00:38<14:55,  1.08trial/s, best loss: -0.6543967146107453]oof_val score f1 Metric 0.6513380943956025\n",
      "  4%|▎         | 37/1000 [00:39<15:28,  1.04trial/s, best loss: -0.6543967146107453]oof_val score f1 Metric 0.6021107304678609\n",
      "  4%|▍         | 38/1000 [00:39<13:18,  1.20trial/s, best loss: -0.6543967146107453]oof_val score f1 Metric 0.6511702668945504\n",
      "  4%|▍         | 39/1000 [00:40<14:17,  1.12trial/s, best loss: -0.6543967146107453]oof_val score f1 Metric 0.6203801709919619\n",
      "  4%|▍         | 40/1000 [00:41<12:41,  1.26trial/s, best loss: -0.6543967146107453]oof_val score f1 Metric 0.6534235941125276\n",
      "  4%|▍         | 41/1000 [00:42<13:47,  1.16trial/s, best loss: -0.6543967146107453]oof_val score f1 Metric 0.6501596424213351\n",
      "  4%|▍         | 42/1000 [00:43<14:40,  1.09trial/s, best loss: -0.6543967146107453]oof_val score f1 Metric 0.6299451322515721\n",
      "  4%|▍         | 43/1000 [00:44<12:57,  1.23trial/s, best loss: -0.6543967146107453]oof_val score f1 Metric 0.6159959573201582\n",
      "  4%|▍         | 44/1000 [00:45<16:48,  1.05s/trial, best loss: -0.6543967146107453]oof_val score f1 Metric 0.6501077077595462\n",
      "  4%|▍         | 45/1000 [00:46<16:44,  1.05s/trial, best loss: -0.6543967146107453]oof_val score f1 Metric 0.6456799081815042\n",
      "  5%|▍         | 46/1000 [00:48<19:01,  1.20s/trial, best loss: -0.6543967146107453]oof_val score f1 Metric 0.6483188090092447\n",
      "  5%|▍         | 47/1000 [00:49<18:15,  1.15s/trial, best loss: -0.6543967146107453]oof_val score f1 Metric 0.6261105317039134\n",
      "  5%|▍         | 48/1000 [00:49<15:12,  1.04trial/s, best loss: -0.6543967146107453]oof_val score f1 Metric 0.6482017993758517\n",
      "  5%|▍         | 49/1000 [00:51<17:51,  1.13s/trial, best loss: -0.6543967146107453]oof_val score f1 Metric 0.6517798746347231\n",
      "  5%|▌         | 50/1000 [00:52<17:22,  1.10s/trial, best loss: -0.6543967146107453]oof_val score f1 Metric 0.6527150984693985\n",
      "  5%|▌         | 51/1000 [00:53<17:05,  1.08s/trial, best loss: -0.6543967146107453]oof_val score f1 Metric 0.6431396493628753\n",
      "  5%|▌         | 52/1000 [00:54<19:05,  1.21s/trial, best loss: -0.6543967146107453]oof_val score f1 Metric 0.6179196482724318\n",
      "  5%|▌         | 53/1000 [00:55<15:46,  1.00trial/s, best loss: -0.6543967146107453]oof_val score f1 Metric 0.6513790077475582\n",
      "  5%|▌         | 54/1000 [00:56<15:55,  1.01s/trial, best loss: -0.6543967146107453]oof_val score f1 Metric 0.6488094267216675\n",
      "  6%|▌         | 55/1000 [00:57<16:07,  1.02s/trial, best loss: -0.6543967146107453]oof_val score f1 Metric 0.638844633195549\n",
      "  6%|▌         | 56/1000 [00:58<16:08,  1.03s/trial, best loss: -0.6543967146107453]oof_val score f1 Metric 0.6398998747678707\n",
      "  6%|▌         | 57/1000 [01:00<16:34,  1.05s/trial, best loss: -0.6543967146107453]\n",
      "Best parameters: {'clf__alpha': 0.35964131118490433, 'vect__tf__binary': False, 'vect__tf__ngram_range': (1, 2), 'vect__tf__stop_words': True}\n",
      "Mean cross-validated score of the best_estimator: 0.6544\n",
      "Time search : 60.121967696999945\n",
      "\n",
      "\u001b[4mtf+Logistic_Regression_ADJ_NOUN_VERB_lem Model\u001b[0m:\n",
      "- Optimization of parameters:\n",
      "  0%|          | 0/1000 [00:00<?, ?trial/s, best loss=?]oof_val score f1 Metric 0.6668708024398399\n",
      "  0%|          | 1/1000 [00:04<1:12:21,  4.35s/trial, best loss: -0.6668708024398399]oof_val score f1 Metric 0.6718421337676945\n",
      "  0%|          | 2/1000 [00:06<50:23,  3.03s/trial, best loss: -0.6718421337676945]  oof_val score f1 Metric 0.6763774440954977\n",
      "  0%|          | 3/1000 [00:09<49:29,  2.98s/trial, best loss: -0.6763774440954977]oof_val score f1 Metric 0.6737033568914433\n",
      "  0%|          | 4/1000 [00:11<43:28,  2.62s/trial, best loss: -0.6763774440954977]oof_val score f1 Metric 0.6735657175366967\n",
      "  0%|          | 5/1000 [00:13<42:49,  2.58s/trial, best loss: -0.6763774440954977]oof_val score f1 Metric 0.651647883966404\n",
      "  1%|          | 6/1000 [00:16<40:16,  2.43s/trial, best loss: -0.6763774440954977]oof_val score f1 Metric 0.6738922689406303\n",
      "  1%|          | 7/1000 [00:33<2:03:06,  7.44s/trial, best loss: -0.6763774440954977]oof_val score f1 Metric 0.6753398887630387\n",
      "  1%|          | 8/1000 [00:36<1:39:46,  6.03s/trial, best loss: -0.6763774440954977]oof_val score f1 Metric 0.6853880329957613\n",
      "  1%|          | 9/1000 [00:38<1:14:33,  4.51s/trial, best loss: -0.6853880329957613]oof_val score f1 Metric 0.633015024065388\n",
      "  1%|          | 10/1000 [00:39<57:08,  3.46s/trial, best loss: -0.6853880329957613] oof_val score f1 Metric 0.6743934920042481\n",
      "  1%|          | 11/1000 [00:42<54:50,  3.33s/trial, best loss: -0.6853880329957613]oof_val score f1 Metric 0.6880365759734414\n",
      "  1%|          | 12/1000 [01:50<2:32:11,  9.24s/trial, best loss: -0.6880365759734414]\n",
      "Best parameters: {'clf__C': 7.433605760839447, 'clf__penalty': 'l1', 'vect__tf__binary': False, 'vect__tf__ngram_range': (1, 3), 'vect__tf__stop_words': True}\n",
      "Mean cross-validated score of the best_estimator: 0.688\n",
      "Time search : 110.93127171000003\n",
      "\n",
      "\u001b[4mtf-idf+SGD_Classifier_ADJ_NOUN_VERB_lem Model\u001b[0m:\n",
      "- Optimization of parameters:\n",
      "  0%|          | 0/1000 [00:00<?, ?trial/s, best loss=?]oof_val score f1 Metric 0.6942893012233204\n",
      "  0%|          | 1/1000 [00:00<10:54,  1.53trial/s, best loss: -0.6942893012233204]oof_val score f1 Metric 0.6577633263359443\n",
      "  0%|          | 2/1000 [00:01<10:49,  1.54trial/s, best loss: -0.6942893012233204]oof_val score f1 Metric 0.6757253212883727\n",
      "  0%|          | 3/1000 [00:01<11:08,  1.49trial/s, best loss: -0.6942893012233204]oof_val score f1 Metric 0.631466258531782\n",
      "  0%|          | 4/1000 [00:02<11:19,  1.47trial/s, best loss: -0.6942893012233204]oof_val score f1 Metric 0.6161516870592488\n",
      "  0%|          | 5/1000 [00:03<11:06,  1.49trial/s, best loss: -0.6942893012233204]oof_val score f1 Metric 0.4256166783235191\n",
      "  1%|          | 6/1000 [00:05<16:41,  1.01s/trial, best loss: -0.6942893012233204]oof_val score f1 Metric 0.48224549151665236\n",
      "  1%|          | 7/1000 [00:05<14:48,  1.12trial/s, best loss: -0.6942893012233204]oof_val score f1 Metric 0.6585973216519645\n",
      "  1%|          | 8/1000 [00:07<21:54,  1.32s/trial, best loss: -0.6942893012233204]oof_val score f1 Metric 0.49227096012946125\n",
      "  1%|          | 9/1000 [00:08<18:37,  1.13s/trial, best loss: -0.6942893012233204]oof_val score f1 Metric 0.462786378253414\n",
      "  1%|          | 10/1000 [00:10<21:19,  1.29s/trial, best loss: -0.6942893012233204]oof_val score f1 Metric 0.6462793733925839\n",
      "  1%|          | 11/1000 [00:12<25:58,  1.58s/trial, best loss: -0.6942893012233204]oof_val score f1 Metric 0.6723700231743815\n",
      "  1%|          | 12/1000 [00:13<21:22,  1.30s/trial, best loss: -0.6942893012233204]oof_val score f1 Metric 0.6788599734903191\n",
      "  1%|▏         | 13/1000 [00:15<26:13,  1.59s/trial, best loss: -0.6942893012233204]oof_val score f1 Metric 0.6515809968871092\n",
      "  1%|▏         | 14/1000 [00:16<21:52,  1.33s/trial, best loss: -0.6942893012233204]oof_val score f1 Metric 0.6677150196336182\n",
      "  2%|▏         | 15/1000 [00:16<18:38,  1.14s/trial, best loss: -0.6942893012233204]oof_val score f1 Metric 0.46354004322991255\n",
      "  2%|▏         | 16/1000 [00:18<21:08,  1.29s/trial, best loss: -0.6942893012233204]oof_val score f1 Metric 0.6825880569511283\n",
      "  2%|▏         | 17/1000 [00:20<22:46,  1.39s/trial, best loss: -0.6942893012233204]oof_val score f1 Metric 0.25460505300282615\n",
      "  2%|▏         | 18/1000 [00:22<27:07,  1.66s/trial, best loss: -0.6942893012233204]oof_val score f1 Metric 0.5104237763197045\n",
      "  2%|▏         | 19/1000 [00:24<27:01,  1.65s/trial, best loss: -0.6942893012233204]oof_val score f1 Metric 0.6645533580312164\n",
      "  2%|▏         | 20/1000 [00:25<27:06,  1.66s/trial, best loss: -0.6942893012233204]oof_val score f1 Metric 0.6827373364563596\n",
      "  2%|▏         | 21/1000 [00:27<27:34,  1.69s/trial, best loss: -0.6942893012233204]oof_val score f1 Metric 0.6714437910523929\n",
      "  2%|▏         | 22/1000 [00:29<27:55,  1.71s/trial, best loss: -0.6942893012233204]oof_val score f1 Metric 0.6748862981408678\n",
      "  2%|▏         | 23/1000 [00:31<28:25,  1.75s/trial, best loss: -0.6942893012233204]oof_val score f1 Metric 0.6430285742779368\n",
      "  2%|▏         | 24/1000 [00:32<29:07,  1.79s/trial, best loss: -0.6942893012233204]oof_val score f1 Metric 0.6808209364181761\n",
      "  2%|▎         | 25/1000 [00:34<29:30,  1.82s/trial, best loss: -0.6942893012233204]oof_val score f1 Metric 0.4875791470585265\n",
      "  3%|▎         | 26/1000 [00:37<33:20,  2.05s/trial, best loss: -0.6942893012233204]oof_val score f1 Metric 0.654491353322118\n",
      "  3%|▎         | 27/1000 [00:38<27:01,  1.67s/trial, best loss: -0.6942893012233204]oof_val score f1 Metric 0.6819255894139388\n",
      "  3%|▎         | 28/1000 [00:38<22:17,  1.38s/trial, best loss: -0.6942893012233204]oof_val score f1 Metric 0.6858694236019421\n",
      "  3%|▎         | 29/1000 [00:40<24:30,  1.51s/trial, best loss: -0.6942893012233204]oof_val score f1 Metric 0.6222118091244148\n",
      "  3%|▎         | 30/1000 [00:41<20:42,  1.28s/trial, best loss: -0.6942893012233204]oof_val score f1 Metric 0.6911054322314882\n",
      "  3%|▎         | 31/1000 [00:42<18:11,  1.13s/trial, best loss: -0.6942893012233204]oof_val score f1 Metric 0.6542309858259334\n",
      "  3%|▎         | 32/1000 [00:43<16:32,  1.03s/trial, best loss: -0.6942893012233204]oof_val score f1 Metric 0.6816062702879483\n",
      "  3%|▎         | 33/1000 [00:43<15:18,  1.05trial/s, best loss: -0.6942893012233204]oof_val score f1 Metric 0.6943417483945805\n",
      "  3%|▎         | 34/1000 [00:44<14:10,  1.14trial/s, best loss: -0.6943417483945805]oof_val score f1 Metric 0.5990181637836719\n",
      "  4%|▎         | 35/1000 [00:45<13:23,  1.20trial/s, best loss: -0.6943417483945805]oof_val score f1 Metric 0.6756128503485214\n",
      "  4%|▎         | 36/1000 [00:45<13:00,  1.24trial/s, best loss: -0.6943417483945805]oof_val score f1 Metric 0.6498448532296411\n",
      "  4%|▎         | 37/1000 [00:46<12:48,  1.25trial/s, best loss: -0.6943417483945805]oof_val score f1 Metric 0.6955315163138849\n",
      "  4%|▍         | 38/1000 [00:47<12:32,  1.28trial/s, best loss: -0.6955315163138849]oof_val score f1 Metric 0.6955315163138849\n",
      "  4%|▍         | 39/1000 [00:48<12:41,  1.26trial/s, best loss: -0.6955315163138849]oof_val score f1 Metric 0.6955419816487588\n",
      "  4%|▍         | 40/1000 [00:49<12:40,  1.26trial/s, best loss: -0.6955419816487588]oof_val score f1 Metric 0.6498369336539253\n",
      "  4%|▍         | 41/1000 [00:52<24:13,  1.52s/trial, best loss: -0.6955419816487588]oof_val score f1 Metric 0.40618052098888335\n",
      "  4%|▍         | 42/1000 [00:53<20:45,  1.30s/trial, best loss: -0.6955419816487588]oof_val score f1 Metric 0.6231212658333597\n",
      "  4%|▍         | 43/1000 [00:53<18:19,  1.15s/trial, best loss: -0.6955419816487588]oof_val score f1 Metric 0.5859485378935226\n",
      "  4%|▍         | 44/1000 [00:57<28:01,  1.76s/trial, best loss: -0.6955419816487588]oof_val score f1 Metric 0.6955419816487588\n",
      "  4%|▍         | 45/1000 [00:57<23:46,  1.49s/trial, best loss: -0.6955419816487588]oof_val score f1 Metric 0.6613705121651587\n",
      "  5%|▍         | 46/1000 [00:58<20:44,  1.30s/trial, best loss: -0.6955419816487588]oof_val score f1 Metric 0.6720871579053913\n",
      "  5%|▍         | 47/1000 [00:59<18:22,  1.16s/trial, best loss: -0.6955419816487588]oof_val score f1 Metric 0.5987998104791123\n",
      "  5%|▍         | 48/1000 [01:03<20:59,  1.32s/trial, best loss: -0.6955419816487588]\n",
      "Best parameters: {'clf__alpha': 0.0001356689123995583, 'clf__loss': 'log', 'clf__penalty': 'l1', 'vect__tfidf__binary': False, 'vect__tfidf__ngram_range': (1, 1), 'vect__tfidf__stop_words': None}\n",
      "Mean cross-validated score of the best_estimator: 0.6955\n",
      "Time search : 63.553496526\n"
     ]
    }
   ],
   "source": [
    "autonlp.train()"
   ]
  },
  {
   "cell_type": "markdown",
   "metadata": {
    "papermill": {
     "duration": 0.633509,
     "end_time": "2021-09-28T12:20:04.364148",
     "exception": false,
     "start_time": "2021-09-28T12:20:03.730639",
     "status": "completed"
    },
    "tags": []
   },
   "source": [
    "# Leaderboard (Train score)"
   ]
  },
  {
   "cell_type": "code",
   "execution_count": 12,
   "metadata": {
    "execution": {
     "iopub.execute_input": "2021-09-28T12:20:05.713984Z",
     "iopub.status.busy": "2021-09-28T12:20:05.712826Z",
     "iopub.status.idle": "2021-09-28T12:20:05.715348Z",
     "shell.execute_reply": "2021-09-28T12:20:05.716089Z"
    },
    "papermill": {
     "duration": 0.698387,
     "end_time": "2021-09-28T12:20:05.716446",
     "exception": false,
     "start_time": "2021-09-28T12:20:05.018059",
     "status": "completed"
    },
    "tags": []
   },
   "outputs": [],
   "source": [
    "#leaderboard_train = autonlp.get_leaderboard(sort_by=flags.sort_leaderboard, dataset='train')\n",
    "#print('Train Leaderboard')\n",
    "#leaderboard_train.to_csv(os.path.join(flags.outdir,'leaderboard_train.csv'), index=False)\n",
    "#leaderboard_train"
   ]
  },
  {
   "cell_type": "markdown",
   "metadata": {
    "papermill": {
     "duration": 0.660919,
     "end_time": "2021-09-28T12:20:07.054094",
     "exception": false,
     "start_time": "2021-09-28T12:20:06.393175",
     "status": "completed"
    },
    "tags": []
   },
   "source": [
    "# Leaderboard (Validation score)"
   ]
  },
  {
   "cell_type": "code",
   "execution_count": 13,
   "metadata": {
    "execution": {
     "iopub.execute_input": "2021-09-28T12:20:08.410651Z",
     "iopub.status.busy": "2021-09-28T12:20:08.408091Z",
     "iopub.status.idle": "2021-09-28T12:20:08.418703Z",
     "shell.execute_reply": "2021-09-28T12:20:08.419386Z"
    },
    "papermill": {
     "duration": 0.703679,
     "end_time": "2021-09-28T12:20:08.419796",
     "exception": false,
     "start_time": "2021-09-28T12:20:07.716117",
     "status": "completed"
    },
    "tags": []
   },
   "outputs": [],
   "source": [
    "#leaderboard_val = autonlp.get_leaderboard(sort_by=flags.sort_leaderboard, dataset='val')\n",
    "#print('\\nValidation Leaderboard')\n",
    "#leaderboard_val.to_csv(os.path.join(flags.outdir,'leaderboard_val.csv'), index=False)\n",
    "#leaderboard_val"
   ]
  },
  {
   "cell_type": "code",
   "execution_count": 14,
   "metadata": {
    "execution": {
     "iopub.execute_input": "2021-09-28T12:20:09.796446Z",
     "iopub.status.busy": "2021-09-28T12:20:09.795668Z",
     "iopub.status.idle": "2021-09-28T12:20:09.806218Z",
     "shell.execute_reply": "2021-09-28T12:20:09.805289Z"
    },
    "papermill": {
     "duration": 0.670488,
     "end_time": "2021-09-28T12:20:09.806513",
     "exception": false,
     "start_time": "2021-09-28T12:20:09.136025",
     "status": "completed"
    },
    "tags": []
   },
   "outputs": [],
   "source": [
    "# correlation between oof_val predictions\n",
    "#autonlp.correlation_models()"
   ]
  },
  {
   "cell_type": "code",
   "execution_count": 15,
   "metadata": {
    "execution": {
     "iopub.execute_input": "2021-09-28T12:20:11.095127Z",
     "iopub.status.busy": "2021-09-28T12:20:11.085732Z",
     "iopub.status.idle": "2021-09-28T12:20:11.131987Z",
     "shell.execute_reply": "2021-09-28T12:20:11.132639Z"
    },
    "papermill": {
     "duration": 0.714591,
     "end_time": "2021-09-28T12:20:11.133194",
     "exception": false,
     "start_time": "2021-09-28T12:20:10.418603",
     "status": "completed"
    },
    "tags": []
   },
   "outputs": [
    {
     "name": "stdout",
     "output_type": "stream",
     "text": [
      "\n",
      "GridSearch information Leaderboard\n",
      "                                          mean_fit_time  train_score  \\\n",
      "model                                                                  \n",
      "tf+Logistic_Regression_ADJ_NOUN_VERB_lem       9.235318     0.937909   \n",
      "tf+Naive_Bayes_ADJ_NOUN_VERB_lem               1.043083     0.936271   \n",
      "tf-idf+SGD_Classifier_ADJ_NOUN_VERB_lem        1.306168     0.755746   \n",
      "\n",
      "                                          mean_test_score  std_test_score  \n",
      "model                                                                      \n",
      "tf+Logistic_Regression_ADJ_NOUN_VERB_lem         0.670339               0  \n",
      "tf+Naive_Bayes_ADJ_NOUN_VERB_lem                 0.641003               0  \n",
      "tf-idf+SGD_Classifier_ADJ_NOUN_VERB_lem          0.620827               0  \n"
     ]
    }
   ],
   "source": [
    "df_all_results = pd.read_csv(\"/kaggle/working/logs/df_all_results.csv\")\n",
    "if len(df_all_results) > 0:\n",
    "    df_all_results_mean = df_all_results.groupby('model').mean().sort_values('mean_test_score', ascending=False)\n",
    "    print('\\nGridSearch information Leaderboard')\n",
    "    df_all_results.to_csv(os.path.join(flags.outdir,'df_all_results_mean.csv'), index=False)\n",
    "    print(df_all_results_mean)"
   ]
  },
  {
   "cell_type": "code",
   "execution_count": 16,
   "metadata": {
    "execution": {
     "iopub.execute_input": "2021-09-28T12:20:12.480509Z",
     "iopub.status.busy": "2021-09-28T12:20:12.479399Z",
     "iopub.status.idle": "2021-09-28T12:20:12.526286Z",
     "shell.execute_reply": "2021-09-28T12:20:12.525344Z"
    },
    "papermill": {
     "duration": 0.710051,
     "end_time": "2021-09-28T12:20:12.526618",
     "exception": false,
     "start_time": "2021-09-28T12:20:11.816567",
     "status": "completed"
    },
    "tags": []
   },
   "outputs": [
    {
     "data": {
      "text/html": [
       "<div>\n",
       "<style scoped>\n",
       "    .dataframe tbody tr th:only-of-type {\n",
       "        vertical-align: middle;\n",
       "    }\n",
       "\n",
       "    .dataframe tbody tr th {\n",
       "        vertical-align: top;\n",
       "    }\n",
       "\n",
       "    .dataframe thead th {\n",
       "        text-align: right;\n",
       "    }\n",
       "</style>\n",
       "<table border=\"1\" class=\"dataframe\">\n",
       "  <thead>\n",
       "    <tr style=\"text-align: right;\">\n",
       "      <th></th>\n",
       "      <th>mean_fit_time</th>\n",
       "      <th>params</th>\n",
       "      <th>train_score</th>\n",
       "      <th>mean_test_score</th>\n",
       "      <th>std_test_score</th>\n",
       "      <th>model</th>\n",
       "    </tr>\n",
       "  </thead>\n",
       "  <tbody>\n",
       "    <tr>\n",
       "      <th>0</th>\n",
       "      <td>1.041274</td>\n",
       "      <td>{'clf__alpha': 0.35964131118490433, 'vect__tf_...</td>\n",
       "      <td>0.956656</td>\n",
       "      <td>0.654397</td>\n",
       "      <td>0</td>\n",
       "      <td>tf+Naive_Bayes_ADJ_NOUN_VERB_lem</td>\n",
       "    </tr>\n",
       "    <tr>\n",
       "      <th>1</th>\n",
       "      <td>1.030615</td>\n",
       "      <td>{'clf__alpha': 0.3579633867949643, 'vect__tf__...</td>\n",
       "      <td>0.957001</td>\n",
       "      <td>0.653989</td>\n",
       "      <td>0</td>\n",
       "      <td>tf+Naive_Bayes_ADJ_NOUN_VERB_lem</td>\n",
       "    </tr>\n",
       "    <tr>\n",
       "      <th>2</th>\n",
       "      <td>1.011639</td>\n",
       "      <td>{'clf__alpha': 0.5222558095698588, 'vect__tf__...</td>\n",
       "      <td>0.961334</td>\n",
       "      <td>0.653424</td>\n",
       "      <td>0</td>\n",
       "      <td>tf+Naive_Bayes_ADJ_NOUN_VERB_lem</td>\n",
       "    </tr>\n",
       "    <tr>\n",
       "      <th>3</th>\n",
       "      <td>1.015138</td>\n",
       "      <td>{'clf__alpha': 0.38560774648933743, 'vect__tf_...</td>\n",
       "      <td>0.956720</td>\n",
       "      <td>0.652802</td>\n",
       "      <td>0</td>\n",
       "      <td>tf+Naive_Bayes_ADJ_NOUN_VERB_lem</td>\n",
       "    </tr>\n",
       "    <tr>\n",
       "      <th>4</th>\n",
       "      <td>1.018093</td>\n",
       "      <td>{'clf__alpha': 0.38472619151433507, 'vect__tf_...</td>\n",
       "      <td>0.956720</td>\n",
       "      <td>0.652802</td>\n",
       "      <td>0</td>\n",
       "      <td>tf+Naive_Bayes_ADJ_NOUN_VERB_lem</td>\n",
       "    </tr>\n",
       "    <tr>\n",
       "      <th>...</th>\n",
       "      <td>...</td>\n",
       "      <td>...</td>\n",
       "      <td>...</td>\n",
       "      <td>...</td>\n",
       "      <td>...</td>\n",
       "      <td>...</td>\n",
       "    </tr>\n",
       "    <tr>\n",
       "      <th>112</th>\n",
       "      <td>1.636110</td>\n",
       "      <td>{'clf__alpha': 0.008969360456189417, 'clf__los...</td>\n",
       "      <td>0.462379</td>\n",
       "      <td>0.463540</td>\n",
       "      <td>0</td>\n",
       "      <td>tf-idf+SGD_Classifier_ADJ_NOUN_VERB_lem</td>\n",
       "    </tr>\n",
       "    <tr>\n",
       "      <th>113</th>\n",
       "      <td>1.654157</td>\n",
       "      <td>{'clf__alpha': 0.009546781485041874, 'clf__los...</td>\n",
       "      <td>0.457220</td>\n",
       "      <td>0.462786</td>\n",
       "      <td>0</td>\n",
       "      <td>tf-idf+SGD_Classifier_ADJ_NOUN_VERB_lem</td>\n",
       "    </tr>\n",
       "    <tr>\n",
       "      <th>114</th>\n",
       "      <td>1.652609</td>\n",
       "      <td>{'clf__alpha': 0.0023084423263194606, 'clf__lo...</td>\n",
       "      <td>0.422673</td>\n",
       "      <td>0.425617</td>\n",
       "      <td>0</td>\n",
       "      <td>tf-idf+SGD_Classifier_ADJ_NOUN_VERB_lem</td>\n",
       "    </tr>\n",
       "    <tr>\n",
       "      <th>115</th>\n",
       "      <td>0.772371</td>\n",
       "      <td>{'clf__alpha': 0.004576696871762938, 'clf__los...</td>\n",
       "      <td>0.409843</td>\n",
       "      <td>0.406181</td>\n",
       "      <td>0</td>\n",
       "      <td>tf-idf+SGD_Classifier_ADJ_NOUN_VERB_lem</td>\n",
       "    </tr>\n",
       "    <tr>\n",
       "      <th>116</th>\n",
       "      <td>2.271480</td>\n",
       "      <td>{'clf__alpha': 0.0057454412695490025, 'clf__lo...</td>\n",
       "      <td>0.254645</td>\n",
       "      <td>0.254605</td>\n",
       "      <td>0</td>\n",
       "      <td>tf-idf+SGD_Classifier_ADJ_NOUN_VERB_lem</td>\n",
       "    </tr>\n",
       "  </tbody>\n",
       "</table>\n",
       "<p>117 rows × 6 columns</p>\n",
       "</div>"
      ],
      "text/plain": [
       "     mean_fit_time                                             params  \\\n",
       "0         1.041274  {'clf__alpha': 0.35964131118490433, 'vect__tf_...   \n",
       "1         1.030615  {'clf__alpha': 0.3579633867949643, 'vect__tf__...   \n",
       "2         1.011639  {'clf__alpha': 0.5222558095698588, 'vect__tf__...   \n",
       "3         1.015138  {'clf__alpha': 0.38560774648933743, 'vect__tf_...   \n",
       "4         1.018093  {'clf__alpha': 0.38472619151433507, 'vect__tf_...   \n",
       "..             ...                                                ...   \n",
       "112       1.636110  {'clf__alpha': 0.008969360456189417, 'clf__los...   \n",
       "113       1.654157  {'clf__alpha': 0.009546781485041874, 'clf__los...   \n",
       "114       1.652609  {'clf__alpha': 0.0023084423263194606, 'clf__lo...   \n",
       "115       0.772371  {'clf__alpha': 0.004576696871762938, 'clf__los...   \n",
       "116       2.271480  {'clf__alpha': 0.0057454412695490025, 'clf__lo...   \n",
       "\n",
       "     train_score  mean_test_score  std_test_score  \\\n",
       "0       0.956656         0.654397               0   \n",
       "1       0.957001         0.653989               0   \n",
       "2       0.961334         0.653424               0   \n",
       "3       0.956720         0.652802               0   \n",
       "4       0.956720         0.652802               0   \n",
       "..           ...              ...             ...   \n",
       "112     0.462379         0.463540               0   \n",
       "113     0.457220         0.462786               0   \n",
       "114     0.422673         0.425617               0   \n",
       "115     0.409843         0.406181               0   \n",
       "116     0.254645         0.254605               0   \n",
       "\n",
       "                                       model  \n",
       "0           tf+Naive_Bayes_ADJ_NOUN_VERB_lem  \n",
       "1           tf+Naive_Bayes_ADJ_NOUN_VERB_lem  \n",
       "2           tf+Naive_Bayes_ADJ_NOUN_VERB_lem  \n",
       "3           tf+Naive_Bayes_ADJ_NOUN_VERB_lem  \n",
       "4           tf+Naive_Bayes_ADJ_NOUN_VERB_lem  \n",
       "..                                       ...  \n",
       "112  tf-idf+SGD_Classifier_ADJ_NOUN_VERB_lem  \n",
       "113  tf-idf+SGD_Classifier_ADJ_NOUN_VERB_lem  \n",
       "114  tf-idf+SGD_Classifier_ADJ_NOUN_VERB_lem  \n",
       "115  tf-idf+SGD_Classifier_ADJ_NOUN_VERB_lem  \n",
       "116  tf-idf+SGD_Classifier_ADJ_NOUN_VERB_lem  \n",
       "\n",
       "[117 rows x 6 columns]"
      ]
     },
     "execution_count": 16,
     "metadata": {},
     "output_type": "execute_result"
    }
   ],
   "source": [
    "df_all_results"
   ]
  },
  {
   "cell_type": "code",
   "execution_count": 17,
   "metadata": {
    "execution": {
     "iopub.execute_input": "2021-09-28T12:20:13.832142Z",
     "iopub.status.busy": "2021-09-28T12:20:13.830702Z",
     "iopub.status.idle": "2021-09-28T12:20:13.854299Z",
     "shell.execute_reply": "2021-09-28T12:20:13.854976Z"
    },
    "papermill": {
     "duration": 0.667187,
     "end_time": "2021-09-28T12:20:13.855254",
     "exception": false,
     "start_time": "2021-09-28T12:20:13.188067",
     "status": "completed"
    },
    "tags": []
   },
   "outputs": [
    {
     "data": {
      "text/plain": [
       "model\n",
       "tf+Logistic_Regression_ADJ_NOUN_VERB_lem    0.688037\n",
       "tf+Naive_Bayes_ADJ_NOUN_VERB_lem            0.654397\n",
       "tf-idf+SGD_Classifier_ADJ_NOUN_VERB_lem     0.695542\n",
       "Name: mean_test_score, dtype: float64"
      ]
     },
     "execution_count": 17,
     "metadata": {},
     "output_type": "execute_result"
    }
   ],
   "source": [
    "df_all_results.groupby(['model'])['mean_test_score'].max()"
   ]
  },
  {
   "cell_type": "code",
   "execution_count": 18,
   "metadata": {
    "execution": {
     "iopub.execute_input": "2021-09-28T12:20:15.195748Z",
     "iopub.status.busy": "2021-09-28T12:20:15.194920Z",
     "iopub.status.idle": "2021-09-28T12:20:15.265804Z",
     "shell.execute_reply": "2021-09-28T12:20:15.265119Z"
    },
    "papermill": {
     "duration": 0.744558,
     "end_time": "2021-09-28T12:20:15.266035",
     "exception": false,
     "start_time": "2021-09-28T12:20:14.521477",
     "status": "completed"
    },
    "tags": []
   },
   "outputs": [
    {
     "data": {
      "image/png": "[encoded data removed]",
      "text/plain": [
       "<PIL.PngImagePlugin.PngImageFile image mode=RGBA size=700x500 at 0x7FD2369E7B90>"
      ]
     },
     "execution_count": 18,
     "metadata": {},
     "output_type": "execute_result"
    }
   ],
   "source": [
    "from PIL import Image\n",
    "Image.open(os.path.join(flags.outdir, 'boxplot_df_all_results.png'))"
   ]
  },
  {
   "cell_type": "code",
   "execution_count": 19,
   "metadata": {
    "execution": {
     "iopub.execute_input": "2021-09-28T12:20:16.730632Z",
     "iopub.status.busy": "2021-09-28T12:20:16.729598Z",
     "iopub.status.idle": "2021-09-28T12:20:16.740132Z",
     "shell.execute_reply": "2021-09-28T12:20:16.739113Z"
    },
    "papermill": {
     "duration": 0.6578,
     "end_time": "2021-09-28T12:20:16.740477",
     "exception": false,
     "start_time": "2021-09-28T12:20:16.082677",
     "status": "completed"
    },
    "tags": []
   },
   "outputs": [],
   "source": [
    "#try:\n",
    "#    Image.open(os.path.join(flags.outdir, 'last_logs', 'metric_scores_val.png'))\n",
    "#except:\n",
    "#    pass"
   ]
  },
  {
   "cell_type": "markdown",
   "metadata": {
    "papermill": {
     "duration": 0.642945,
     "end_time": "2021-09-28T12:20:18.214290",
     "exception": false,
     "start_time": "2021-09-28T12:20:17.571345",
     "status": "completed"
    },
    "tags": []
   },
   "source": [
    "# Testing on test set from train/test split"
   ]
  },
  {
   "cell_type": "code",
   "execution_count": 20,
   "metadata": {
    "execution": {
     "iopub.execute_input": "2021-09-28T12:20:19.612136Z",
     "iopub.status.busy": "2021-09-28T12:20:19.610106Z",
     "iopub.status.idle": "2021-09-28T12:20:19.618834Z",
     "shell.execute_reply": "2021-09-28T12:20:19.617951Z"
    },
    "papermill": {
     "duration": 0.741683,
     "end_time": "2021-09-28T12:20:19.619080",
     "exception": false,
     "start_time": "2021-09-28T12:20:18.877397",
     "status": "completed"
    },
    "tags": []
   },
   "outputs": [],
   "source": [
    "#name_logs = 'best_logs'\n",
    "#on_test_data = True\n",
    "#autonlp.leader_predict(name_logs = name_logs, on_test_data = on_test_data)"
   ]
  },
  {
   "cell_type": "code",
   "execution_count": 21,
   "metadata": {
    "execution": {
     "iopub.execute_input": "2021-09-28T12:20:20.975946Z",
     "iopub.status.busy": "2021-09-28T12:20:20.974112Z",
     "iopub.status.idle": "2021-09-28T12:20:20.978287Z",
     "shell.execute_reply": "2021-09-28T12:20:20.978983Z"
    },
    "papermill": {
     "duration": 0.689777,
     "end_time": "2021-09-28T12:20:20.979368",
     "exception": false,
     "start_time": "2021-09-28T12:20:20.289591",
     "status": "completed"
    },
    "tags": []
   },
   "outputs": [],
   "source": [
    "#leaderboard_test = autonlp.get_leaderboard(sort_by=flags.sort_leaderboard, dataset='test', info_models=autonlp.info_models)\n",
    "#print('\\nTest Leaderboard')\n",
    "#leaderboard_test"
   ]
  },
  {
   "cell_type": "markdown",
   "metadata": {
    "papermill": {
     "duration": 0.685814,
     "end_time": "2021-09-28T12:20:22.326464",
     "exception": false,
     "start_time": "2021-09-28T12:20:21.640650",
     "status": "completed"
    },
    "tags": []
   },
   "source": [
    "# Testing on other test set"
   ]
  },
  {
   "cell_type": "code",
   "execution_count": 22,
   "metadata": {
    "execution": {
     "iopub.execute_input": "2021-09-28T12:20:23.638894Z",
     "iopub.status.busy": "2021-09-28T12:20:23.637475Z",
     "iopub.status.idle": "2021-09-28T12:20:23.646196Z",
     "shell.execute_reply": "2021-09-28T12:20:23.645022Z"
    },
    "papermill": {
     "duration": 0.680487,
     "end_time": "2021-09-28T12:20:23.646484",
     "exception": false,
     "start_time": "2021-09-28T12:20:22.965997",
     "status": "completed"
    },
    "tags": []
   },
   "outputs": [],
   "source": [
    "#data_test = pd.read_csv(\"/kaggle/input/finance-corpus/FinancialPhraseBank_test.csv\")"
   ]
  },
  {
   "cell_type": "code",
   "execution_count": 23,
   "metadata": {
    "execution": {
     "iopub.execute_input": "2021-09-28T12:20:25.033001Z",
     "iopub.status.busy": "2021-09-28T12:20:25.031272Z",
     "iopub.status.idle": "2021-09-28T12:20:25.034901Z",
     "shell.execute_reply": "2021-09-28T12:20:25.035462Z"
    },
    "papermill": {
     "duration": 0.688346,
     "end_time": "2021-09-28T12:20:25.035715",
     "exception": false,
     "start_time": "2021-09-28T12:20:24.347369",
     "status": "completed"
    },
    "tags": []
   },
   "outputs": [],
   "source": [
    "#X_test, doc_spacy_data_test, Y_test = autonlp.preprocess_test_data(data_test)"
   ]
  },
  {
   "cell_type": "code",
   "execution_count": 24,
   "metadata": {
    "execution": {
     "iopub.execute_input": "2021-09-28T12:20:26.412466Z",
     "iopub.status.busy": "2021-09-28T12:20:26.411047Z",
     "iopub.status.idle": "2021-09-28T12:20:26.416456Z",
     "shell.execute_reply": "2021-09-28T12:20:26.417035Z"
    },
    "papermill": {
     "duration": 0.6754,
     "end_time": "2021-09-28T12:20:26.417354",
     "exception": false,
     "start_time": "2021-09-28T12:20:25.741954",
     "status": "completed"
    },
    "tags": []
   },
   "outputs": [],
   "source": [
    "#name_logs = 'best_logs'\n",
    "#on_test_data = False\n",
    "#autonlp.leader_predict(name_logs = name_logs, on_test_data = on_test_data, x = X_test, y=Y_test,\n",
    "#                       doc_spacy_data_test = doc_spacy_data_test)"
   ]
  },
  {
   "cell_type": "code",
   "execution_count": 25,
   "metadata": {
    "execution": {
     "iopub.execute_input": "2021-09-28T12:20:27.743708Z",
     "iopub.status.busy": "2021-09-28T12:20:27.741124Z",
     "iopub.status.idle": "2021-09-28T12:20:27.751183Z",
     "shell.execute_reply": "2021-09-28T12:20:27.749961Z"
    },
    "papermill": {
     "duration": 0.675887,
     "end_time": "2021-09-28T12:20:27.751604",
     "exception": false,
     "start_time": "2021-09-28T12:20:27.075717",
     "status": "completed"
    },
    "tags": []
   },
   "outputs": [],
   "source": [
    "#leaderboard_test = autonlp.get_leaderboard(sort_by=flags.sort_leaderboard, dataset='test', info_models=autonlp.info_models)\n",
    "#print('\\nTest Leaderboard')\n",
    "#leaderboard_test"
   ]
  }
 ],
 "metadata": {
  "kernelspec": {
   "display_name": "Python 3",
   "language": "python",
   "name": "python3"
  },
  "language_info": {
   "codemirror_mode": {
    "name": "ipython",
    "version": 3
   },
   "file_extension": ".py",
   "mimetype": "text/x-python",
   "name": "python",
   "nbconvert_exporter": "python",
   "pygments_lexer": "ipython3",
   "version": "3.7.9"
  },
  "papermill": {
   "default_parameters": {},
   "duration": 474.289034,
   "end_time": "2021-09-28T12:20:33.566765",
   "environment_variables": {},
   "exception": null,
   "input_path": "__notebook__.ipynb",
   "output_path": "__notebook__.ipynb",
   "parameters": {},
   "start_time": "2021-09-28T12:12:39.277731",
   "version": "2.2.2"
  }
 },
 "nbformat": 4,
 "nbformat_minor": 4
}
